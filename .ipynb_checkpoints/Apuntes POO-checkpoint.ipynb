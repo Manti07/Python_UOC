{
 "cells": [
  {
   "cell_type": "code",
   "execution_count": null,
   "id": "4ef241ab-8733-432e-8360-33d7a3574b7e",
   "metadata": {},
   "outputs": [],
   "source": [
    "#"
   ]
  },
  {
   "cell_type": "markdown",
   "id": "0c2f0987-5338-4a41-a4fe-97d58fb6ed68",
   "metadata": {},
   "source": [
    "Hay unos conceptos clave para la POO, solo empezar, las propias **classes**, siendo una plantilla que define el comportamiento y atrubitos de los objetos que nazcan de ella. Los **objetos** son instancias de la classe.\n",
    "\n",
    "Se pueden crear sub-classes o **classes hijos** que reciben todos los atributos y metodos de la classe superior."
   ]
  }
 ],
 "metadata": {
  "kernelspec": {
   "display_name": "Python 3 (ipykernel)",
   "language": "python",
   "name": "python3"
  },
  "language_info": {
   "codemirror_mode": {
    "name": "ipython",
    "version": 3
   },
   "file_extension": ".py",
   "mimetype": "text/x-python",
   "name": "python",
   "nbconvert_exporter": "python",
   "pygments_lexer": "ipython3",
   "version": "3.10.12"
  }
 },
 "nbformat": 4,
 "nbformat_minor": 5
}
