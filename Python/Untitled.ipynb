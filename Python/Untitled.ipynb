{
 "cells": [
  {
   "cell_type": "markdown",
   "id": "3b5b30a6-3033-455e-abda-2bc1e97f5563",
   "metadata": {},
   "source": [
    "# Introducción a Python (**Again**)\n",
    "\n",
    "[Github](https://github.com/Manti07/first-contributions)"
   ]
  },
  {
   "cell_type": "markdown",
   "id": "17870ed6-3275-4ee0-8361-6595bb6529c7",
   "metadata": {},
   "source": [
    "## Tipos de almacenamiento de informacion, Python"
   ]
  },
  {
   "cell_type": "markdown",
   "id": "a6840295-5dc1-4d20-9c91-8eb80e525008",
   "metadata": {
    "jp-MarkdownHeadingCollapsed": true
   },
   "source": [
    "### Ejercicios de listas\n",
    "    "
   ]
  },
  {
   "cell_type": "code",
   "execution_count": null,
   "id": "c8de8456-2e3e-4b70-abbd-b140b9f3cdf1",
   "metadata": {
    "scrolled": true
   },
   "outputs": [],
   "source": [
    "Month_list=['Jan', 'Feb', 'March', 'April', 'May', 'June', 'Jul', 'Aug', 'Sep', 'Oct', 'Nov', 'Dec']\n",
    "\n",
    "Month_list.append('Fin de año')\n",
    "print(Month_list)\n",
    "print('\\n')\n",
    "\n",
    "Month_list.remove('Fin de año')\n",
    "print(Month_list)\n",
    "print('\\n')\n",
    "\n",
    "second_tri=Month_list[3:6]\n",
    "print(second_tri)\n",
    "print('\\n')\n",
    "\n",
    "Month_list.reverse()\n",
    "print(Month_list)\n",
    "print('\\n')\n",
    "\n",
    "Month_list.sort()\n",
    "print(Month_list)\n",
    "print('\\n')\n",
    "\n",
    "print(Month_list.index('Jul'))\n",
    "print('\\n')\n",
    "\n",
    "Month_list=['Jan', 'Feb', 'March', 'April', 'May', 'June', 'Jul', 'Aug', 'Sep', 'Oct', 'Nov', 'Dec']\n",
    "trim_list=[Month_list[3*i:3*i+3] for i in range(0,len(Month_list)//3)]\n",
    "print(trim_list)\n",
    "print('\\n')\n",
    "for i in range(0,len(trim_list)):\n",
    "    for j in range(0, len(trim_list[i])):\n",
    "        print(f'El {i*3+ 1 + j} mes del año es {trim_list[i][j]}')"
   ]
  },
  {
   "cell_type": "markdown",
   "id": "49339c72-47d2-459f-a111-7a27ea9c12bb",
   "metadata": {
    "jp-MarkdownHeadingCollapsed": true,
    "scrolled": true
   },
   "source": [
    "### Conjuntos\n",
    "\n",
    "Estructuras de datos no ordenadas usadas de manera similar a los homonimos de algebra, elementos repetidos creo que son ignorados (**Cuidado!!**)\n"
   ]
  },
  {
   "cell_type": "code",
   "execution_count": null,
   "id": "7ccd5c94-0ddb-422f-b97b-0eb8d7d4e517",
   "metadata": {},
   "outputs": [],
   "source": [
    "c1= {1,2,3,4}\n",
    "c2= {3,4,5,6}\n",
    "union= c1|c2\n",
    "\n",
    "interseccion= c1& c2\n",
    "diferencia=c1-c2\n",
    "\n",
    "c1.add(5)\n",
    "c1.remove(3)\n",
    "\n",
    "print(c1)\n",
    "\n",
    "c1.issubset(c2) #Es uno el conjunto del otro? Existe superset tambien"
   ]
  },
  {
   "cell_type": "markdown",
   "id": "10a6d8eb-fe05-4b9f-a6f6-c797fca07b92",
   "metadata": {},
   "source": [
    "### Diccionarios \n",
    "Que te puedo decir que no te suene ya, pruebas igualmente o guardatelo"
   ]
  },
  {
   "cell_type": "code",
   "execution_count": null,
   "id": "15a73eab-9631-4fb0-b084-12675833ad03",
   "metadata": {},
   "outputs": [],
   "source": [
    "dict_id= {'nombre':'Manti', 'edad':5, 'sexo':'Mucho', 'lenguas': ['Math','Physics']}\n",
    "dict_id['hotel?']='trivago'\n",
    "del dict_id['nombre'] #Eliminar la clave-valor de dict\n",
    "\n",
    "####################\n",
    "keys= dict_id.keys() #Conseguir llaves\n",
    "values= dict_id.values() #Conseguir valores\n"
   ]
  },
  {
   "cell_type": "markdown",
   "id": "2c68e08a-6125-4128-addf-27e7708b46f2",
   "metadata": {},
   "source": [
    "## "
   ]
  },
  {
   "cell_type": "markdown",
   "id": "4597eaa0-ed09-4bbe-a3d1-661ec0b0d9b1",
   "metadata": {},
   "source": [
    "## Leer y escribir archivos"
   ]
  },
  {
   "cell_type": "code",
   "execution_count": null,
   "id": "277a7df8-1262-4471-a87d-cb83377497cd",
   "metadata": {},
   "outputs": [],
   "source": [
    "import os\n",
    "\n",
    "out = open('a_file.txt', 'w')\n",
    "\n",
    "for i in range(10):\n",
    "    out.write(f'Linea {i} \\n')\n",
    "\n",
    "out.close()\n",
    "\n",
    "f= open('a_file.txt')\n",
    "for line in f:\n",
    "    print(line)\n",
    "\n",
    "f.close()"
   ]
  },
  {
   "cell_type": "markdown",
   "id": "d8c784a1-aace-411c-abab-bfaae3043b78",
   "metadata": {},
   "source": [
    "## For y diccionarios"
   ]
  },
  {
   "cell_type": "code",
   "execution_count": null,
   "id": "53cd03f2-0ec1-4547-8356-86c2f10a4df3",
   "metadata": {},
   "outputs": [],
   "source": [
    "total_sales= 0\n",
    "sales_data=[200,300,400,500,600,700,800]\n",
    "max_sales=0\n",
    "\n",
    "for day in sales_data:\n",
    "    total_sales+=day\n",
    "    if max_sales < day:\n",
    "        max_sales= day\n",
    "\n",
    "print(total_sales, max_sales)\n",
    "    "
   ]
  },
  {
   "cell_type": "code",
   "execution_count": null,
   "id": "0aa4d3e0-16ec-44f5-a68e-944188c6ecf0",
   "metadata": {},
   "outputs": [],
   "source": [
    "# 1. Toma la entrada de un usuario (controlando que sea un entero)\n",
    "edad = int(input(\"Por favor, introduce tu edad: \"))\n",
    "\n",
    "# 2. Basado en condiciones: devuelve algo o algo más\n",
    "\n",
    "if edad > 0:\n",
    "   if edad < 16:\n",
    "       print(\"NO puedes entrar\")\n",
    "\n",
    "\n",
    "\n",
    "   elif edad >= 16 and edad < 18:\n",
    "       print(\"Puedes entrar\")\n",
    "\n",
    "\n",
    "    elif edad >= 18:\n",
    "       print(\"NO puedes entrar\")\n",
    "\n",
    "else:\n",
    "\n",
    "   print(\"Lo siento, información incorrecta: ¿valor negativo?\")"
   ]
  },
  {
   "cell_type": "code",
   "execution_count": null,
   "id": "34ee3984-c8e2-4b3c-a133-88679beb1b63",
   "metadata": {},
   "outputs": [],
   "source": [
    "contrasenya= '12345678909876dcvbnhjytfgvb+'\n",
    "\n",
    "length== False\n",
    "letter_presence=False\n",
    "number_presence=False\n",
    "special_presence=False\n",
    "\n",
    "if len(contrasenya)>= 12:\n",
    "    length=True\n",
    "\n",
    "for letter in contrasenya:\n",
    "\n",
    "    if letter.isalpha():\n",
    "        letter_presence=True\n",
    "\n",
    "    elif letter.isdigit():\n",
    "        number_presence=True\n",
    "\n",
    "    else:\n",
    "        special_presence=True\n",
    "\n",
    "    if (letter_presence and number_presence and special_presence) == True:\n",
    "        break\n",
    "\n",
    "if (letter_presence and number_presence and special_presence and length) == True:\n",
    "    print('Contraseña segura')\n",
    "\n",
    "else:\n",
    "    print('Contraseña no segura')\n",
    "\n",
    "\n"
   ]
  },
  {
   "cell_type": "markdown",
   "id": "eeecd28a-3b95-4b53-8194-a31405f0414d",
   "metadata": {
    "jp-MarkdownHeadingCollapsed": true
   },
   "source": [
    "### Classificacion huevos por tamaño"
   ]
  },
  {
   "cell_type": "code",
   "execution_count": null,
   "id": "67afa5b1-388f-4ae6-bdbc-bfcdcb7e36aa",
   "metadata": {},
   "outputs": [],
   "source": [
    "classed_egg={'S':0, 'M':0, 'L':0, 'XL':0}\n",
    "pesos_huevos=[0, 53,43,71, 56, 64,81, 92,45,50, 55, 62, 70, 75, 0, -5, 65, 80]\n",
    "for egg in pesos_huevos:\n",
    "    if egg <=0:\n",
    "        print(f'Peso no valido {egg}')\n",
    "            \n",
    "    elif egg < 53:\n",
    "        classed_egg['S'] +=1\n",
    "\n",
    "    elif 53 <= egg < 63:\n",
    "        classed_egg['M'] +=1\n",
    "\n",
    "    elif 63 <= egg < 73:\n",
    "        classed_egg['L'] +=1\n",
    "\n",
    "    else:\n",
    "        classed_egg['XL'] +=1\n",
    "\n",
    "\n",
    "print(classed_egg, len(pesos_huevos))"
   ]
  },
  {
   "cell_type": "markdown",
   "id": "d0325dd6-84bf-4619-8aa7-3b8aa9fafe08",
   "metadata": {
    "jp-MarkdownHeadingCollapsed": true
   },
   "source": [
    "## Bucle while "
   ]
  },
  {
   "cell_type": "code",
   "execution_count": null,
   "id": "5f29a676-d4bc-45ae-b491-ec1e7b2409e3",
   "metadata": {},
   "outputs": [],
   "source": [
    "pass_letter=['a','b','c','d']\n",
    "letter=input('Letra entre a i d')\n",
    "\n",
    "while letter not in pass_letter:\n",
    "    letter=input('Introduce letra entre a i d:')\n",
    "\n",
    "print(f'Has introducido la letra {letter}')"
   ]
  },
  {
   "cell_type": "markdown",
   "id": "0dcb9329-707f-46e5-9269-cc0852e8e268",
   "metadata": {},
   "source": [
    "### Desafío Empresarial: Identificar Oportunidades de Inversión Rentables\n",
    "\n",
    "**Tarea:** Escribe un programa en Python para ayudar a un analista financiero a identificar oportunidades de inversión potencialmente rentables basadas en datos históricos.\n",
    "\n",
    "---\n",
    "\n",
    "## **Instrucciones:**\n",
    "\n",
    "\n",
    "\n",
    "0. **Primero que todo, proporciona el pseudocódigo de este ejercicio.**\n",
    "\n",
    "1. Pide al usuario que ingrese dos enteros: el número de oportunidades de inversión para analizar y el margen de beneficio mínimo aceptable (como porcentaje).\n",
    "\n",
    "2. Para cada oportunidad de inversión, solicita al usuario que ingrese el nombre de la inversión y su margen de beneficio asociado (como porcentaje).\n",
    "\n",
    "3. Verifica e imprime los nombres de las oportunidades de inversión que cumplan o superen el margen de beneficio mínimo aceptable.\n",
    "\n",
    "4. Asegúrate de que el usuario ingrese un número válido de oportunidades y un margen de beneficio válido.\n",
    "\n",
    "5. Utiliza un bucle `for` para iterar a través de cada oportunidad de inversión.\n",
    "\n",
    "6. Implementa una condición para verificar si el margen de beneficio es mayor o igual al margen aceptable mínimo.\n",
    "\n",
    "7. Imprime los nombres de las oportunidades de inversión rentables.\n",
    "\n",
    "\n",
    "\n",
    "---\n",
    "\n",
    "\n",
    "\n",
    "## **Consejos:**\n",
    "\n",
    "\n",
    "\n",
    "- Asegúrate de que el usuario ingrese un número válido de oportunidades de inversión y margen de beneficio (ambos deben ser positivos).\n",
    "\n",
    "- Utiliza cadenas formateadas para mostrar los resultados claramente.\n",
    "\n",
    "\n",
    "\n",
    "---\n",
    "\n",
    "\n",
    "\n",
    "## **Ejemplo de Salida:**\n",
    "\n",
    "\n",
    "\n",
    "```python\n",
    "\n",
    "¡Bienvenido al Analizador de Oportunidades de Inversión!\n",
    "\n",
    "Por favor, introduce el número de oportunidades de inversión: 3\n",
    "\n",
    "Por favor, introduce el margen de beneficio mínimo aceptable (como porcentaje): 10\n",
    "\n",
    "\n",
    "\n",
    "Introduce los detalles de la oportunidad de inversión 1:\n",
    "\n",
    "Nombre de la Inversión: Stock XYZ\n",
    "\n",
    "Margen de Beneficio (como porcentaje): 15\n",
    "\n",
    "\n",
    "\n",
    "Introduce los detalles de la oportunidad de inversión 2:\n",
    "\n",
    "Nombre de la Inversión: Proyecto Inmobiliario\n",
    "\n",
    "Margen de Beneficio (como porcentaje): 8\n",
    "\n",
    "\n",
    "\n",
    "Introduce los detalles de la oportunidad de inversión 3:\n",
    "\n",
    "Nombre de la Inversión: Startup Tecnológica\n",
    "\n",
    "Margen de Beneficio (como porcentaje): 12\n",
    "\n",
    "\n",
    "\n",
    "Oportunidades de inversión rentables (con un margen de beneficio del 10% o superior):\n",
    "\n",
    "1. Stock XYZ\n",
    "\n",
    "3. Startup Tecnológica"
   ]
  },
  {
   "cell_type": "code",
   "execution_count": 8,
   "id": "2cb14c6e-b2f8-4d1e-ae58-9d7a2bbff80f",
   "metadata": {},
   "outputs": [
    {
     "name": "stdout",
     "output_type": "stream",
     "text": [
      "Bienvenido al Analizador de oportunidades de Inversión\n"
     ]
    },
    {
     "name": "stdin",
     "output_type": "stream",
     "text": [
      "Introduce un valor integro positivo para el tamaño de la cartera 3\n",
      "Un margen de beneficio mínimo en forma de porcentage (integro): 7\n"
     ]
    },
    {
     "name": "stdout",
     "output_type": "stream",
     "text": [
      "Introduce los detalles de la oportunidad de inversión 1:\n"
     ]
    },
    {
     "name": "stdin",
     "output_type": "stream",
     "text": [
      "Nombre de la Inversión: arryo\n"
     ]
    },
    {
     "name": "stdout",
     "output_type": "stream",
     "text": [
      "jalapeño arryo\n"
     ]
    },
    {
     "name": "stdin",
     "output_type": "stream",
     "text": [
      "Margen de Beneficio (como porcentaje): 3\n"
     ]
    },
    {
     "name": "stdout",
     "output_type": "stream",
     "text": [
      "jalapeño_2 3\n",
      "Introduce los detalles de la oportunidad de inversión 2:\n"
     ]
    },
    {
     "name": "stdin",
     "output_type": "stream",
     "text": [
      "Nombre de la Inversión: los\n"
     ]
    },
    {
     "name": "stdout",
     "output_type": "stream",
     "text": [
      "jalapeño los\n"
     ]
    },
    {
     "name": "stdin",
     "output_type": "stream",
     "text": [
      "Margen de Beneficio (como porcentaje): 9\n"
     ]
    },
    {
     "name": "stdout",
     "output_type": "stream",
     "text": [
      "jalapeño_2 9\n",
      "Introduce los detalles de la oportunidad de inversión 3:\n"
     ]
    },
    {
     "name": "stdin",
     "output_type": "stream",
     "text": [
      "Nombre de la Inversión: perdidissimo\n"
     ]
    },
    {
     "name": "stdout",
     "output_type": "stream",
     "text": [
      "jalapeño perdidissimo\n"
     ]
    },
    {
     "name": "stdin",
     "output_type": "stream",
     "text": [
      "Margen de Beneficio (como porcentaje): a\n",
      "Margen de Beneficio (como porcentaje): v\n",
      "Margen de Beneficio (como porcentaje): 12\n"
     ]
    },
    {
     "name": "stdout",
     "output_type": "stream",
     "text": [
      "jalapeño_2 12\n",
      "El stock de los es rentable para nuestros límites\n",
      "El stock de perdidissimo es rentable para nuestros límites\n"
     ]
    }
   ],
   "source": [
    "print('Bienvenido al Analizador de oportunidades de Inversión')\n",
    "\n",
    "def input_checker(typo, string):\n",
    "\n",
    "    variable_check = ''\n",
    "\n",
    "    while type(variable_check)!= typo:\n",
    "        variable_check= input(string)\n",
    "            \n",
    "        try:\n",
    "            variable_check=abs(typo(variable_check))\n",
    "    \n",
    "        except:\n",
    "            pass\n",
    "    return variable_check\n",
    "\n",
    "num_oportunidades = input_checker(int, 'Introduce un valor integro positivo para el tamaño de la cartera')\n",
    "margen_min = input_checker(int, 'Un margen de beneficio mínimo en forma de porcentage (integro):')\n",
    "\n",
    "rentables=[]\n",
    "\n",
    "for i in range(0, num_oportunidades):\n",
    "\n",
    "    print(f'Introduce los detalles de la oportunidad de inversión {i+1}:')\n",
    "    nombre_stock= input('Nombre de la Inversión:')\n",
    "    margen_de_ben= input_checker(int, 'Margen de Beneficio (como porcentaje):')\n",
    "\n",
    "    if margen_de_ben > margen_min:\n",
    "        rentables.append(nombre_stock)\n",
    "\n",
    "for stock in rentables:\n",
    "    print(f'El stock de {stock} es rentable para nuestros límites')\n"
   ]
  },
  {
   "cell_type": "markdown",
   "id": "0b0ebbbf-e1f2-4861-94fb-380a85e6a38c",
   "metadata": {},
   "source": [
    "### Otros bucles for"
   ]
  },
  {
   "cell_type": "code",
   "execution_count": null,
   "id": "5dfffcf3-67c5-4862-b888-a675810804d2",
   "metadata": {},
   "outputs": [],
   "source": [
    "# enumerate(),zip(), items()"
   ]
  },
  {
   "cell_type": "markdown",
   "id": "1054dfe3-fabf-40a1-aa41-89ae62f255bb",
   "metadata": {},
   "source": [
    "### Business Challenge: Gestión de Datos de una Compañía de Taxis\n",
    "\n",
    "Esta hecho en otro lado de la carpeta"
   ]
  },
  {
   "cell_type": "markdown",
   "id": "a9633b56-da3e-403f-b84d-46aa341122cb",
   "metadata": {},
   "source": [
    "### List comprenhension"
   ]
  },
  {
   "cell_type": "code",
   "execution_count": 11,
   "id": "4fb2495b-364b-4fb1-a3e5-b4fbdacd6a95",
   "metadata": {},
   "outputs": [
    {
     "data": {
      "text/plain": [
       "[1, 4, 9, 16, 25, 36, 49, 64, 81, 100, 121]"
      ]
     },
     "execution_count": 11,
     "metadata": {},
     "output_type": "execute_result"
    }
   ],
   "source": [
    "i_squared=[i**2 for i in range(1,12)]\n",
    "i_squared"
   ]
  },
  {
   "cell_type": "code",
   "execution_count": 14,
   "id": "73234d5b-9cf6-40c5-9c9c-497a7d9accd6",
   "metadata": {},
   "outputs": [
    {
     "data": {
      "text/plain": [
       "['BARCELONA', 'madrid', 'france']"
      ]
     },
     "execution_count": 14,
     "metadata": {},
     "output_type": "execute_result"
    }
   ],
   "source": [
    "list=['barcelona' , 'madrid', 'france']\n",
    "Transormed_list=[i.upper() if len(i)>6 else i.lower() for i in list]\n",
    "Transormed_list"
   ]
  },
  {
   "cell_type": "code",
   "execution_count": 17,
   "id": "f94ac42b-1532-43b6-8aca-97c0b0d19551",
   "metadata": {},
   "outputs": [
    {
     "data": {
      "text/plain": [
       "[1, 2, 3, 4, 5, 6]"
      ]
     },
     "execution_count": 17,
     "metadata": {},
     "output_type": "execute_result"
    }
   ],
   "source": [
    "nest_list=[[1,2], [3,4], [5,6]]\n",
    "new_list=[k for i in nest_list for k in i]\n",
    "\n",
    "new_list\n"
   ]
  },
  {
   "cell_type": "code",
   "execution_count": 20,
   "id": "3b4c7195-2e43-4b7c-b0b6-562586763d17",
   "metadata": {},
   "outputs": [
    {
     "data": {
      "text/plain": [
       "[1, 2, 3, 4]"
      ]
     },
     "execution_count": 20,
     "metadata": {},
     "output_type": "execute_result"
    }
   ],
   "source": [
    "nest_list=[[[[1,2],[3,4]]]]\n",
    "lista= [num for z in nest_list for y in z for x in y for num in x]\n",
    "lista\n"
   ]
  },
  {
   "cell_type": "code",
   "execution_count": null,
   "id": "73b1f906-ce06-40b6-a1b8-464888c3f6b9",
   "metadata": {},
   "outputs": [],
   "source": []
  },
  {
   "cell_type": "markdown",
   "id": "690ee93a-22a1-401f-b45b-5197903e735d",
   "metadata": {
    "jp-MarkdownHeadingCollapsed": true
   },
   "source": [
    "## Otras pruebas"
   ]
  },
  {
   "cell_type": "code",
   "execution_count": null,
   "id": "57725328-d2e0-40d5-be9b-271b97b954ba",
   "metadata": {},
   "outputs": [],
   "source": [
    "from matplotlib import pyplot as plt\n",
    "import numpy as np\n",
    "\n",
    "# Generate 100 random data points along 3 dimensions\n",
    "x, y, scale = np.random.randn(3, 100)\n",
    "\n",
    "print(x.sum())\n",
    "fig, ax = plt.subplots()\n",
    "\n",
    "# Map each onto a scatterplot we'll create with Matplotlib\n",
    "ax.scatter(x=x, y=y, c=scale, s=np.abs(scale)*500)\n",
    "ax.set(title=\"Some random data, created with JupyterLab!\")\n",
    "plt.show()"
   ]
  },
  {
   "cell_type": "code",
   "execution_count": null,
   "id": "91452988-1f56-47c8-91f5-2bd530bda54c",
   "metadata": {},
   "outputs": [],
   "source": [
    "import matplotlib.pyplot as plt\n",
    "from scipy.ndimage import convolve\n",
    "\n",
    "b= np.random.randint(1, 100, size=(500, 500,10), dtype=int)\n",
    "\n",
    "kernel= np.ones((50, 50)) \n",
    "\n",
    "for i in range(0, int(input('Numero de convoluciones'))):\n",
    "    b[:,:,2]=convolve(b[:,:,2], kernel)\n",
    "\n",
    "\n",
    "fig, ax= plt.subplots()\n",
    "ax.imshow(b[:,:,2], cmap='jet')\n",
    "plt.show()"
   ]
  }
 ],
 "metadata": {
  "kernelspec": {
   "display_name": "Python 3 (ipykernel)",
   "language": "python",
   "name": "python3"
  },
  "language_info": {
   "codemirror_mode": {
    "name": "ipython",
    "version": 3
   },
   "file_extension": ".py",
   "mimetype": "text/x-python",
   "name": "python",
   "nbconvert_exporter": "python",
   "pygments_lexer": "ipython3",
   "version": "3.10.12"
  }
 },
 "nbformat": 4,
 "nbformat_minor": 5
}
