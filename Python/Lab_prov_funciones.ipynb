{
 "cells": [
  {
   "cell_type": "markdown",
   "id": "b4b0b4ca-3638-4512-aece-81bd4ca72947",
   "metadata": {},
   "source": [
    "# Ejercicio 1"
   ]
  },
  {
   "cell_type": "code",
   "execution_count": 10,
   "id": "5b29a334-8ab5-432f-9ec0-1d14ae1fc7d5",
   "metadata": {},
   "outputs": [],
   "source": [
    "all_sales = (\"Phone\", 499.99, 10), (\"Tablet\", 299.99, 5), (\"Laptop\", 899.99, 3),(\"Smart Watch\", 199.99, 15),(\"Headphones\", 149.99, 20),(\"Camera\", 499.99, 2),(\"Drone\", 1599.99, 1),(\"Speaker\", 99.99, 7)"
   ]
  },
  {
   "cell_type": "code",
   "execution_count": 12,
   "id": "31b62a9e-c5ea-47ba-b1f6-98e8c77c4aaa",
   "metadata": {},
   "outputs": [
    {
     "data": {
      "text/plain": [
       "20349.307000000004"
      ]
     },
     "execution_count": 12,
     "metadata": {},
     "output_type": "execute_result"
    }
   ],
   "source": [
    "from typing import List, Tuple\n",
    "\n",
    "def calculate_total_sales(sales_data: list[tuple[str, float, int]], include_tax: bool) ->float:\n",
    "\n",
    "    '''\n",
    "    Calcula el total de ventas de un conjunto de tuplas con la opcion de añadir 10% de taxes\n",
    "    Argumentos: \n",
    "    \n",
    "    sales_data: Conjunto de informes\n",
    "    \n",
    "            Nombre articulo (str)\n",
    "            Precio unitario (float)\n",
    "            Cantidad vendida (int)\n",
    "\n",
    "    include_tax (bool): Añadir 10% de taxes al resultado\n",
    "\n",
    "\n",
    "    Output:\n",
    "        total_sales (float): Valor de ventas en precio \n",
    "    '''\n",
    "    total_sales= 0\n",
    "\n",
    "    for sale in sales_data:\n",
    "\n",
    "        name_product, price_product, sold_stock = sale\n",
    "        \n",
    "        price_sale= price_product * sold_stock \n",
    "        total_sales+=price_sale\n",
    "\n",
    "    total_sales= total_sales * include_tax * 1.1 # We add 10% of taxes when include taxes = 1 or True\n",
    "\n",
    "    return total_sales\n",
    "\n",
    "\n",
    "\n",
    "#valor_ventas= calculate_total_sales(all_sales, True)\n",
    "\n",
    "\n"
   ]
  },
  {
   "cell_type": "code",
   "execution_count": 19,
   "id": "940577b7-ed00-4ced-9c10-1b0e849fac91",
   "metadata": {},
   "outputs": [],
   "source": [
    "def count_total_items(sales_data: list[tuple[str, float, int]]) ->int:\n",
    "\n",
    "    '''\n",
    "    Calcula el total de items vendidos\n",
    "    \n",
    "    sales_data: Conjunto de informes\n",
    "    \n",
    "            Nombre articulo (str)\n",
    "            Precio unitario (float)\n",
    "            Cantidad vendida (int)\n",
    "\n",
    "\n",
    "    Output:\n",
    "        total_items (int): # articulos vendidos\n",
    "    '''\n",
    "    total_items= 0\n",
    "\n",
    "    for sale in sales_data:\n",
    "\n",
    "        name_product, price_product, sold_stock = sale\n",
    "\n",
    "        total_items+=sold_stock\n",
    "\n",
    "    return total_items\n",
    "\n",
    "#valor_ventas= count_total_items(all_sales)\n"
   ]
  },
  {
   "cell_type": "code",
   "execution_count": 18,
   "id": "57f319b3-c178-42e9-b0c4-4ede66991f81",
   "metadata": {},
   "outputs": [],
   "source": [
    "def calculate_average(sales_data: list[tuple[str, float, int]]):\n",
    "    '''\n",
    "    Calcula el valor medio de venta con taxes de 10%\n",
    "    Argumentos: \n",
    "    \n",
    "    sales_data: Conjunto de informes\n",
    "    \n",
    "            Nombre articulo (str)\n",
    "            Precio unitario (float)\n",
    "            Cantidad vendida (int)\n",
    "\n",
    "    Output:\n",
    "        total_sales (float): Valor de ventas en precio \n",
    "    '''\n",
    "    average_sale= calculate_total_sales(sales_data, include_tax= True)/count_total_items(sales_data)\n",
    "    \n",
    "    return average_sale     \n",
    "\n",
    "#sales_average= calculate_average(all_sales)"
   ]
  },
  {
   "cell_type": "code",
   "execution_count": null,
   "id": "a8ee7f03-f704-4b55-a553-862857802c3b",
   "metadata": {},
   "outputs": [],
   "source": [
    "def find_min_max_price_item(sales_data: List[Tuple[str, float, int]]) -> Tuple[Tuple[str, float], Tuple[str, float]]:\n",
    "\n",
    "    '''\n",
    "    Calcula el valor medio de venta con taxes de 10%\n",
    "    Argumentos: \n",
    "    \n",
    "    sales_data: Conjunto de informes\n",
    "    \n",
    "            Nombre articulo (str)\n",
    "            Precio unitario (float)\n",
    "            Cantidad vendida (int)\n",
    "\n",
    "    Output:\n",
    "        total_sales (float): Valor de ventas en precio \n",
    "    '''\n",
    "    "
   ]
  },
  {
   "cell_type": "code",
   "execution_count": null,
   "id": "60b6afef-d1bd-476f-9ae2-af19204b03eb",
   "metadata": {},
   "outputs": [],
   "source": [
    "def generate_sales_report(store_name: str, date: str, *sales_data: tuple[str, float, int]):\n",
    "    '''\n",
    "    Crea un informe de ventas de una tienda\n",
    "\n",
    "    Argumentos:\n",
    "\n",
    "        store_name (str): Nombre de la tienda\n",
    "\n",
    "        date (str): Fecha del informe de ventas\n",
    "\n",
    "        *sales_data (tuple): Tuplas con información de las ventas\n",
    "\n",
    "            Nombre articulo (str)\n",
    "            Precio unitario (float)\n",
    "            Cantidad vendida (int)\n",
    "\n",
    "    Output:'''\n",
    "\n",
    "    return\n"
   ]
  }
 ],
 "metadata": {
  "kernelspec": {
   "display_name": "Python 3 (ipykernel)",
   "language": "python",
   "name": "python3"
  },
  "language_info": {
   "codemirror_mode": {
    "name": "ipython",
    "version": 3
   },
   "file_extension": ".py",
   "mimetype": "text/x-python",
   "name": "python",
   "nbconvert_exporter": "python",
   "pygments_lexer": "ipython3",
   "version": "3.10.12"
  }
 },
 "nbformat": 4,
 "nbformat_minor": 5
}
