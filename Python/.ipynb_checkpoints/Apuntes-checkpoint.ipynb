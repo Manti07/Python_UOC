{
 "cells": [
  {
   "cell_type": "markdown",
   "id": "3b5b30a6-3033-455e-abda-2bc1e97f5563",
   "metadata": {},
   "source": [
    "# Introducción a Python (**Again**)\n",
    "\n",
    "[Github](https://github.com/Manti07/first-contributions)"
   ]
  },
  {
   "cell_type": "markdown",
   "id": "a1e9f675-73e4-4b76-b2e9-254f79c729a5",
   "metadata": {
    "jp-MarkdownHeadingCollapsed": true
   },
   "source": [
    "## Como utilitzar terminal desde python"
   ]
  },
  {
   "cell_type": "code",
   "execution_count": null,
   "id": "e83e4dee-9132-44c8-b48a-a9ee25c050ad",
   "metadata": {},
   "outputs": [],
   "source": [
    "import os\n",
    "!pip install pandas\n",
    "!mkdir prueba"
   ]
  },
  {
   "cell_type": "markdown",
   "id": "17870ed6-3275-4ee0-8361-6595bb6529c7",
   "metadata": {
    "jp-MarkdownHeadingCollapsed": true
   },
   "source": [
    "## Tipos de almacenamiento de informacion, Python"
   ]
  },
  {
   "cell_type": "markdown",
   "id": "a6840295-5dc1-4d20-9c91-8eb80e525008",
   "metadata": {
    "jp-MarkdownHeadingCollapsed": true
   },
   "source": [
    "### Ejercicios de listas\n",
    "    "
   ]
  },
  {
   "cell_type": "code",
   "execution_count": null,
   "id": "c8de8456-2e3e-4b70-abbd-b140b9f3cdf1",
   "metadata": {
    "scrolled": true
   },
   "outputs": [],
   "source": [
    "Month_list=['Jan', 'Feb', 'March', 'April', 'May', 'June', 'Jul', 'Aug', 'Sep', 'Oct', 'Nov', 'Dec']\n",
    "\n",
    "Month_list.append('Fin de año')\n",
    "print(Month_list)\n",
    "print('\\n')\n",
    "\n",
    "Month_list.remove('Fin de año')\n",
    "print(Month_list)\n",
    "print('\\n')\n",
    "\n",
    "second_tri=Month_list[3:6]\n",
    "print(second_tri)\n",
    "print('\\n')\n",
    "\n",
    "Month_list.reverse()\n",
    "print(Month_list)\n",
    "print('\\n')\n",
    "\n",
    "Month_list.sort()\n",
    "print(Month_list)\n",
    "print('\\n')\n",
    "\n",
    "print(Month_list.index('Jul'))\n",
    "print('\\n')\n",
    "\n",
    "Month_list=['Jan', 'Feb', 'March', 'April', 'May', 'June', 'Jul', 'Aug', 'Sep', 'Oct', 'Nov', 'Dec']\n",
    "trim_list=[Month_list[3*i:3*i+3] for i in range(0,len(Month_list)//3)]\n",
    "print(trim_list)\n",
    "print('\\n')\n",
    "for i in range(0,len(trim_list)):\n",
    "    for j in range(0, len(trim_list[i])):\n",
    "        print(f'El {i*3+ 1 + j} mes del año es {trim_list[i][j]}')"
   ]
  },
  {
   "cell_type": "markdown",
   "id": "49339c72-47d2-459f-a111-7a27ea9c12bb",
   "metadata": {
    "jp-MarkdownHeadingCollapsed": true,
    "scrolled": true
   },
   "source": [
    "### Conjuntos\n",
    "\n",
    "Estructuras de datos no ordenadas usadas de manera similar a los homonimos de algebra, elementos repetidos creo que son ignorados (**Cuidado!!**)\n"
   ]
  },
  {
   "cell_type": "code",
   "execution_count": null,
   "id": "7ccd5c94-0ddb-422f-b97b-0eb8d7d4e517",
   "metadata": {},
   "outputs": [],
   "source": [
    "c1= {1,2,3,4}\n",
    "c2= {3,4,5,6}\n",
    "union= c1|c2\n",
    "\n",
    "interseccion= c1& c2\n",
    "diferencia=c1-c2\n",
    "\n",
    "c1.add(5)\n",
    "c1.remove(3)\n",
    "\n",
    "print(c1)\n",
    "\n",
    "c1.issubset(c2) #Es uno el conjunto del otro? Existe superset tambien"
   ]
  },
  {
   "cell_type": "markdown",
   "id": "10a6d8eb-fe05-4b9f-a6f6-c797fca07b92",
   "metadata": {},
   "source": [
    "### Diccionarios \n",
    "Que te puedo decir que no te suene ya, pruebas igualmente o guardatelo"
   ]
  },
  {
   "cell_type": "code",
   "execution_count": null,
   "id": "15a73eab-9631-4fb0-b084-12675833ad03",
   "metadata": {},
   "outputs": [],
   "source": [
    "dict_id= {'nombre':'Manti', 'edad':5, 'sexo':'Mucho', 'lenguas': ['Math','Physics']}\n",
    "dict_id['hotel?']='trivago'\n",
    "del dict_id['nombre'] #Eliminar la clave-valor de dict\n",
    "\n",
    "####################\n",
    "keys= dict_id.keys() #Conseguir llaves\n",
    "values= dict_id.values() #Conseguir valores\n"
   ]
  },
  {
   "cell_type": "markdown",
   "id": "2c68e08a-6125-4128-addf-27e7708b46f2",
   "metadata": {},
   "source": [
    "## "
   ]
  },
  {
   "cell_type": "markdown",
   "id": "4597eaa0-ed09-4bbe-a3d1-661ec0b0d9b1",
   "metadata": {
    "jp-MarkdownHeadingCollapsed": true
   },
   "source": [
    "## Leer y escribir archivos"
   ]
  },
  {
   "cell_type": "code",
   "execution_count": null,
   "id": "277a7df8-1262-4471-a87d-cb83377497cd",
   "metadata": {},
   "outputs": [],
   "source": [
    "import os\n",
    "\n",
    "out = open('a_file.txt', 'w')\n",
    "\n",
    "for i in range(10):\n",
    "    out.write(f'Linea {i} \\n')\n",
    "\n",
    "out.close()\n",
    "\n",
    "f= open('a_file.txt')\n",
    "for line in f:\n",
    "    print(line)\n",
    "\n",
    "f.close()"
   ]
  },
  {
   "cell_type": "markdown",
   "id": "d8c784a1-aace-411c-abab-bfaae3043b78",
   "metadata": {
    "jp-MarkdownHeadingCollapsed": true
   },
   "source": [
    "## For y diccionarios"
   ]
  },
  {
   "cell_type": "code",
   "execution_count": null,
   "id": "53cd03f2-0ec1-4547-8356-86c2f10a4df3",
   "metadata": {},
   "outputs": [],
   "source": [
    "total_sales= 0\n",
    "sales_data=[200,300,400,500,600,700,800]\n",
    "max_sales=0\n",
    "\n",
    "for day in sales_data:\n",
    "    total_sales+=day\n",
    "    if max_sales < day:\n",
    "        max_sales= day\n",
    "\n",
    "print(total_sales, max_sales)\n",
    "    "
   ]
  },
  {
   "cell_type": "code",
   "execution_count": null,
   "id": "0aa4d3e0-16ec-44f5-a68e-944188c6ecf0",
   "metadata": {},
   "outputs": [],
   "source": [
    "# 1. Toma la entrada de un usuario (controlando que sea un entero)\n",
    "edad = int(input(\"Por favor, introduce tu edad: \"))\n",
    "\n",
    "# 2. Basado en condiciones: devuelve algo o algo más\n",
    "\n",
    "if edad > 0:\n",
    "   if edad < 16:\n",
    "       print(\"NO puedes entrar\")\n",
    "\n",
    "\n",
    "\n",
    "   elif edad >= 16 and edad < 18:\n",
    "       print(\"Puedes entrar\")\n",
    "\n",
    "\n",
    "    elif edad >= 18:\n",
    "       print(\"NO puedes entrar\")\n",
    "\n",
    "else:\n",
    "\n",
    "   print(\"Lo siento, información incorrecta: ¿valor negativo?\")"
   ]
  },
  {
   "cell_type": "code",
   "execution_count": null,
   "id": "34ee3984-c8e2-4b3c-a133-88679beb1b63",
   "metadata": {},
   "outputs": [],
   "source": [
    "contrasenya= '12345678909876dcvbnhjytfgvb+'\n",
    "\n",
    "length== False\n",
    "letter_presence=False\n",
    "number_presence=False\n",
    "special_presence=False\n",
    "\n",
    "if len(contrasenya)>= 12:\n",
    "    length=True\n",
    "\n",
    "for letter in contrasenya:\n",
    "\n",
    "    if letter.isalpha():\n",
    "        letter_presence=True\n",
    "\n",
    "    elif letter.isdigit():\n",
    "        number_presence=True\n",
    "\n",
    "    else:\n",
    "        special_presence=True\n",
    "\n",
    "    if (letter_presence and number_presence and special_presence) == True:\n",
    "        break\n",
    "\n",
    "if (letter_presence and number_presence and special_presence and length) == True:\n",
    "    print('Contraseña segura')\n",
    "\n",
    "else:\n",
    "    print('Contraseña no segura')\n",
    "\n",
    "\n"
   ]
  },
  {
   "cell_type": "markdown",
   "id": "eeecd28a-3b95-4b53-8194-a31405f0414d",
   "metadata": {
    "jp-MarkdownHeadingCollapsed": true
   },
   "source": [
    "### Classificacion huevos por tamaño"
   ]
  },
  {
   "cell_type": "code",
   "execution_count": null,
   "id": "67afa5b1-388f-4ae6-bdbc-bfcdcb7e36aa",
   "metadata": {},
   "outputs": [],
   "source": [
    "classed_egg={'S':0, 'M':0, 'L':0, 'XL':0}\n",
    "pesos_huevos=[0, 53,43,71, 56, 64,81, 92,45,50, 55, 62, 70, 75, 0, -5, 65, 80]\n",
    "for egg in pesos_huevos:\n",
    "    if egg <=0:\n",
    "        print(f'Peso no valido {egg}')\n",
    "            \n",
    "    elif egg < 53:\n",
    "        classed_egg['S'] +=1\n",
    "\n",
    "    elif 53 <= egg < 63:\n",
    "        classed_egg['M'] +=1\n",
    "\n",
    "    elif 63 <= egg < 73:\n",
    "        classed_egg['L'] +=1\n",
    "\n",
    "    else:\n",
    "        classed_egg['XL'] +=1\n",
    "\n",
    "\n",
    "print(classed_egg, len(pesos_huevos))"
   ]
  },
  {
   "cell_type": "markdown",
   "id": "d0325dd6-84bf-4619-8aa7-3b8aa9fafe08",
   "metadata": {
    "jp-MarkdownHeadingCollapsed": true
   },
   "source": [
    "## Bucle while "
   ]
  },
  {
   "cell_type": "code",
   "execution_count": null,
   "id": "5f29a676-d4bc-45ae-b491-ec1e7b2409e3",
   "metadata": {},
   "outputs": [],
   "source": [
    "pass_letter=['a','b','c','d']\n",
    "letter=input('Letra entre a i d')\n",
    "\n",
    "while letter not in pass_letter:\n",
    "    letter=input('Introduce letra entre a i d:')\n",
    "\n",
    "print(f'Has introducido la letra {letter}')"
   ]
  },
  {
   "cell_type": "markdown",
   "id": "0dcb9329-707f-46e5-9269-cc0852e8e268",
   "metadata": {
    "jp-MarkdownHeadingCollapsed": true
   },
   "source": [
    "### Desafío Empresarial: Identificar Oportunidades de Inversión Rentables\n",
    "\n"
   ]
  },
  {
   "cell_type": "markdown",
   "id": "83fa82f2-a298-48e4-85c6-98a56035d5e0",
   "metadata": {},
   "source": [
    "**Tarea:** Escribe un programa en Python para ayudar a un analista financiero a identificar oportunidades de inversión potencialmente rentables basadas en datos históricos.\n",
    "\n",
    "---\n",
    "\n",
    "**Instrucciones:**\n",
    "\n",
    "\n",
    "\n",
    "0. **Primero que todo, proporciona el pseudocódigo de este ejercicio.**\n",
    "\n",
    "1. Pide al usuario que ingrese dos enteros: el número de oportunidades de inversión para analizar y el margen de beneficio mínimo aceptable (como porcentaje).\n",
    "\n",
    "2. Para cada oportunidad de inversión, solicita al usuario que ingrese el nombre de la inversión y su margen de beneficio asociado (como porcentaje).\n",
    "\n",
    "3. Verifica e imprime los nombres de las oportunidades de inversión que cumplan o superen el margen de beneficio mínimo aceptable.\n",
    "\n",
    "4. Asegúrate de que el usuario ingrese un número válido de oportunidades y un margen de beneficio válido.\n",
    "\n",
    "5. Utiliza un bucle `for` para iterar a través de cada oportunidad de inversión.\n",
    "\n",
    "6. Implementa una condición para verificar si el margen de beneficio es mayor o igual al margen aceptable mínimo.\n",
    "\n",
    "7. Imprime los nombres de las oportunidades de inversión rentables.\n",
    "\n",
    "\n",
    "\n",
    "---\n",
    "\n",
    "\n",
    "\n",
    "**Consejos:**\n",
    "\n",
    "\n",
    "\n",
    "- Asegúrate de que el usuario ingrese un número válido de oportunidades de inversión y margen de beneficio (ambos deben ser positivos).\n",
    "\n",
    "- Utiliza cadenas formateadas para mostrar los resultados claramente.\n",
    "\n",
    "\n",
    "\n",
    "---\n",
    "\n",
    "\n",
    "\n",
    "**Ejemplo de Salida:**\n",
    "\n",
    "\n",
    "\n",
    "```python\n",
    "\n",
    "¡Bienvenido al Analizador de Oportunidades de Inversión!\n",
    "\n",
    "Por favor, introduce el número de oportunidades de inversión: 3\n",
    "\n",
    "Por favor, introduce el margen de beneficio mínimo aceptable (como porcentaje): 10\n",
    "\n",
    "\n",
    "\n",
    "Introduce los detalles de la oportunidad de inversión 1:\n",
    "\n",
    "Nombre de la Inversión: Stock XYZ\n",
    "\n",
    "Margen de Beneficio (como porcentaje): 15\n",
    "\n",
    "\n",
    "\n",
    "Introduce los detalles de la oportunidad de inversión 2:\n",
    "\n",
    "Nombre de la Inversión: Proyecto Inmobiliario\n",
    "\n",
    "Margen de Beneficio (como porcentaje): 8\n",
    "\n",
    "\n",
    "\n",
    "Introduce los detalles de la oportunidad de inversión 3:\n",
    "\n",
    "Nombre de la Inversión: Startup Tecnológica\n",
    "\n",
    "Margen de Beneficio (como porcentaje): 12\n",
    "\n",
    "\n",
    "\n",
    "Oportunidades de inversión rentables (con un margen de beneficio del 10% o superior):\n",
    "\n",
    "1. Stock XYZ\n",
    "\n",
    "3. Startup Tecnológica"
   ]
  },
  {
   "cell_type": "code",
   "execution_count": null,
   "id": "2cb14c6e-b2f8-4d1e-ae58-9d7a2bbff80f",
   "metadata": {},
   "outputs": [],
   "source": [
    "print('Bienvenido al Analizador de oportunidades de Inversión')\n",
    "\n",
    "def input_checker(typo, string):\n",
    "\n",
    "    variable_check = ''\n",
    "\n",
    "    while type(variable_check)!= typo:\n",
    "        variable_check= input(string)\n",
    "            \n",
    "        try:\n",
    "            variable_check=abs(typo(variable_check))\n",
    "    \n",
    "        except:\n",
    "            pass\n",
    "    return variable_check\n",
    "\n",
    "num_oportunidades = input_checker(int, 'Introduce un valor integro positivo para el tamaño de la cartera')\n",
    "margen_min = input_checker(int, 'Un margen de beneficio mínimo en forma de porcentage (integro):')\n",
    "\n",
    "rentables=[]\n",
    "\n",
    "for i in range(0, num_oportunidades):\n",
    "\n",
    "    print(f'Introduce los detalles de la oportunidad de inversión {i+1}:')\n",
    "    nombre_stock= input('Nombre de la Inversión:')\n",
    "    margen_de_ben= input_checker(int, 'Margen de Beneficio (como porcentaje):')\n",
    "\n",
    "    if margen_de_ben > margen_min:\n",
    "        rentables.append(nombre_stock)\n",
    "\n",
    "for stock in rentables:\n",
    "    print(f'El stock de {stock} es rentable para nuestros límites')\n"
   ]
  },
  {
   "cell_type": "markdown",
   "id": "0b0ebbbf-e1f2-4861-94fb-380a85e6a38c",
   "metadata": {},
   "source": [
    "### Otros bucles for"
   ]
  },
  {
   "cell_type": "code",
   "execution_count": null,
   "id": "5dfffcf3-67c5-4862-b888-a675810804d2",
   "metadata": {},
   "outputs": [],
   "source": [
    "# enumerate(),zip(), items()"
   ]
  },
  {
   "cell_type": "markdown",
   "id": "1054dfe3-fabf-40a1-aa41-89ae62f255bb",
   "metadata": {},
   "source": [
    "### Business Challenge: Gestión de Datos de una Compañía de Taxis\n",
    "\n",
    "Esta hecho en otro lado de la carpeta"
   ]
  },
  {
   "cell_type": "markdown",
   "id": "a9633b56-da3e-403f-b84d-46aa341122cb",
   "metadata": {
    "jp-MarkdownHeadingCollapsed": true
   },
   "source": [
    "### List comprenhension"
   ]
  },
  {
   "cell_type": "code",
   "execution_count": null,
   "id": "4fb2495b-364b-4fb1-a3e5-b4fbdacd6a95",
   "metadata": {},
   "outputs": [],
   "source": [
    "i_squared=[i**2 for i in range(1,12)]\n",
    "i_squared"
   ]
  },
  {
   "cell_type": "code",
   "execution_count": null,
   "id": "73234d5b-9cf6-40c5-9c9c-497a7d9accd6",
   "metadata": {},
   "outputs": [],
   "source": [
    "list=['barcelona' , 'madrid', 'france']\n",
    "Transormed_list=[i.upper() if len(i)>6 else i.lower() for i in list]\n",
    "Transormed_list"
   ]
  },
  {
   "cell_type": "code",
   "execution_count": null,
   "id": "f94ac42b-1532-43b6-8aca-97c0b0d19551",
   "metadata": {},
   "outputs": [],
   "source": [
    "nest_list=[[1,2], [3,4], [5,6]]\n",
    "new_list=[k for i in nest_list for k in i]\n",
    "\n",
    "new_list\n"
   ]
  },
  {
   "cell_type": "code",
   "execution_count": null,
   "id": "3b4c7195-2e43-4b7c-b0b6-562586763d17",
   "metadata": {},
   "outputs": [],
   "source": [
    "nest_list=[[[[1,2],[3,4]]]]\n",
    "lista= [num for z in nest_list for y in z for x in y for num in x]\n",
    "lista\n"
   ]
  },
  {
   "cell_type": "markdown",
   "id": "c53d25a6-4778-466c-9aff-885869730555",
   "metadata": {
    "jp-MarkdownHeadingCollapsed": true
   },
   "source": [
    "## Dict comprenhension"
   ]
  },
  {
   "cell_type": "code",
   "execution_count": null,
   "id": "9c107fbb-d891-460c-8c31-b266a4550b49",
   "metadata": {},
   "outputs": [],
   "source": [
    "# Basics\n",
    "names=['Alice', 'Bob','Charlie','David']\n",
    "length_dict= {name: len(name) for name in names}\n",
    "length_dict"
   ]
  },
  {
   "cell_type": "code",
   "execution_count": null,
   "id": "795f0091-e71c-4919-989d-07fd267a0c33",
   "metadata": {},
   "outputs": [],
   "source": [
    "# Tuple unnesting\n",
    "tuples_list=[('a',1), ('b',2), ('c',3)]\n",
    "\n",
    "dict_from_tuple={key: value for key, value in tuples_list}\n",
    "dict_from_tuple"
   ]
  },
  {
   "cell_type": "markdown",
   "id": "6ef8d338-f21e-49d5-9342-15f586a095b3",
   "metadata": {},
   "source": [
    "### Desafio"
   ]
  },
  {
   "cell_type": "code",
   "execution_count": null,
   "id": "c47dd386-9fe4-4ce0-b0cb-fd4ff0dd7d37",
   "metadata": {},
   "outputs": [],
   "source": [
    "# Escribe un diccionario con la cantidad de palabras en cada frase\n",
    "Frases=['El dragon miraba el horizonte', 'sus llamas ardian en su pecho', 'deseando ser libres de su prision de carne']\n",
    "phrase_info={ frase : {'word_count': len(frase.split()), 'average_length' : sum(len(word) for word in frase.split())/len(frase.split()) }  for frase in Frases}\n",
    "phrase_info\n"
   ]
  },
  {
   "cell_type": "markdown",
   "id": "896dd981-7a10-4bf5-a228-dd09b72708fe",
   "metadata": {},
   "source": [
    "### Caso de negocio"
   ]
  },
  {
   "cell_type": "code",
   "execution_count": null,
   "id": "a55503f8-ae70-4e23-a783-579556b81089",
   "metadata": {},
   "outputs": [],
   "source": [
    "feedback_comments = [\"¡El producto es excelente! Me encanta.\",    \n",
    "                     \"Servicio al cliente terrible. Nunca volveré a comprar.\",    \n",
    "                     \"Gran calidad y entrega rápida.\",    \n",
    "                     \"Experiencia decepcionante. El artículo llegó dañado.\",    \n",
    "                     \"Soberbio valor por el precio.\",    \n",
    "                     \"El envío fue rápido y el producto es excelente.\",   \n",
    "                     \"La atención al cliente es muy mala, no volveré.\",    \n",
    "                     \"Me encantó el diseño del producto, es genial.\",  \n",
    "                     \"La calidad del material es decepcionante.\",  \n",
    "                     \"Un servicio increíble, definitivamente compraré de nuevo.\",  \n",
    "                     \"El producto llegó en perfectas condiciones, ¡muy feliz!\", \n",
    "                     \"La experiencia de compra fue terrible y confusa.\",   \n",
    "                     \"El valor es justo para la calidad ofrecida, soberbio.\",   \n",
    "                     \"Desafortunadamente, el artículo llegó dañado.\",   \n",
    "                     \"¡Excelente compra! Estoy muy satisfecho.\"]\n",
    "\n",
    "palabras_positivas = ['excelente', 'encanta', 'genial', 'soberbio']\n",
    "palabras_negativa = ['terrible','decepcionante', 'dañado']"
   ]
  },
  {
   "cell_type": "code",
   "execution_count": null,
   "id": "484d238c-9160-46c0-beb2-61791c092101",
   "metadata": {},
   "outputs": [],
   "source": [
    "# Como probablemente podries ver no es exavtamente igual que el profe. Lo hacemos con paso intermedio, algo mas sencillo\n",
    "#\n",
    "dict_palabras_positivas= {positiv : sum(frase.lower().count(positiv) for frase in feedback_comments) for positiv in palabras_positivas}\n",
    "dict_palabras_negativas= {negativ : sum(frase.lower().count(negativ) for frase in feedback_comments) for negativ in palabras_negativa}\n",
    "frec_word= {'positivas': sum(dict_palabras_positivas.values()), 'negativas': sum(dict_palabras_negativas.values())}\n",
    "\n",
    "frec_word"
   ]
  },
  {
   "cell_type": "markdown",
   "id": "2e681037-fee7-4247-8c9f-f86bc2b00f96",
   "metadata": {
    "jp-MarkdownHeadingCollapsed": true
   },
   "source": [
    "## Manejo errores"
   ]
  },
  {
   "cell_type": "markdown",
   "id": "23f52865-725a-4ad4-aaf7-37d659622ce2",
   "metadata": {},
   "source": [
    "### Teoria "
   ]
  },
  {
   "cell_type": "markdown",
   "id": "c4f23621-572c-4d20-b7c0-f531fc000b42",
   "metadata": {},
   "source": [
    " Errores comunes: \n",
    "\n",
    " 1. Errores de sintaxis: Error en la estructura del codigo, que falte una coma o cerrar un parentesis. No llega a ejecutar el codigo.\n",
    "\n",
    " 2. Excepciones: Ocurren durante la ejecución del progrma, por otras razones.\n",
    "\n",
    "\n",
    "Estructura:\n",
    "\n",
    "try:\n",
    "\n",
    "    x= 10/0\n",
    "\n",
    "except ZeroDivisionError:\n",
    "\n",
    "    'blablabla'"
   ]
  },
  {
   "cell_type": "code",
   "execution_count": null,
   "id": "2ac6c2ba-a8c5-441c-ba67-fb41d063b140",
   "metadata": {},
   "outputs": [],
   "source": [
    "try:\n",
    "    x= input('Introduce un numero')\n",
    "    resultado= 10 / int(x)\n",
    "\n",
    "except ValueError:\n",
    "    print('Introduce un numero bobo')\n",
    "\n",
    "except ZeroDivisionError:\n",
    "    print('Introduce un numero no 0')\n",
    "\n",
    "else: \n",
    "    print(f'el resultado es {resultado}' )"
   ]
  },
  {
   "cell_type": "markdown",
   "id": "902d7705-d23f-446a-94e0-17f2e90134b2",
   "metadata": {},
   "source": [
    "**Finally** se ejecuta siempre aunque de error, útil para cerrar txt o otros archivos"
   ]
  },
  {
   "cell_type": "code",
   "execution_count": null,
   "id": "ab4352e6-0b90-49a4-a3db-194312fe38c5",
   "metadata": {},
   "outputs": [],
   "source": [
    "try:\n",
    "    archivo = open('datos.txt' , 'r')\n",
    "    contendio = archivo.read()\n",
    "\n",
    "except FileNotFoundError:\n",
    "    try: \n",
    "        archivo.close()\n",
    "        print('Archivo cerrado')\n",
    "\n",
    "    except NameError:\n",
    "        print('Archivo no definido')"
   ]
  },
  {
   "cell_type": "markdown",
   "id": "829cbc23-e875-4376-b834-f15109a617f8",
   "metadata": {},
   "source": [
    "**raise** Crear un error propio"
   ]
  },
  {
   "cell_type": "code",
   "execution_count": null,
   "id": "7f3a6b8a-dd92-4a55-90f3-6a46af595761",
   "metadata": {},
   "outputs": [],
   "source": [
    "def mayoria_de_edad(edad):\n",
    "    if edad < 18:\n",
    "        raise ValueError('La edad dee ser al menos 18.')\n",
    "\n",
    "    return True\n",
    "\n",
    "try:\n",
    "    mayoria_de_edad(15)\n",
    "\n",
    "except ValueError as e:\n",
    "    print('error,', e)"
   ]
  },
  {
   "cell_type": "markdown",
   "id": "64317e2d-c670-47c4-803c-facb566b2a28",
   "metadata": {},
   "source": [
    "**assert** Es una manera para cumplir condiciones para continuar el codigo. Es como un if x: stop"
   ]
  },
  {
   "cell_type": "code",
   "execution_count": null,
   "id": "adfc5f5b-3471-4e60-a7b7-b11ee3791fd1",
   "metadata": {},
   "outputs": [],
   "source": [
    "a=11\n",
    "\n",
    "try:\n",
    "    a = 10\n",
    "\n",
    "    assert a == 11, 'Harold no murio'\n",
    "\n",
    "except AssertionError as e:\n",
    "    print('Error:', e)"
   ]
  },
  {
   "cell_type": "markdown",
   "id": "58b34284-82aa-483f-bedc-c17614de8844",
   "metadata": {},
   "source": [
    "### Ejercicio de practica"
   ]
  },
  {
   "cell_type": "code",
   "execution_count": null,
   "id": "0b3c7f89-cd01-4d69-a63d-ee2a3eadca23",
   "metadata": {},
   "outputs": [],
   "source": [
    "# Funcion division que no falle cuando y=0\n",
    "def division(x,y):\n",
    "    try:\n",
    "        result= x/y\n",
    "\n",
    "    except ZeroDivisionError as e:\n",
    "        result= None\n",
    "        print(f'Error {e} due to division, new result {result}')\n",
    "\n",
    "    \n",
    "    return result\n",
    "\n",
    "\n",
    "quoc= division(5,1)\n"
   ]
  },
  {
   "cell_type": "code",
   "execution_count": null,
   "id": "bda55442-0318-4ae3-8c89-c23345948afc",
   "metadata": {},
   "outputs": [],
   "source": [
    " # Validacion entrada: Asegurate que input es un int\n",
    "\n",
    "\n",
    "int_input= ''\n",
    "\n",
    "while type(int_input) != int:\n",
    "\n",
    "    int_input= input('Introduce un numero entero')\n",
    "\n",
    "    try:\n",
    "        int_input= int(int_input)\n",
    "\n",
    "    except ValueError: \n",
    "\n",
    "        print('Eso no es un valor casteable a integro')\n",
    "    \n"
   ]
  },
  {
   "cell_type": "code",
   "execution_count": null,
   "id": "285b3c64-8731-4699-82d1-9f5114d9f3b5",
   "metadata": {},
   "outputs": [],
   "source": [
    "# Usa finally para asegruar que el archivo se cierre\n",
    "\n",
    "try:\n",
    "    archivo = open('a_file.txt' , 'r')\n",
    "\n",
    "    try:\n",
    "        contenido = archivo.read()\n",
    "\n",
    "        print(contenido)\n",
    "\n",
    "    except:\n",
    "        print('Error de lectura')\n",
    "\n",
    "\n",
    "    finally:\n",
    "        archivo.close()\n",
    "\n",
    "except FileNotFoundError:\n",
    "    try: \n",
    "        archivo.close()\n",
    "        print('Archivo cerrado')\n",
    "\n",
    "    except NameError:\n",
    "        print('Archivo no definido')"
   ]
  },
  {
   "cell_type": "code",
   "execution_count": null,
   "id": "ba28c554-abd0-4f0f-ab05-dd3aef7a5773",
   "metadata": {},
   "outputs": [],
   "source": [
    "# Usa else para manejar errores de raiz cuadrada\n",
    "\n",
    "def sqrt_root(x):\n",
    "    rooted= x**0.5\n",
    "    return rooted\n",
    "\n",
    "x = input('Escribe valor positivo:')\n",
    "\n",
    "try:\n",
    "    if int(x)< 0:\n",
    "        raise AttributeError('Trabajamos con números reales, debe ser positivo')\n",
    "\n",
    "except ValueError:\n",
    "    print(f'{x} No es un valor casteable a integro')\n",
    "\n",
    "except AttributeError:\n",
    "    print(f'{x} No es un valor positivo')\n",
    "\n",
    "else:\n",
    "    raiz= sqrt_root(int(x))\n",
    "    print(raiz)\n",
    "    \n"
   ]
  },
  {
   "cell_type": "code",
   "execution_count": null,
   "id": "526e15b6-9c0d-467b-8043-cda0a942d8a3",
   "metadata": {},
   "outputs": [],
   "source": [
    "# Assertions, escribe una funcion que reciba lista con numeros y devuelva el mayot.\n",
    "\n",
    "numeros= []\n",
    "max_num= 0\n",
    "\n",
    "try:\n",
    "    assert len(numeros) > 0, 'Lista vacia'\n",
    "\n",
    "    for i in numeros:\n",
    "\n",
    "        try:\n",
    "            if max_num < int(i):\n",
    "                max_num= int(i)\n",
    "        except:\n",
    "            print(f'{i} No es casteable a integer')\n",
    "\n",
    "except AssertionError as e:\n",
    "    print('Error', e)\n"
   ]
  },
  {
   "cell_type": "code",
   "execution_count": null,
   "id": "713490b8-8bb6-4539-9785-5f18a22f94a8",
   "metadata": {},
   "outputs": [],
   "source": [
    "# Utiliza raise para exceptiones personalizadas\n",
    "def NegativeNumberError(Exception):\n",
    "    pass\n",
    "\n",
    "def verificar_num(num):\n",
    "    try:\n",
    "        if num < 0:\n",
    "            raise NegativeNumerError ('No aceptamos numeros negativos')\n",
    "\n",
    "    except NegativeNumberError as e:\n",
    "        print(e)\n",
    "\n",
    "verificar_num(-2)"
   ]
  },
  {
   "cell_type": "code",
   "execution_count": null,
   "id": "9797e93e-9255-43af-9e38-86e33aa3f885",
   "metadata": {},
   "outputs": [],
   "source": [
    "# Conversion de cadenas a numero\n",
    "\n"
   ]
  },
  {
   "cell_type": "markdown",
   "id": "694a9b3b-2392-4ae2-8ac6-e9d4ab594ba6",
   "metadata": {
    "jp-MarkdownHeadingCollapsed": true
   },
   "source": [
    "## Pseudocodigo"
   ]
  },
  {
   "cell_type": "markdown",
   "id": "fb3dc980-3a78-4d74-85b8-fe95240e7d6f",
   "metadata": {},
   "source": [
    "**Ex** Imagina que formas parte de un pequeño equipo de negocio, y tu gerente se ha acercado a ti con una tarea. Quieres que crees un programa facil de usar para rastreat gastos mensuales. Tu programa debe permitir ingresar gastos diarios y al final del mes, calcular el gasto total."
   ]
  },
  {
   "cell_type": "markdown",
   "id": "ea86f5c6-d16f-44a4-9a1a-84cf0badfc3e",
   "metadata": {},
   "source": [
    "While True:\n",
    "\n",
    "    new_gasto = input en número del usuario\n",
    "\n",
    "    new_gasto appended to gastos mensuales\n",
    "\n",
    "    if final de mes o boton gastos mensuales\n",
    "\n",
    "        Sumar todos los gastos\n",
    "\n",
    "        Mostrar output \n",
    "\n",
    "        limpiar lista para mes siguiente"
   ]
  },
  {
   "cell_type": "markdown",
   "id": "59516c5d-62a1-4db1-a2b3-6543419e6eb1",
   "metadata": {
    "jp-MarkdownHeadingCollapsed": true
   },
   "source": [
    "### Ejemplo 2: Inventario de Tienda en Línea"
   ]
  },
  {
   "cell_type": "code",
   "execution_count": 1,
   "id": "fea14ffe-8464-4799-b1d7-d41c48a4695c",
   "metadata": {},
   "outputs": [
    {
     "ename": "SyntaxError",
     "evalue": "invalid syntax (1733609552.py, line 1)",
     "output_type": "error",
     "traceback": [
      "\u001b[0;36m  Cell \u001b[0;32mIn[1], line 1\u001b[0;36m\u001b[0m\n\u001b[0;31m    **Declaración del Problema:**\u001b[0m\n\u001b[0m    ^\u001b[0m\n\u001b[0;31mSyntaxError\u001b[0m\u001b[0;31m:\u001b[0m invalid syntax\n"
     ]
    }
   ],
   "source": [
    "**Declaración del Problema:**\n",
    "\n",
    "Se te ha encargado crear un programa simple para una tienda en línea. El programa debería ayudar a gestionar el inventario de productos disponibles en la tienda. El inventario consta de varios productos con sus respectivos nombres, precios y cantidades en stock.\n",
    "\n",
    "\n",
    "\n",
    "Tu programa debe tener las siguientes características:\n",
    "\n",
    "\n",
    "\n",
    "- Inicializar un inventario vacío para empezar.\n",
    "\n",
    "- Permitir al usuario añadir nuevos productos al inventario. Cada producto debe tener un nombre, precio y cantidad inicial en stock.\n",
    "\n",
    "- Mostrar el inventario actual, mostrando el nombre, precio y cantidad de cada producto.\n",
    "\n",
    "- Permitir al usuario buscar un producto específico por nombre y ver sus detalles (precio y cantidad).\n",
    "\n",
    "- Habilitar al usuario para actualizar la cantidad de un producto específico en stock.\n",
    "\n",
    "- Implementar una función para calcular y mostrar el valor total de todo el inventario.\n",
    "\n",
    "\n",
    " INICIO\n",
    "\n",
    "   DECLARAR inventario COMO LISTA VACÍA\n",
    "\n",
    "\n",
    "\n",
    "   FUNCIÓN añadirProducto(nombre, precio, cantidad)\n",
    "\n",
    "       DECLARAR producto COMO DICCIONARIO\n",
    "\n",
    "       producto[\"nombre\"] <- nombre\n",
    "\n",
    "       producto[\"precio\"] <- precio\n",
    "\n",
    "       producto[\"cantidad\"] <- cantidad\n",
    "\n",
    "       AÑADIR producto A la lista inventario\n",
    "\n",
    "   FIN FUNCIÓN\n",
    "\n",
    "\n",
    "\n",
    "   FUNCIÓN mostrarInventario()\n",
    "\n",
    "       IMPRIMIR \"Inventario actual:\"\n",
    "\n",
    "       PARA cada producto EN inventario HACER\n",
    "\n",
    "           IMPRIMIR \"Nombre: \", producto[\"nombre\"], \" Precio: \", producto[\"precio\"], \" Cantidad: \", producto[\"cantidad\"]\n",
    "\n",
    "       FIN PARA\n",
    "\n",
    "   FIN FUNCIÓN\n",
    "\n",
    "\n",
    "\n",
    "   FUNCIÓN buscarProducto(nombre)\n",
    "\n",
    "       PARA cada producto EN inventario HACER\n",
    "\n",
    "           SI producto[\"nombre\"] ES igual a nombre ENTONCES\n",
    "\n",
    "               IMPRIMIR \"Producto encontrado: \", producto\n",
    "\n",
    "               RETORNAR producto\n",
    "           FIN SI\n",
    "\n",
    "       FIN PARA\n",
    "\n",
    "       IMPRIMIR \"Producto no encontrado.\"\n",
    "\n",
    "       RETORNAR NULO\n",
    "\n",
    "   FIN FUNCIÓN\n",
    "\n",
    "   \n",
    "   FUNCIÓN actualizarCantidad(nombre, nuevaCantidad)\n",
    "   \n",
    "       PARA cada producto EN inventario HACER\n",
    "       \n",
    "           SI producto[\"nombre\"] ES igual a nombre ENTONCES\n",
    "           \n",
    "               producto[\"cantidad\"] <- nuevaCantidad\n",
    "               \n",
    "               IMPRIMIR \"Cantidad actualizada para \", nombre\n",
    "               \n",
    "               RETORNAR\n",
    "               \n",
    "           FIN SI\n",
    "           \n",
    "       FIN PARA\n",
    "       \n",
    "       IMPRIMIR \"Producto no encontrado.\"\n",
    "       \n",
    "   FIN FUNCIÓN\n",
    "\n",
    "\n",
    "\n",
    "   FUNCIÓN calcularValorTotal()\n",
    "\n",
    "       DECLARAR total COMO NÚMERO\n",
    "\n",
    "       total <- 0\n",
    "\n",
    "       PARA cada producto EN inventario HACER\n",
    "\n",
    "           total <- total + (producto[\"precio\"] * producto[\"cantidad\"])\n",
    "\n",
    "       FIN PARA\n",
    "\n",
    "       IMPRIMIR \"Valor total del inventario: \", total\n",
    "\n",
    "   FIN FUNCIÓN\n",
    "\n",
    "\n",
    "\n",
    "   IMPRIMIR \"Bienvenido al Sistema de Inventario\"\n",
    "\n",
    "   MIENTRAS VERDADERO HACER\n",
    "\n",
    "       IMPRIMIR \"Elija una opción: 1. Añadir producto 2. Mostrar inventario 3. Buscar producto 4. Actualizar cantidad 5. Calcular valor total 6. Salir\"\n",
    "\n",
    "       LEER opción\n",
    "\n",
    "\n",
    "\n",
    "       SEGÚN opción HACER\n",
    "\n",
    "           1:\n",
    "               IMPRIMIR \"Ingrese el nombre del producto:\"\n",
    "               LEER nombre\n",
    "               IMPRIMIR \"Ingrese el precio del producto:\"\n",
    "               LEER precio\n",
    "               IMPRIMIR \"Ingrese la cantidad del producto:\"\n",
    "               LEER cantidad\n",
    "               Llamar a añadirProducto(nombre, precio, cantidad)\n",
    "           2:\n",
    "               Llamar a mostrarInventario()\n",
    "           3:\n",
    "               IMPRIMIR \"Ingrese el nombre del producto a buscar:\"\n",
    "               LEER nombre\n",
    "               Llamar a buscarProducto(nombre)\n",
    "           4:\n",
    "               IMPRIMIR \"Ingrese el nombre del producto a actualizar:\"\n",
    "               LEER nombre\n",
    "               IMPRIMIR \"Ingrese la nueva cantidad:\"\n",
    "               LEER nuevaCantidad\n",
    "               Llamar a actualizarCantidad(nombre, nuevaCantidad)\n",
    "           5:\n",
    "               Llamar a calcularValorTotal()\n",
    "           6:\n",
    "               IMPRIMIR \"Saliendo del sistema.\"\n",
    "               SALIR\n",
    "       FIN SEGÚN\n",
    "   FIN MIENTRAS\n",
    " FIN"
   ]
  },
  {
   "cell_type": "code",
   "execution_count": 1,
   "id": "b69f48d6-2fbe-4920-87d7-2e599c7244e2",
   "metadata": {},
   "outputs": [
    {
     "name": "stdout",
     "output_type": "stream",
     "text": [
      "Bienvenido al Sistema de Inventario\n"
     ]
    },
    {
     "name": "stdin",
     "output_type": "stream",
     "text": [
      "Elija una opción: 1. Añadir producto 2. Mostrar inventario 3. Buscar producto 4. Actualizar cantidad 5. Calcular valor total 6. Salir 1\n",
      "Ingrese el nombre del producto: a\n",
      "Ingrese el precio del producto: 2\n",
      "Ingrese la cantidad del producto: 3\n",
      "Elija una opción: 1. Añadir producto 2. Mostrar inventario 3. Buscar producto 4. Actualizar cantidad 5. Calcular valor total 6. Salir 2\n"
     ]
    },
    {
     "name": "stdout",
     "output_type": "stream",
     "text": [
      "Inventario actual\n",
      "Nombre:  a  Precio:  2  Cantidad:  3\n"
     ]
    },
    {
     "name": "stdin",
     "output_type": "stream",
     "text": [
      "Elija una opción: 1. Añadir producto 2. Mostrar inventario 3. Buscar producto 4. Actualizar cantidad 5. Calcular valor total 6. Salir 5\n"
     ]
    },
    {
     "ename": "TypeError",
     "evalue": "can't multiply sequence by non-int of type 'str'",
     "output_type": "error",
     "traceback": [
      "\u001b[0;31m---------------------------------------------------------------------------\u001b[0m",
      "\u001b[0;31mTypeError\u001b[0m                                 Traceback (most recent call last)",
      "Cell \u001b[0;32mIn[1], line 86\u001b[0m\n\u001b[1;32m     83\u001b[0m     actualizarCantidad(nombre, nueva_cantidad)\n\u001b[1;32m     85\u001b[0m \u001b[38;5;28;01melif\u001b[39;00m opcion \u001b[38;5;241m==\u001b[39m\u001b[38;5;241m5\u001b[39m:\n\u001b[0;32m---> 86\u001b[0m     \u001b[43mcalcularValorTotal\u001b[49m\u001b[43m(\u001b[49m\u001b[43m)\u001b[49m\n\u001b[1;32m     88\u001b[0m \u001b[38;5;28;01melif\u001b[39;00m opcion \u001b[38;5;241m==\u001b[39m\u001b[38;5;241m6\u001b[39m:\n\u001b[1;32m     89\u001b[0m     \u001b[38;5;28mprint\u001b[39m(\u001b[38;5;124m'\u001b[39m\u001b[38;5;124mSaliendo del sistema\u001b[39m\u001b[38;5;124m'\u001b[39m)\n",
      "Cell \u001b[0;32mIn[1], line 44\u001b[0m, in \u001b[0;36mcalcularValorTotal\u001b[0;34m()\u001b[0m\n\u001b[1;32m     41\u001b[0m total\u001b[38;5;241m=\u001b[39m \u001b[38;5;241m0\u001b[39m\n\u001b[1;32m     43\u001b[0m \u001b[38;5;28;01mfor\u001b[39;00m producto \u001b[38;5;129;01min\u001b[39;00m inventario:\n\u001b[0;32m---> 44\u001b[0m     total\u001b[38;5;241m+\u001b[39m\u001b[38;5;241m=\u001b[39m \u001b[43mproducto\u001b[49m\u001b[43m[\u001b[49m\u001b[38;5;124;43m'\u001b[39;49m\u001b[38;5;124;43mprecio\u001b[39;49m\u001b[38;5;124;43m'\u001b[39;49m\u001b[43m]\u001b[49m\u001b[43m \u001b[49m\u001b[38;5;241;43m*\u001b[39;49m\u001b[43m \u001b[49m\u001b[43mproducto\u001b[49m\u001b[43m[\u001b[49m\u001b[38;5;124;43m'\u001b[39;49m\u001b[38;5;124;43mcantidad\u001b[39;49m\u001b[38;5;124;43m'\u001b[39;49m\u001b[43m]\u001b[49m\n\u001b[1;32m     46\u001b[0m \u001b[38;5;28mprint\u001b[39m(\u001b[38;5;124mf\u001b[39m\u001b[38;5;124m'\u001b[39m\u001b[38;5;124mValor inventario:\u001b[39m\u001b[38;5;124m'\u001b[39m, total)\n",
      "\u001b[0;31mTypeError\u001b[0m: can't multiply sequence by non-int of type 'str'"
     ]
    }
   ],
   "source": [
    "inventario = []\n",
    "\n",
    "def añadirProducto(nombre, precio, cantidad):\n",
    "\n",
    "    producto= {}\n",
    "\n",
    "    producto['nombre'] = nombre\n",
    "    producto['precio'] = precio\n",
    "    producto['cantidad'] = cantidad\n",
    "\n",
    "    inventario.append(producto)\n",
    "\n",
    "def mostrarinventario():\n",
    "    print('Inventario actual')\n",
    "\n",
    "    for producto in inventario:\n",
    "        print(\"Nombre: \", producto[\"nombre\"], \" Precio: \", producto[\"precio\"], \" Cantidad: \", producto[\"cantidad\"])\n",
    "\n",
    "\n",
    "def buscarProducto(nombre):\n",
    "\n",
    "    for producto in inventario:\n",
    "        if producto['nombre']==nombre:\n",
    "            return producto\n",
    "\n",
    "    print('Producto no encontrado')\n",
    "    \n",
    "    return None\n",
    "\n",
    "def actualizarCantidad(Nombre, nuevaCantidad):\n",
    "\n",
    "    for produco in inventario:\n",
    "        if producto['nombre'] == nombre:\n",
    "            producto['cantidad'] = nuevaCantidad\n",
    "\n",
    "            return\n",
    "\n",
    "    print('Producto no encontrado')\n",
    "\n",
    "def calcularValorTotal():\n",
    "    total= 0\n",
    "\n",
    "    for producto in inventario:\n",
    "        total+= producto['precio'] * producto['cantidad']\n",
    "\n",
    "    print(f'Valor inventario:', total)\n",
    "\n",
    "print('Bienvenido al Sistema de Inventario')\n",
    "\n",
    "while True:\n",
    "    a= ('Elija una opción: 1. Añadir producto 2. Mostrar inventario 3. Buscar producto 4. Actualizar cantidad 5. Calcular valor total 6. Salir')\n",
    "\n",
    "    try:\n",
    "        opcion = int(input(a))\n",
    "\n",
    "    except: \n",
    "        print('Valor introducido no valido')\n",
    "        continue\n",
    "\n",
    "    if opcion ==1: \n",
    "        name= input('Ingrese el nombre del producto:')\n",
    "        precio= input('Ingrese el precio del producto:')\n",
    "        cantidad= input('Ingrese la cantidad del producto:')\n",
    "\n",
    "        añadirProducto(name, precio, cantidad)\n",
    "\n",
    "        \n",
    "\n",
    "    elif opcion ==2: \n",
    "\n",
    "        mostrarinventario()\n",
    "\n",
    "    elif opcion ==3: \n",
    "\n",
    "        nombre= input('Ingrese el nombre del producto a buscar:')\n",
    "\n",
    "        buscarProducto(nombre)\n",
    "\n",
    "    elif opcion ==4: \n",
    "        nombre= input('Ingrese el nombre del producto a actualizar:')\n",
    "        nueva_cantidad= input('Ingrese la nueva cantidad:')\n",
    "\n",
    "        actualizarCantidad(nombre, nueva_cantidad)\n",
    "\n",
    "    elif opcion ==5:\n",
    "        calcularValorTotal()\n",
    "\n",
    "    elif opcion ==6:\n",
    "        print('Saliendo del sistema')\n",
    "        exit()\n",
    "\n",
    "    \n",
    "\n",
    "\n",
    "\n",
    "    \n",
    "\n"
   ]
  },
  {
   "cell_type": "markdown",
   "id": "e196db4b-28ed-4bde-8ffe-ec7afe91de03",
   "metadata": {
    "jp-MarkdownHeadingCollapsed": true
   },
   "source": [
    "## JSON"
   ]
  },
  {
   "cell_type": "code",
   "execution_count": null,
   "id": "5f2d7cb2-4038-4892-9afe-550906c51d6a",
   "metadata": {},
   "outputs": [],
   "source": []
  },
  {
   "cell_type": "markdown",
   "id": "cc4c13b9-4447-4552-9655-caa80b5a49c5",
   "metadata": {
    "jp-MarkdownHeadingCollapsed": true
   },
   "source": [
    "## Regex"
   ]
  },
  {
   "cell_type": "markdown",
   "id": "0b197163-c088-45d6-a8dd-826939ff0dca",
   "metadata": {
    "jp-MarkdownHeadingCollapsed": true
   },
   "source": [
    "### Intro"
   ]
  },
  {
   "cell_type": "markdown",
   "id": "6af2eb53-a330-48da-b09f-ddfabd0469a2",
   "metadata": {},
   "source": [
    "Cosas como grep y parecidos por lo que entiendo, puede ser utilizado en python a traves de Pandas y el modulo re."
   ]
  },
  {
   "cell_type": "code",
   "execution_count": 3,
   "id": "c67b418f-fd73-4234-9b93-7061c90f6af5",
   "metadata": {},
   "outputs": [],
   "source": [
    "import re \n",
    "str1= 'varks Aard pertencen al Capitán'\n",
    "str2= 'La famosa ecuación de Eisntein, E= m * c^2'\n",
    "str3= 'La ubicación del lugar solo puede ser encontrada en la cima del k6'\n",
    "str4= ''"
   ]
  },
  {
   "cell_type": "code",
   "execution_count": 5,
   "id": "7a4015f9-2cd0-4a76-8ada-b6b85b277e49",
   "metadata": {},
   "outputs": [
    {
     "data": {
      "text/plain": [
       "<re.Match object; span=(0, 1), match='v'>"
      ]
     },
     "execution_count": 5,
     "metadata": {},
     "output_type": "execute_result"
    }
   ],
   "source": [
    "# re.search solo te encuentra la primera coincidencia de la cadena\n",
    "match = re.search('[a-z]', str1)\n",
    "match"
   ]
  },
  {
   "cell_type": "code",
   "execution_count": 7,
   "id": "ab99716c-dcdb-421a-8bc0-c4e469f669a0",
   "metadata": {},
   "outputs": [
    {
     "data": {
      "text/plain": [
       "['v',\n",
       " 'a',\n",
       " 'r',\n",
       " 'k',\n",
       " 's',\n",
       " 'a',\n",
       " 'r',\n",
       " 'd',\n",
       " 'p',\n",
       " 'e',\n",
       " 'r',\n",
       " 't',\n",
       " 'e',\n",
       " 'n',\n",
       " 'c',\n",
       " 'e',\n",
       " 'n',\n",
       " 'a',\n",
       " 'l',\n",
       " 'a',\n",
       " 'p',\n",
       " 'i',\n",
       " 't',\n",
       " 'n']"
      ]
     },
     "execution_count": 7,
     "metadata": {},
     "output_type": "execute_result"
    }
   ],
   "source": [
    "# Este te encientra todas las coincidencias\n",
    "match = re.findall('[a-z]', str1)\n",
    "match"
   ]
  },
  {
   "cell_type": "code",
   "execution_count": 9,
   "id": "5a0c9c5e-c319-48dd-95af-4814be5fc1c5",
   "metadata": {},
   "outputs": [
    {
     "data": {
      "text/plain": [
       "['H', 'E', 'L', 'L', 'O', 'W']"
      ]
     },
     "execution_count": 9,
     "metadata": {},
     "output_type": "execute_result"
    }
   ],
   "source": [
    "## Precompilar tiene ventajas, ex. Implica precompilar solo el patron, tiene ventajas de eficiencia y de organizacion\n",
    "\n",
    "pattern_uppercase= re.compile(r'[A-Z]')\n",
    "\n",
    "match = pattern_uppercase.search ('HELLO World')\n",
    "match = pattern_uppercase.findall ('HELLO World')\n",
    "match"
   ]
  },
  {
   "cell_type": "code",
   "execution_count": 12,
   "id": "74b84648-0675-43ae-a9cf-bf13b81210ad",
   "metadata": {},
   "outputs": [
    {
     "name": "stdout",
     "output_type": "stream",
     "text": [
      "False\n"
     ]
    }
   ],
   "source": [
    "# Encuentra si la palabra acaba con una de las expresiones\n",
    "import re\n",
    "needle= 'needlers'\n",
    "\n",
    "print(bool(re.search(r'(ly|ed|ing|ers)$', needle)) )"
   ]
  },
  {
   "cell_type": "code",
   "execution_count": 16,
   "id": "b3c489f9-4d93-4f5a-a4a6-244caad9dc67",
   "metadata": {},
   "outputs": [
    {
     "name": "stdout",
     "output_type": "stream",
     "text": [
      "True\n",
      "True\n",
      "True\n",
      "The slowest run took 7.06 times longer than the fastest. This could mean that an intermediate result is being cached.\n",
      "2.05 μs ± 1.47 μs per loop (mean ± std. dev. of 50 runs, 1,000 loops each)\n",
      "1.46 μs ± 444 ns per loop (mean ± std. dev. of 50 runs, 1,000 loops each)\n",
      "541 ns ± 16.8 ns per loop (mean ± std. dev. of 50 runs, 1,000 loops each)\n"
     ]
    }
   ],
   "source": [
    "import re # Importando el módulo de expresiones regulares\n",
    "\n",
    "# Definiendo la cadena que vamos a comprobar\n",
    "needle = 'needlers'\n",
    "\n",
    "# Enfoque de Python: Usando comprensión de listas y any()\n",
    "# Esta línea verifica si la cadena 'needle' termina con alguno de los sufijos especificados ('ly', 'ed', 'ing', 'ers')\n",
    "# any() devuelve True si al menos una de las condiciones es True\n",
    "print(any([needle.endswith(e) for e in ('ly', 'ed', 'ing', 'ers')]))\n",
    "\n",
    "\n",
    "\n",
    "# Expresión regular al vuelo en Python\n",
    "# Esto utiliza expresiones regulares para comprobar si 'needle' termina con los sufijos especificados\n",
    "# La función search() busca en 'needle' cualquier coincidencia con el patrón de expresión regular\n",
    "# bool() se utiliza para convertir el resultado en True o False\n",
    "print(bool(re.search(r'(ly|ed|ing|ers)$', needle)))\n",
    "\n",
    "\n",
    "# Expresión regular compilada en Python\n",
    "# Compilando el patrón de expresión regular para un reuso más rápido\n",
    "# Esto es más eficiente si el patrón se usa varias veces\n",
    "\n",
    "comp = re.compile(r'(ly|ed|ing|ers)$')\n",
    "\n",
    "print(bool(comp.search(needle)))\n",
    "\n",
    "# Los comandos %timeit se usan en Jupyter Notebooks para medir el tiempo de ejecución de pequeños fragmentos de código\n",
    "# -n 1000 especifica que el comando se ejecutará 1000 veces en cada bucle\n",
    "# -r 50 indica que habrá 50 de estos bucles\n",
    "# Esto se utiliza para obtener una medida más precisa del tiempo de ejecución promediando múltiples ejecuciones\n",
    "# %timeit para el enfoque de Python\n",
    "\n",
    "%timeit -n 1000 -r 50 bool(any([needle.endswith(e) for e in ('ly', 'ed', 'ing', 'ers')]))\n",
    "\n",
    "# %timeit para la expresión regular al vuelo\n",
    "\n",
    "%timeit -n 1000 -r 50 bool(re.search(r'(ly|ed|ing|ers)$', needle))\n",
    "\n",
    "# %timeit para la expresión regular compilada\n",
    "%timeit -n 1000 -r 50 bool(comp.search(needle))"
   ]
  },
  {
   "cell_type": "code",
   "execution_count": null,
   "id": "c0dd9b17-633e-4035-9d07-9507e1139b06",
   "metadata": {},
   "outputs": [],
   "source": [
    "# Ejemplos "
   ]
  },
  {
   "cell_type": "markdown",
   "id": "4e051561-6e3e-4463-8659-2548701f5ad0",
   "metadata": {
    "jp-MarkdownHeadingCollapsed": true
   },
   "source": [
    "#### Resumen de Términos para Expresiones Regulares\n"
   ]
  },
  {
   "cell_type": "markdown",
   "id": "0a0b7ec6-be6f-406b-b81e-3dc94334ab39",
   "metadata": {},
   "source": [
    "#### Terminología de Expresiones Regulares\n",
    "\n",
    "\n",
    "\n",
    "Las expresiones regulares (regex o regexp) son herramientas poderosas para el emparejamiento de patrones y la manipulación de texto. A continuación, se presenta una explicación detallada de algunos términos y símbolos comúnmente utilizados en las expresiones regulares:\n",
    "\n",
    "\n",
    "\n",
    "- **[ ] (Conjunto de Caracteres)**: Los corchetes denotan un conjunto de caracteres, donde uno de los elementos internos debe coincidir. Por ejemplo, `[abc]` coincidiría con cualquiera de los caracteres 'a', 'b' o 'c'. También puedes especificar rangos como `[0-9]` para coincidir con cualquier dígito.\n",
    "\n",
    "\n",
    "\n",
    "- **| (Tubo o Alternancia)**: El símbolo de tubo representa una opción entre elementos, actuando como un operador \"o\". Por ejemplo, `a|b` coincidiría con 'a' o 'b'.\n",
    "\n",
    "\n",
    "\n",
    "- **{ } (Cuantificador de Intervalo)**: Las llaves se utilizan para especificar un intervalo o la cantidad de veces que un patrón debe repetirse. Por ejemplo, `a{2,4}` coincidiría con 'aa', 'aaa' o 'aaaa', donde el número de 'a's se encuentra entre 2 y 4. También puedes usar un número único, como `{3}`, que coincidiría exactamente con tres repeticiones del patrón anterior.\n",
    "\n",
    "\n",
    "\n",
    "- **\\ (Barra Inversa)**: La barra inversa es un carácter de escape que identifica al siguiente carácter como un literal, evitando que se interprete como un símbolo especial. Por ejemplo, `\\.` coincidiría con un punto (.) en lugar de coincidir con cualquier carácter.\n",
    "\n",
    "\n",
    "\n",
    "- **. (Punto)**: En el modo predeterminado, el punto coincide con cualquier carácter, excepto un salto de línea. Por ejemplo, `a.b` coincidiría con 'axb', 'a#b' o 'a$b', donde 'x', '#', y '$' pueden ser cualquier carácter excepto un salto de línea.\n",
    "\n",
    "\n",
    "\n",
    "- **^ (Acento Circunflejo)**: Este símbolo coincide con el inicio de la cadena. En el modo MULTILINE, también coincide inmediatamente después de cada salto de línea. Por ejemplo, `^abc` coincidiría con 'abc' al comienzo de una línea. Esto es útil para validar el inicio de un texto.\n",
    "\n",
    "\n",
    "\n",
    "- **$ (Signo de Dólar)**: El signo de dólar coincide con el final de la cadena o justo antes del salto de línea al final de la cadena. En el modo MULTILINE, también coincide antes de un salto de línea. Por ejemplo, `xyz$` coincidiría con 'xyz' al final de una línea, permitiendo validar si una cadena termina con un patrón específico.\n",
    "\n",
    "\n",
    "\n",
    "- **\\* (Asterisco)**: El asterisco hace que el patrón coincidente permita 0 o más repeticiones del patrón anterior. Por ejemplo, `ab*` coincidiría con 'a' o 'ab' seguido de cualquier número de 'b's, incluyendo ninguno.\n",
    "\n",
    "\n",
    "\n",
    "- **+ (Signo de Más)**: El signo de más indica que debe haber 1 o más repeticiones del patrón anterior. Por ejemplo, `ab+` coincidiría con 'a' seguido de al menos una 'b', pero no coincidiría solo con 'a'.\n",
    "\n",
    "\n",
    "\n",
    "- **? (Signo de Interrogación)**: Este signo permite que el patrón coincida con 0 o 1 repeticiones del patrón anterior. Por ejemplo, `ab?` coincidiría con 'a' o 'ab', lo que permite la flexibilidad en la búsqueda.\n",
    "\n",
    "\n",
    "\n",
    "- **{n"
   ]
  },
  {
   "cell_type": "code",
   "execution_count": 2,
   "id": "ed02d7b5-9ddc-4324-8522-96c959d31592",
   "metadata": {},
   "outputs": [],
   "source": []
  },
  {
   "cell_type": "markdown",
   "id": "0e5aabf5-47c8-4c36-992f-7eee5b69b648",
   "metadata": {
    "jp-MarkdownHeadingCollapsed": true
   },
   "source": [
    "### Ejercicios de Expresiones Regulares\n"
   ]
  },
  {
   "cell_type": "code",
   "execution_count": 3,
   "id": "1ffb2441-7dbe-4df1-9be0-4a962aeebc87",
   "metadata": {},
   "outputs": [],
   "source": [
    "import re\n",
    "\n",
    "\n",
    "# Textos de ejemplo\n",
    "\n",
    "texto1 = \"Puedes contactar a juan.perez@example.com, maria@empresa.org, contacto123@dominio.com y ejemplo@mail.com.\"\n",
    "\n",
    "texto2 = \"Las fechas importantes son 25/12/2022, 01/01/2023, 15/08/2023 y 31/12/2023.\"\n",
    "\n",
    "texto3 = \"Visita ejemplo.com, mi-sitio.org y otro-sitio.net para más información.\"\n",
    "\n",
    "texto4 = \"Los códigos postales son 28001, 08002, 41003 y 46004.\"\n",
    "\n",
    "texto5 = \"Las palabras con guiones son bienvenidas - ejemplo-palabra, prueba-texto, ejemplo-otro y palabra-por-favor.\"\n",
    "\n",
    "texto6 = \"Fechas en formato mm/dd/yyyy son 12/25/2022, 02/14/2023, 07/04/2023 y 10/31/2023.\"\n",
    "\n",
    "texto7 = \"Mira #hashtag, #regex, #Python y otros ejemplos de #programación.\"\n",
    "\n",
    "texto8 = \"Sigue a @usuario1, @usuario2, @miusuario y @ejemplo en Twitter.\"\n",
    "\n",
    "texto9 = \"Puedes marcar los números (+34) 612-345-678, (+34) 678-123-456 y (+34) 911-234-567 para consultas.\"\n",
    "\n",
    "texto10 = \"Las palabras alfanuméricas son: Python3, Regex, HTML5 y JavaScript.\""
   ]
  },
  {
   "cell_type": "code",
   "execution_count": 4,
   "id": "8f859c39-f47f-4d2e-9287-7aa13358b93f",
   "metadata": {},
   "outputs": [
    {
     "name": "stdout",
     "output_type": "stream",
     "text": [
      "Correos capturados en ejercicio ['juan.perez@example.com', 'maria@empresa.org', 'contacto123@dominio.com', 'ejemplo@mail.com.']\n"
     ]
    }
   ],
   "source": [
    "# Desarrolla un script que busque y extraiga todas las direcciones de correo electrónico de un texto dado. \n",
    "# Las direcciones deben seguir el formato estándar que incluye caracteres alfanuméricos, puntos, guiones bajos, porcentajes, signos más y guiones, \n",
    "# seguido de un dominio.\n",
    "\n",
    "import re \n",
    "\n",
    "correos = re.findall('[\\S]*\\@[\\S]*\\.[^,\\s]{2,4}',texto1) \n",
    "print('Correos capturados en ejercicio', correos)"
   ]
  },
  {
   "cell_type": "code",
   "execution_count": 5,
   "id": "90592756-e78e-4cac-9c0d-da48a481a10f",
   "metadata": {},
   "outputs": [
    {
     "data": {
      "text/plain": [
       "['25/12/2022', '01/01/2023', '15/08/2023', '31/12/2023']"
      ]
     },
     "execution_count": 5,
     "metadata": {},
     "output_type": "execute_result"
    }
   ],
   "source": [
    "# Crea un script que encuentre todas las fechas en el formato 'dd/mm/yyyy' dentro de un texto. \n",
    "# Las fechas deben estar compuestas por dos dígitos para el día, dos dígitos para el mes y cuatro dígitos para el año, separadas por barras.\n",
    "\n",
    "fechas = re.findall('[0-9]{2}\\/[0-9]{2}\\/[0-9]{4}',texto2)\n",
    "fechas\n"
   ]
  },
  {
   "cell_type": "code",
   "execution_count": 6,
   "id": "2046bd04-6402-4c3d-a595-8c7cc30ac233",
   "metadata": {},
   "outputs": [
    {
     "data": {
      "text/plain": [
       "['ejemplo.com', 'mi-sitio.org', 'otro-sitio.net']"
      ]
     },
     "execution_count": 6,
     "metadata": {},
     "output_type": "execute_result"
    }
   ],
   "source": [
    "# Implementa un script que busque y extraiga todas las URLs de un texto. \n",
    "# Las URLs pueden comenzar con 'http://' o 'https://' y deben seguir con cualquier carácter que no sea un espacio.\n",
    "\n",
    "URL = re.findall('[\\S]*\\.[\\S]{2,3}', texto3)\n",
    "URL"
   ]
  },
  {
   "cell_type": "code",
   "execution_count": 7,
   "id": "1b03ced6-5aec-4665-b0fb-a8655262718e",
   "metadata": {},
   "outputs": [
    {
     "data": {
      "text/plain": [
       "['28001', '08002', '41003', '46004']"
      ]
     },
     "execution_count": 7,
     "metadata": {},
     "output_type": "execute_result"
    }
   ],
   "source": [
    "# Desarrolla un script que encuentre todos los códigos postales en el formato '#####'. \n",
    "# Los códigos postales deben estar compuestos por cinco dígitos.\n",
    "\n",
    "codigo_postal = re.findall('[0-9]{5}', texto4)\n",
    "codigo_postal"
   ]
  },
  {
   "cell_type": "code",
   "execution_count": 8,
   "id": "cff8dfdd-5775-4acc-b2fb-3a01f134bcee",
   "metadata": {},
   "outputs": [
    {
     "data": {
      "text/plain": [
       "['ejemplo-palabra', 'prueba-texto', 'ejemplo-otro', 'palabra-por']"
      ]
     },
     "execution_count": 8,
     "metadata": {},
     "output_type": "execute_result"
    }
   ],
   "source": [
    "# Crea un script que busque y extraiga todas las palabras que contengan un guion en un texto. \n",
    "# Las palabras deben estar formadas por caracteres alfanuméricos, separados por un guion.\n",
    "\n",
    "palabras = re.findall(r'\\b\\w+-\\w+', texto5)\n",
    "palabras"
   ]
  },
  {
   "cell_type": "code",
   "execution_count": 9,
   "id": "3fc12bb4-09d4-46d4-b41f-f74771c03a01",
   "metadata": {},
   "outputs": [
    {
     "data": {
      "text/plain": [
       "['12/25/2022', '02/14/2023', '07/04/2023', '10/31/2023']"
      ]
     },
     "execution_count": 9,
     "metadata": {},
     "output_type": "execute_result"
    }
   ],
   "source": [
    "# Desarrolla un script que encuentre todas las fechas en el formato 'mm/dd/yyyy' dentro de un texto. \n",
    "# Las fechas deben estar compuestas por dos dígitos para el mes, dos dígitos para el día y cuatro dígitos para el año, separadas por barras.\n",
    "\n",
    "fechas = re.findall('[0-9]{2}\\/[0-9]{2}\\/[0-9]{4}',texto6)\n",
    "fechas"
   ]
  },
  {
   "cell_type": "code",
   "execution_count": 10,
   "id": "df550211-d196-4fbd-a9b3-32d261bff4f1",
   "metadata": {},
   "outputs": [
    {
     "data": {
      "text/plain": [
       "['#hashtag,', '#regex,', '#Python', '#programación']"
      ]
     },
     "execution_count": 10,
     "metadata": {},
     "output_type": "execute_result"
    }
   ],
   "source": [
    "# Implementa un script que busque y extraiga todos los hashtags de un texto. \n",
    "# Los hashtags deben comenzar con un símbolo de número (#) seguido de uno o más caracteres alfanuméricos.\n",
    "\n",
    "hashtags = re.findall('#[^\\s\\.]{1,}',texto7)\n",
    "hashtags"
   ]
  },
  {
   "cell_type": "code",
   "execution_count": 11,
   "id": "69d1eadc-5623-4f46-97b1-9758d5312e00",
   "metadata": {},
   "outputs": [
    {
     "data": {
      "text/plain": [
       "['@usuario1', '@usuario2', '@miusuario', '@ejemplo']"
      ]
     },
     "execution_count": 11,
     "metadata": {},
     "output_type": "execute_result"
    }
   ],
   "source": [
    "# Desarrolla un script que encuentre y extraiga todos los nombres de usuario mencionados en un texto. \n",
    "# Los nombres de usuario deben comenzar con un símbolo de arroba (@) seguido de uno o más caracteres alfanuméricos.\n",
    "\n",
    "usuarios = re.findall('\\@[^\\s\\,]*',texto8)\n",
    "usuarios"
   ]
  },
  {
   "cell_type": "code",
   "execution_count": 27,
   "id": "1201b5e7-5cda-4463-9973-d001bcf8521d",
   "metadata": {},
   "outputs": [
    {
     "name": "stdout",
     "output_type": "stream",
     "text": [
      "a \\n a\n"
     ]
    }
   ],
   "source": [
    "print('a \\\\n a')"
   ]
  },
  {
   "cell_type": "code",
   "execution_count": 12,
   "id": "a2cded40-0ee6-4ad3-8a39-dcf808944a69",
   "metadata": {},
   "outputs": [
    {
     "data": {
      "text/plain": [
       "['(+34) 612-345-678', '(+34) 678-123-456', '(+34) 911-234-567']"
      ]
     },
     "execution_count": 12,
     "metadata": {},
     "output_type": "execute_result"
    }
   ],
   "source": [
    "# Crea un script que busque y extraiga todos los números de teléfono que pueden incluir un código de país \n",
    "#en el formato '(+##) ###-###-###'. \n",
    "# Los números deben consistir en un código de país de dos dígitos entre paréntesis, seguido de un espacio, tres dígitos, un guion, tres dígitos, \n",
    "# un guion y tres dígitos.\n",
    "\n",
    "telefonos = re.findall('\\(\\+[0-9]{2}\\)\\s[0-9]{3}\\-[0-9]{3}\\-[0-9]{3}',texto9)\n",
    "telefonos"
   ]
  },
  {
   "cell_type": "code",
   "execution_count": 49,
   "id": "a89338af-93ae-4b9b-acf4-6edd13363ea0",
   "metadata": {},
   "outputs": [
    {
     "name": "stdout",
     "output_type": "stream",
     "text": [
      "['Las', 'palabras', 'alfanuméricas', 'son', 'Python3', 'Regex', 'HTML5', 'y', 'JavaScript']\n"
     ]
    }
   ],
   "source": [
    "#Diseña un script que busque y extraiga todas las palabras que contengan solo caracteres alfanuméricos, \n",
    "# es decir, letras y números, \n",
    "# sin caracteres especiales ni espacios.\n",
    "import re \n",
    "\n",
    "palabras = re.findall('\\w+',texto10)\n",
    "print(palabras)"
   ]
  },
  {
   "cell_type": "markdown",
   "id": "461fe5f6-9c03-4593-b8d5-4c4afab29cfe",
   "metadata": {},
   "source": [
    "##"
   ]
  },
  {
   "cell_type": "markdown",
   "id": "9ce0082b-dba3-44c8-8304-a90615f87f28",
   "metadata": {
    "jp-MarkdownHeadingCollapsed": true
   },
   "source": [
    "### Grupos de captura REGEX"
   ]
  },
  {
   "cell_type": "code",
   "execution_count": 42,
   "id": "c84cc73c-df8d-451f-84fd-5356687a852f",
   "metadata": {},
   "outputs": [],
   "source": [
    "# Implica poder separar los patrones en el camino de ser encontrados, como poder guardar el prefijo de todos los numeros\n",
    "\n",
    "def verificar_oraciones(patron, oraciones):\n",
    "\n",
    "    for oracion, resultado_esperado in oraciones:\n",
    "        # Verifica si el patrón coincide con toda la cadena.\n",
    "        coincide = bool(re.fullmatch(patron, oracion))\n",
    "        # Determina si el resultado coincide con el resultado \n",
    "        # esperado.\n",
    "        es_valido = coincide == resultado_esperado\n",
    "        # Imprime retroalimentación basada en la coincidencia.\n",
    "        if coincide:\n",
    "            mensaje_resultado = 'Aprobado'\n",
    "        else:\n",
    "            mensaje_resultado = 'No Aprobado'\n",
    "        mensaje_validez = '(Válido)' if resultado_esperado else '(No Válido)'\n",
    "            \n",
    "        # Mejorar la salida para incluir más detalles\n",
    "        resultado_detalle = \"Coincide\" if coincide else \"No coincide\"\n",
    "        print(f'{mensaje_resultado} --> {oracion} {mensaje_validez} | {resultado_detalle}')\n",
    "\n",
    "        \n",
    "    "
   ]
  },
  {
   "cell_type": "code",
   "execution_count": 43,
   "id": "c98ea2c1-2875-4ecd-a062-c0ffc8b69aaf",
   "metadata": {},
   "outputs": [
    {
     "name": "stdout",
     "output_type": "stream",
     "text": [
      "Aprobado --> test.gif (Válido) | Coincide\n",
      "Aprobado --> image.jpeg (Válido) | Coincide\n",
      "Aprobado --> image.jpg (Válido) | Coincide\n",
      "Aprobado --> image.TIF (Válido) | Coincide\n",
      "No Aprobado --> test (No Válido) | No coincide\n",
      "No Aprobado --> test.pdf (No Válido) | No coincide\n",
      "No Aprobado --> test.gif.gif (No Válido) | No coincide\n",
      "No Aprobado --> test..jpg (No Válido) | No coincide\n",
      "No Aprobado --> image.jpeg.jpeg (No Válido) | No coincide\n"
     ]
    }
   ],
   "source": [
    "# Define un patrón regex que permite solo archivos con extensiones específicas.\n",
    "# El patrón evita que haya dos puntos consecutivos y asegura que solo hay una extensión válida.\n",
    "pattern = r'^[\\w\\-]+\\.((gif|jpeg|jpg|TIF))$' # Solo permite las extensiones específicas\n",
    "# Define una lista de oraciones para ser comprobadas contra el patrón, junto con sus resultados esperados.\n",
    "sentences = [\n",
    " ('test.gif', True), # Debe coincidir\n",
    " ('image.jpeg', True), # Debe coincidir\n",
    " ('image.jpg', True), # Debe coincidir\n",
    " ('image.TIF', True), # Debe coincidir\n",
    " ('test', False), # No debe coincidir\n",
    " ('test.pdf', False), # No debe coincidir\n",
    " ('test.gif.gif', False), # No debe coincidir, tiene doble extensión\n",
    " ('test..jpg', False), # No debe coincidir, tiene dos puntos\n",
    " ('image.jpeg.jpeg', False) # No debe coincidir, tiene dos extensiones\n",
    "]\n",
    "# Llama a la función verificar_oraciones con el patrón y las oracionespara realizar las comprobaciones.\n",
    "verificar_oraciones(pattern, sentences)"
   ]
  },
  {
   "cell_type": "code",
   "execution_count": 46,
   "id": "4ea3c0c4-7b09-4aeb-90d2-b7f19dea410a",
   "metadata": {},
   "outputs": [],
   "source": [
    "# El interrogante ? hace la último caracter opcional amigos? encontrara (amigo / amigos)\n",
    "\n",
    "# re.sub() funciona como replace, útil para estandarizar espacios o eliminar puntuación.\n",
    "\n",
    "# Anclas es un flags que permite repetir el patron al inicio de cada linea texto ...\n",
    "\n",
    "# Si queremos separar zonas encerradas en <> y no tal que <a>asdasd<b> podemos hacer a los operadores *lazy*"
   ]
  },
  {
   "cell_type": "markdown",
   "id": "b9486033-6c70-4b4a-a25d-851b16806cfb",
   "metadata": {},
   "source": [
    "La utilización de parentesis hace una separación en tuplas de los patrones requeridos"
   ]
  },
  {
   "cell_type": "code",
   "execution_count": 47,
   "id": "5f0a0640-cfb6-4ff7-a0b1-dc31f2cf5d54",
   "metadata": {},
   "outputs": [
    {
     "name": "stdout",
     "output_type": "stream",
     "text": [
      "[('Jan', '1987'), ('May', '1969'), ('Aug', '2011')]\n"
     ]
    }
   ],
   "source": [
    "# Texto de ejemplo con meses y años\n",
    "texto = \"\"\"Jan 1987\n",
    "May 1969\n",
    "Aug 2011\"\"\"\n",
    "# Usamos una expresión regular para capturar el mes y el año\n",
    "resultados = re.findall(r\"(\\w+) (\\d{4})\", texto)\n",
    "print(resultados)\n"
   ]
  },
  {
   "cell_type": "markdown",
   "id": "83235432-9660-452b-a148-b14d2624a49f",
   "metadata": {},
   "source": [
    "### Desafios REGEX"
   ]
  },
  {
   "cell_type": "code",
   "execution_count": 251,
   "id": "d05c946f-b07f-4a1f-8d3e-33d79937ae76",
   "metadata": {},
   "outputs": [],
   "source": [
    "import re\n",
    "# Texto HTML que contiene la información de los libros\n",
    "texto_html = '''\n",
    "<html>\n",
    "<head>\n",
    " <title>Catálogo de Libros</title>\n",
    "</head>\n",
    "<body>\n",
    " <h1>Bienvenidos a nuestra tienda de libros</h1>\n",
    " <p>Estamos emocionados de presentar una amplia variedad de libros.\n",
    "Algunos de nuestros títulos más populares incluyen:</p>\n",
    " \n",
    " <div class=\"producto\">\n",
    " <p>He estado leyendo un libro fascinante llamado <strong>El Camino del Artista</strong>, de <em>Julia Cameron</em>. Te lo recomiendo mucho, realmente es transformador. \n",
    " Por cierto, puedes comprarlo por solo <span>$15.99</span> si \n",
    "te interesa. \n",
    " Recuerda que hay <strong>34 unidades en stock</strong>.</p>\n",
    " <p>Si deseas más información, contacta a <a \n",
    "href=\"mailto:julia@example.com\">julia@example.com</a> o llama al +34 \n",
    "612 345 678. \n",
    " ¡No te olvides de seguir a @juliacameron en redes \n",
    "sociales!</p>\n",
    " </div>\n",
    " <div class=\"producto\">\n",
    " <p>En esta sección, también ofrecemos <strong>Cien años de soledad</strong> de <em>Gabriel García Márquez</em>. \n",
    " Es un clásico, aunque el precio de <span>$12.50</span> podría \n",
    "parecer un poco alto. \n",
    " Aún así, tenemos <strong>50 unidades en stock</strong>, así \n",
    "que no dudes en preguntar. \n",
    " Puedes enviar un correo a <a \n",
    "href=\"mailto:gabriel@example.com\">gabriel@example.com</a> o marcar +57\n",
    "123 456 7890 para más detalles.</p>\n",
    " <p>Además, ¡sigue a @gabrielgarciamarquez en Twitter para \n",
    "actualizaciones!</p>\n",
    " </div>\n",
    " <div class=\"producto\">\n",
    " <p>Si te gustan las historias conmovedoras, deberías leer \n",
    "<strong>El Principito</strong>. Escrito por <em>Antoine de Saint\u0002Exupéry</em>, \n",
    " este libro es ideal para reflexionar sobre la vida. El precio \n",
    "es de solo <span>$10.00</span>. \n",
    " Actualmente, tenemos <strong>120 unidades en stock</strong>, \n",
    "¡así que no te lo pierdas!</p>\n",
    " <p>Para más información, contáctame a <a \n",
    "href=\"mailto:antoine@example.com\">antoine@example.com</a> o al +33 1 \n",
    "23 45 67 89. \n",
    " No te olvides de seguir a @saint_exupery para más contenido \n",
    "interesante.</p>\n",
    " </div>\n",
    " <div class=\"producto\">\n",
    " <p>He escuchado que <strong>La sombra del viento</strong> de \n",
    "<em>Carlos Ruiz Zafón</em> es un gran libro, \n",
    " y su precio es de <span>$13.75</span>. Estamos emocionados de \n",
    "tener <strong>78 unidades en stock</strong>. \n",
    " La historia es cautivadora, puedes pedir más detalles al <a \n",
    "href=\"mailto:carlos@example.com\">carlos@example.com</a> o al +34 987 \n",
    "654 321.</p>\n",
    " <p>No olvides seguir a @carlosruizzafon en Instagram, ¡él \n",
    "comparte mucho contenido interesante!</p>\n",
    " </div>\n",
    " <div class=\"producto\">\n",
    " <p>Finalmente, para aquellos interesados en estrategias, \n",
    "<strong>El arte de la guerra</strong> de <em>Sun Tzu</em> es \n",
    "imprescindible. \n",
    " A solo <span>$9.99</span> y con <strong>25 unidades en stock</strong>, es una gran oportunidad. \n",
    " Contacta a <a \n",
    "href=\"mailto:sun@example.com\">sun@example.com</a> o llama al +86 10 1234 5678 para más información.</p>\n",
    " <p>Sigue a @suntzu para obtener más consejos estratégicos.</p>\n",
    " </div>\n",
    " \n",
    " <p>¡Gracias por visitar nuestra tienda de libros! No olvides que \n",
    "también tenemos promociones especiales, así que estate atento. Si \n",
    "necesitas ayuda, estamos aquí para ti. ¡Que tengas un gran día!</p>\n",
    "</body>\n",
    "</html>\n",
    "'''"
   ]
  },
  {
   "cell_type": "code",
   "execution_count": 262,
   "id": "d853c5da-02de-4253-899c-824550585407",
   "metadata": {},
   "outputs": [
    {
     "data": {
      "text/html": [
       "<div>\n",
       "<style scoped>\n",
       "    .dataframe tbody tr th:only-of-type {\n",
       "        vertical-align: middle;\n",
       "    }\n",
       "\n",
       "    .dataframe tbody tr th {\n",
       "        vertical-align: top;\n",
       "    }\n",
       "\n",
       "    .dataframe thead th {\n",
       "        text-align: right;\n",
       "    }\n",
       "</style>\n",
       "<table border=\"1\" class=\"dataframe\">\n",
       "  <thead>\n",
       "    <tr style=\"text-align: right;\">\n",
       "      <th></th>\n",
       "      <th>Titulo</th>\n",
       "      <th>Autor</th>\n",
       "      <th>Precio ($)</th>\n",
       "      <th>Unidades</th>\n",
       "      <th>Correo</th>\n",
       "      <th>Contactos</th>\n",
       "      <th>Telefonos</th>\n",
       "    </tr>\n",
       "  </thead>\n",
       "  <tbody>\n",
       "    <tr>\n",
       "      <th>0</th>\n",
       "      <td>El Camino del Artista</td>\n",
       "      <td>Julia Cameron</td>\n",
       "      <td>15.99</td>\n",
       "      <td>34</td>\n",
       "      <td>julia@example.com</td>\n",
       "      <td>@juliacameron</td>\n",
       "      <td>+34 \\n612 345 678</td>\n",
       "    </tr>\n",
       "    <tr>\n",
       "      <th>1</th>\n",
       "      <td>Cien años de soledad</td>\n",
       "      <td>Gabriel García Márquez</td>\n",
       "      <td>12.50</td>\n",
       "      <td>50</td>\n",
       "      <td>gabriel@example.com</td>\n",
       "      <td>@gabrielgarciamarquez</td>\n",
       "      <td>+57\\n123 456 7890</td>\n",
       "    </tr>\n",
       "    <tr>\n",
       "      <th>2</th>\n",
       "      <td>El Principito</td>\n",
       "      <td>Antoine de Saint\u0002Exupéry</td>\n",
       "      <td>10.00</td>\n",
       "      <td>120</td>\n",
       "      <td>antoine@example.com</td>\n",
       "      <td>@saint_exupery</td>\n",
       "      <td>+33 1 \\n23 45 67 89</td>\n",
       "    </tr>\n",
       "    <tr>\n",
       "      <th>3</th>\n",
       "      <td>La sombra del viento</td>\n",
       "      <td>Carlos Ruiz Zafón</td>\n",
       "      <td>13.75</td>\n",
       "      <td>78</td>\n",
       "      <td>carlos@example.com</td>\n",
       "      <td>@carlosruizzafon</td>\n",
       "      <td>+34 987 \\n654 321</td>\n",
       "    </tr>\n",
       "    <tr>\n",
       "      <th>4</th>\n",
       "      <td>El arte de la guerra</td>\n",
       "      <td>Sun Tzu</td>\n",
       "      <td>9.99</td>\n",
       "      <td>25</td>\n",
       "      <td>sun@example.com</td>\n",
       "      <td>@suntzu</td>\n",
       "      <td>+86 10 1234 5678</td>\n",
       "    </tr>\n",
       "  </tbody>\n",
       "</table>\n",
       "</div>"
      ],
      "text/plain": [
       "                  Titulo                     Autor Precio ($) Unidades  \\\n",
       "0  El Camino del Artista             Julia Cameron      15.99       34   \n",
       "1   Cien años de soledad    Gabriel García Márquez      12.50       50   \n",
       "2          El Principito  Antoine de Saint\u0002Exupéry      10.00      120   \n",
       "3   La sombra del viento         Carlos Ruiz Zafón      13.75       78   \n",
       "4   El arte de la guerra                   Sun Tzu       9.99       25   \n",
       "\n",
       "                Correo              Contactos            Telefonos  \n",
       "0    julia@example.com          @juliacameron    +34 \\n612 345 678  \n",
       "1  gabriel@example.com  @gabrielgarciamarquez   +57\\n123 456 7890   \n",
       "2  antoine@example.com         @saint_exupery  +33 1 \\n23 45 67 89  \n",
       "3   carlos@example.com       @carlosruizzafon    +34 987 \\n654 321  \n",
       "4      sun@example.com                @suntzu    +86 10 1234 5678   "
      ]
     },
     "execution_count": 262,
     "metadata": {},
     "output_type": "execute_result"
    }
   ],
   "source": [
    "#1. Título del libro: El texto que se encuentra dentro de las etiquetas <strong>.\n",
    "#2. Autor del libro: El texto que se encuentra dentro de las etiquetas <em>.\n",
    "#3. Precio: La cantidad que aparece dentro de las etiquetas <span>, precedida por el \n",
    "#símbolo de dólar $.\n",
    "#4. Unidades en stock: El número que aparece después de \"unidades en stock\" en el texto \n",
    "#fuerte <strong>.\n",
    "#5. Correo electrónico: La dirección de correo que se encuentra dentro de las etiquetas <a>\n",
    "#con el atributo href que comienza con mailto:.\n",
    "#6. Número de teléfono: El número que se menciona al principio de la frase que contiene la \n",
    "#palabra \"llama al\".\n",
    "#7. Información de contacto en redes sociales: Los nombres de usuario que aparecen \n",
    "#precedidos por @.\n",
    "\n",
    "import pandas as pd\n",
    "\n",
    "texto_html = texto_html.strip(r'\\\\r\\\\n')\n",
    "\n",
    "title_libros = [possibilidad for possibilidad in re.findall('\\<strong\\>(.*?)\\<\\/strong\\>', texto_html) if not 'unidades' in possibilidad]\n",
    "autor_libros = re.findall('\\<em\\>(.*)\\<\\/em\\>', texto_html)\n",
    "price_libros = re.findall('\\<span\\>\\$(.*)\\<\\/span\\>', texto_html)\n",
    "unit_libros = re.findall('\\<strong\\>(\\d*) unidades en stock\\<\\/strong\\>', texto_html)\n",
    "correo_libros = re.findall('href=\\\"mailto:(.*)\"\\>.*\\<\\/a\\>', texto_html)\n",
    "telefono_libros = re.findall('\\+[\\d|\\s]*', texto_html)\n",
    "contacto_libros = re.findall('\\s(\\@\\S*)', texto_html)\n",
    "\n",
    "libros= {}\n",
    "libros['Titulo']= title_libros\n",
    "libros['Autor']= autor_libros\n",
    "libros['Precio ($)']= price_libros\n",
    "libros['Unidades']= unit_libros\n",
    "libros['Correo']= correo_libros\n",
    "libros['Contactos']= contacto_libros\n",
    "libros['Telefonos']= telefono_libros\n",
    "\n",
    "\n",
    "\n",
    "data_sheet= pd.DataFrame(libros)\n",
    "data_sheet"
   ]
  },
  {
   "cell_type": "markdown",
   "id": "2def3c94-d17f-4741-9a3e-7c5b476f50db",
   "metadata": {
    "jp-MarkdownHeadingCollapsed": true
   },
   "source": [
    "### Continuación REGEX"
   ]
  },
  {
   "cell_type": "code",
   "execution_count": null,
   "id": "31efdefd-6a4c-410e-8a95-50dbd99f179c",
   "metadata": {},
   "outputs": [],
   "source": [
    "# Robots.txt es donde se encuentra una gran cantidad de información para scrapping"
   ]
  },
  {
   "cell_type": "code",
   "execution_count": null,
   "id": "6f4cddfb-2632-4483-94cb-7019edbae013",
   "metadata": {},
   "outputs": [],
   "source": []
  },
  {
   "cell_type": "markdown",
   "id": "9dedd469-5c23-49ca-aff4-195c36ded084",
   "metadata": {
    "jp-MarkdownHeadingCollapsed": true
   },
   "source": [
    "## Paradigmas de programacion"
   ]
  },
  {
   "cell_type": "code",
   "execution_count": 9,
   "id": "691ab174-a99b-4dd5-b58e-327dfa0e5053",
   "metadata": {},
   "outputs": [
    {
     "data": {
      "text/plain": [
       "[2, 4]"
      ]
     },
     "execution_count": 9,
     "metadata": {},
     "output_type": "execute_result"
    }
   ],
   "source": [
    "Los paradigmas predominantes en python:\n",
    "\n",
    "- Programacion imperativa: La típica"
   ]
  },
  {
   "cell_type": "markdown",
   "id": "ba5629fd-4372-46f6-83f2-10cde0375d53",
   "metadata": {},
   "source": [
    "**Programación orientada a objetos**"
   ]
  },
  {
   "cell_type": "code",
   "execution_count": 20,
   "id": "b3c3a898-ce16-4e1c-844a-d88c64e99f9c",
   "metadata": {},
   "outputs": [
    {
     "name": "stdout",
     "output_type": "stream",
     "text": [
      "Nombre:Alex, edad:42\n"
     ]
    }
   ],
   "source": [
    "# Definimos \n",
    "class Persona:\n",
    "    def __init__(self, nombre, edad):\n",
    "        self.nombre = nombre\n",
    "        self.edad = edad\n",
    "\n",
    "    def mostrar_info(self):\n",
    "        print(f'Nombre:{self.nombre}, edad:{self.edad}')\n",
    "\n",
    "a= Persona( 'Alex', 42)\n",
    "\n",
    "a.mostrar_info()"
   ]
  },
  {
   "cell_type": "markdown",
   "id": "40859f72-8130-4109-8230-bcbe10391d32",
   "metadata": {},
   "source": [
    "**Programacion funcional**"
   ]
  },
  {
   "cell_type": "markdown",
   "id": "6315a204-ba54-4c3c-a4f0-e796b85bbcfb",
   "metadata": {},
   "source": [
    "Por lo que entiendo, tratas de utilizar las funciones como funciones matemàticas. Las funciones no tienen consecuencias, deben de hacer una sola cosa, solo te devuelven una cosa.\n",
    "\n",
    "Dependen únicamente de su input, con la misma clase de input y output.\n",
    "\n",
    "- Datos inmutables: No los modifiques, crea nuevos\n",
    "- **Map**, **Filter** y **Reduce** son las bases de este sistema de programacion"
   ]
  },
  {
   "cell_type": "code",
   "execution_count": 21,
   "id": "d027351a-5fd9-4eb4-a9e3-74cc11a1fa32",
   "metadata": {},
   "outputs": [
    {
     "data": {
      "text/plain": [
       "[0, 2, 4, 6, 8]"
      ]
     },
     "execution_count": 21,
     "metadata": {},
     "output_type": "execute_result"
    }
   ],
   "source": [
    "# Funciones de orden superior,\n",
    "# Aunque parece inutil este sistema garantiza la inmutabilidad de los datos originales\n",
    "\n",
    "def aplicar_funcion(func, lista):\n",
    "    return [func(valor) for valor in lista]\n",
    "\n",
    "resultado = aplicar_funcion(lambda x: x*2, range(0,5))\n",
    "\n",
    "\n",
    "lista = [1,2,3,4,5]\n",
    "duplicados = list(map(lambda x:x *2, lista))\n",
    "pares = list(filter(lambda x:x % 2==0, lista))\n",
    "#suma_total = reduce(lambda x, y: x+ y, lista)\n",
    "\n",
    "resultado"
   ]
  },
  {
   "cell_type": "markdown",
   "id": "eeee96e6-ab25-4a99-96b6-90b8f7dea2c6",
   "metadata": {},
   "source": [
    "Utilizar * delante de un argumento, permite múltiple argumentos. ***args**"
   ]
  },
  {
   "cell_type": "code",
   "execution_count": null,
   "id": "7ee9e389-f79f-4917-a4ed-ac9df925433c",
   "metadata": {},
   "outputs": [],
   "source": [
    "# Como crear una funcion que acepte argumentos addicionales y los sume todos sin que de errores\n",
    "\n",
    "def suma(*numeros):\n",
    "\n",
    "    return sum(*numeros)\n",
    "\n",
    "suma((1,2,3))"
   ]
  },
  {
   "cell_type": "markdown",
   "id": "0edfc3a0-ca34-4baa-9db8-4e708406bfc7",
   "metadata": {},
   "source": [
    "### Ejercicios de paradigmas"
   ]
  },
  {
   "cell_type": "code",
   "execution_count": 34,
   "id": "c9b3d36f-bda7-441c-802e-b9efb9bd9cd3",
   "metadata": {},
   "outputs": [],
   "source": [
    "# Escribe una funcion que tome una lista y la sume \n",
    "\n",
    "lista= range(0,5)\n",
    "\n",
    "##################################\n",
    "#Imperativa\n",
    "imp_suma_total= 0\n",
    "for i in lista:\n",
    "    imp_suma_total+= i\n",
    "\n",
    "##################################\n",
    "#orientada a objetos\n",
    "class processador_numeros:\n",
    "    def __init__(self, numeros):\n",
    "\n",
    "        self.numeros= numeros\n",
    "\n",
    "\n",
    "    def sumador(self):\n",
    "        return sum(self.numeros)\n",
    "\n",
    "a= processador_numeros(lista)\n",
    "oop_suma_total= a.sumador()\n",
    "\n",
    "##################################\n",
    "# Funcional\n",
    "\n",
    "\n"
   ]
  },
  {
   "cell_type": "markdown",
   "id": "7a67e671-fd2a-4caf-a46a-f15032794f0b",
   "metadata": {},
   "source": [
    "### Ejemplos mezclas paradigmas (03/10/ session 07) estuviste my perdido"
   ]
  },
  {
   "cell_type": "code",
   "execution_count": null,
   "id": "120268aa-e505-40f3-81cc-56f8d9653a13",
   "metadata": {},
   "outputs": [],
   "source": []
  },
  {
   "cell_type": "code",
   "execution_count": 43,
   "id": "21e811cf-0aaf-430b-8798-2e0033a0c5c4",
   "metadata": {},
   "outputs": [],
   "source": [
    "\n",
    "    "
   ]
  },
  {
   "cell_type": "markdown",
   "id": "690ee93a-22a1-401f-b45b-5197903e735d",
   "metadata": {},
   "source": [
    "# Otras pruebas"
   ]
  },
  {
   "cell_type": "markdown",
   "id": "10ef0ceb-5b86-43e4-8810-f8f0c10d8e07",
   "metadata": {},
   "source": [
    "Como utilizar la terminal desde python"
   ]
  },
  {
   "cell_type": "code",
   "execution_count": 1,
   "id": "57725328-d2e0-40d5-be9b-271b97b954ba",
   "metadata": {},
   "outputs": [
    {
     "name": "stdout",
     "output_type": "stream",
     "text": [
      "4.340320203111464\n"
     ]
    },
    {
     "data": {
      "image/png": "[encoded data removed]",
      "text/plain": [
       "<Figure size 640x480 with 1 Axes>"
      ]
     },
     "metadata": {},
     "output_type": "display_data"
    }
   ],
   "source": [
    "from matplotlib import pyplot as plt\n",
    "import numpy as np\n",
    "\n",
    "# Generate 100 random data points along 3 dimensions\n",
    "x, y, scale = np.random.randn(3, 100)\n",
    "\n",
    "print(x.sum())\n",
    "fig, ax = plt.subplots()\n",
    "\n",
    "# Map each onto a scatterplot we'll create with Matplotlib\n",
    "ax.scatter(x=x, y=y, c=scale, s=np.abs(scale)*500)\n",
    "ax.set(title=\"Some random data, created with JupyterLab!\")\n",
    "plt.show()"
   ]
  },
  {
   "cell_type": "code",
   "execution_count": 58,
   "id": "91452988-1f56-47c8-91f5-2bd530bda54c",
   "metadata": {},
   "outputs": [
    {
     "name": "stdin",
     "output_type": "stream",
     "text": [
      "Numero de convoluciones 2\n"
     ]
    },
    {
     "data": {
      "image/png": "[encoded data removed]",
      "text/plain": [
       "<Figure size 640x480 with 1 Axes>"
      ]
     },
     "metadata": {},
     "output_type": "display_data"
    }
   ],
   "source": [
    "import matplotlib.pyplot as plt\n",
    "from scipy.ndimage import convolve\n",
    "import os\n",
    "\n",
    "# !pip3 install scipy\n",
    "\n",
    "b= np.random.randint(1, 100, size=(500, 500,10), dtype=int)\n",
    "\n",
    "kernel= np.ones((50, 50)) \n",
    "\n",
    "for i in range(0, int(input('Numero de convoluciones'))):\n",
    "    b[:,:,2]=convolve(b[:,:,2], kernel)\n",
    "\n",
    "\n",
    "fig, ax= plt.subplots()\n",
    "ax.imshow(b[:,:,2], cmap='jet')\n",
    "plt.show()"
   ]
  },
  {
   "cell_type": "markdown",
   "id": "b08c91db-f298-47dd-a024-c9e6efc463a7",
   "metadata": {},
   "source": [
    "# Numpy"
   ]
  },
  {
   "cell_type": "markdown",
   "id": "e659a97c-6894-4808-a69d-709cd46cf8a8",
   "metadata": {},
   "source": [
    "Una de las formas mas eficientes para trabajar con mates en python, escrito en lenguaje de bajo nivel como fortran. Se utiliza en todos lados.\n",
    "\n",
    "Se diferencian de los arrays usuales de python en el hecho de que todos los metodos no necesarios para mates son ignorados haciendo las estructuras mas simples."
   ]
  },
  {
   "cell_type": "code",
   "execution_count": 2,
   "id": "7e90e10f-3591-4b0c-8f68-005bb82a910c",
   "metadata": {},
   "outputs": [],
   "source": [
    "import numpy as np"
   ]
  },
  {
   "cell_type": "code",
   "execution_count": 4,
   "id": "560ebe3b-1399-4a58-a261-f308b9a7801d",
   "metadata": {},
   "outputs": [
    {
     "name": "stdout",
     "output_type": "stream",
     "text": [
      "[[0. 0. 0. 0. 0.]\n",
      " [0. 0. 0. 0. 0.]\n",
      " [0. 0. 0. 0. 0.]]\n"
     ]
    }
   ],
   "source": [
    "print(np.zeros((3,5)))"
   ]
  },
  {
   "cell_type": "markdown",
   "id": "da0105a2-c594-41b4-afad-5c11d56597bd",
   "metadata": {},
   "source": [
    "Recordar que existe la funcion matrix.T para transponer una matriz. "
   ]
  },
  {
   "cell_type": "code",
   "execution_count": 8,
   "id": "1f13e7a1-094c-4a1e-b95b-552e85d9cf02",
   "metadata": {},
   "outputs": [
    {
     "data": {
      "text/plain": [
       "<matplotlib.image.AxesImage at 0x7f36001afaf0>"
      ]
     },
     "execution_count": 8,
     "metadata": {},
     "output_type": "execute_result"
    },
    {
     "data": {
      "image/png": "[encoded data removed]",
      "text/plain": [
       "<Figure size 640x480 with 1 Axes>"
      ]
     },
     "metadata": {},
     "output_type": "display_data"
    }
   ],
   "source": [
    "from skimage import io\n",
    "\n",
    "import matplotlib.pyplot as plt\n",
    "\n",
    "photo = io.imread('/home/manti/uoc/curso/sesiones/sesion10-151024/img/img_prueba.png')\n",
    "photo[:,:, 1] *=3\n",
    "photo[:,:, 2] *=2\n",
    "\n",
    "plt.imshow(photo[:,:,:])#, cmap = 'jet')\n",
    "\n",
    "#io.imsave(photo, '/home/manti/uoc/curso/sesiones/sesion10-151024/img/img_prueba_mod.png')"
   ]
  },
  {
   "cell_type": "markdown",
   "id": "35d00b86-d752-4d65-9438-38d614184e91",
   "metadata": {},
   "source": [
    "Aprender que leñes es EDAS"
   ]
  },
  {
   "cell_type": "markdown",
   "id": "cb39113f-8a4d-49e2-b5e4-d6aa94efdf90",
   "metadata": {},
   "source": [
    "# Correlacion"
   ]
  },
  {
   "cell_type": "markdown",
   "id": "0595b48f-a230-4808-9a72-4c7079801832",
   "metadata": {},
   "source": [
    "Existen varios niveles (obviamente), tomando la correlacion entre 0-1, ingnorando relaciones negativas. \n",
    "\n",
    "    - 0 - 0.4 -> Correlacion debil\n",
    "\n",
    "    - 0.4 - 0.8 -> Correlación fuerte\n",
    "\n",
    "    - 0.8 +     -> Correlación casi perfecte, pueden llegar a ser extraidas en el estudio por tener demasiada relación.\n"
   ]
  },
  {
   "cell_type": "code",
   "execution_count": null,
   "id": "68fa6fb5-116e-4a76-8d4c-3d1ec4897c46",
   "metadata": {},
   "outputs": [],
   "source": [
    "Causalidad:\n",
    "\n",
    "Dos variables deben esta estadísticamente relacionadas, mostrar una secuencia temporal y eliminar los elementos confusores. "
   ]
  },
  {
   "cell_type": "code",
   "execution_count": 1,
   "id": "f0619aea-21a7-4d6c-98a8-679c10a294ef",
   "metadata": {},
   "outputs": [
    {
     "ename": "IndentationError",
     "evalue": "unexpected indent (1772267549.py, line 2)",
     "output_type": "error",
     "traceback": [
      "\u001b[0;36m  Cell \u001b[0;32mIn[1], line 2\u001b[0;36m\u001b[0m\n\u001b[0;31m    import numpy as np\u001b[0m\n\u001b[0m    ^\u001b[0m\n\u001b[0;31mIndentationError\u001b[0m\u001b[0;31m:\u001b[0m unexpected indent\n"
     ]
    }
   ],
   "source": [
    "import pandas as pd\n",
    "import numpy as np\n",
    "import seaborn as sns\n",
    "import matplotlib.pyplot as plt\n",
    "from sklearn.model_selection import train_test_split\n",
    "from sklearn.linear_model import LinearRegression\n",
    "from sklearn.metrics import mean_squared_error, r2_score\n",
    "# 2. Crear un DataFrame de Ejemplo con Variables Correlacionadas\n",
    "# Generamos un conjunto de datos con **variables altamente correlacionadas** \n",
    "# para demostrar cómo una matriz de correlación puede ayudar aidentificar esas relaciones.\n",
    "np.random.seed(42)\n",
    "X1 = np.random.rand(100)\n",
    "X2 = (X1 * 0.4) + 0.2\n",
    "data = pd.DataFrame({\n",
    "    'X1': X1,\n",
    "    'X2': X2,  # Alta correlación con X1\n",
    "    'X3': (X1 + X2)*np.random.normal(0, 1, 100),  # Relación con X1 y X2\n",
    "    'X4': np.random.rand(100) + np.random.normal(0, 1, 100),  # Variable independiente\n",
    "    'X5': np.random.rand(100) + np.random.normal(0, 1, 100),  # Variable independiente\n",
    "'X6': np.random.rand(100) + np.random.normal(0, 1, 100),  # Variable independiente\n",
    "    'Y': np.random.normal(0, 1, 100)    # Variable objetivo})\n",
    " # 3. Calcular la Matriz de Correlación\n",
    " # La **matriz de correlación** nos muestra el grado de relación lineal entre las variables, \n",
    "# donde 1 indica una correlación perfecta y 0 significa que no hay correlación.\n",
    "corr_matrix = data.corr()# 4. Visualizar la Matriz de Correlación# Usamos `seaborn` para generar una visualización gráfica de la matriz de correlación. \n",
    "# Las zonas más oscuras indican una mayor correlación.\n",
    "plt.figure(figsize=(\n",
    " 10, 6\n",
    " ))\n",
    " sns.heatmap(corr_matrix, annot=\n",
    " True\n",
    " , cmap=\n",
    " 'coolwarm'\n",
    " plt.title(\n",
    " 'Matriz de Correlación')\n",
    " plt.show()\n",
    " # 5. Identificar Columnas con Correlación Alta\n",
    " , fmt=\n",
    " '.2f')\n",
    " # Definimos un **umbral de correlación** de 0.8 para identificar \n",
    "variables que están \n",
    "# fuertemente correlacionadas y, por lo tanto, pueden ser redundantes.\n",
    " threshold = \n",
    "0.8\n",
    " to_drop =\n",
    " []\n",
    " for\n",
    " column \n",
    "(corr_matrix.index \n",
    "in\n",
    " corr_matrix.columns:\n",
    " if any\n",
    " ((corr_matrix[column].\n",
    " !=\n",
    " column)):\n",
    "        to_drop.append(column)\n",
    " abs\n",
    " () >\n",
    " threshold) & \n",
    "print(\n",
    " f\"Variables altamente correlacionadas con otras: {\n",
    " to_drop}\")"
   ]
  },
  {
   "cell_type": "markdown",
   "id": "697e0cc6-c861-4c79-8bd0-a1fbc0119830",
   "metadata": {},
   "source": [
    "# Pandas"
   ]
  },
  {
   "cell_type": "markdown",
   "id": "f780bb1b-9828-4cb2-9f77-cdf7570b9598",
   "metadata": {},
   "source": [
    "Es potente, permite la visualización de datos a alto nivel, construido con NUMPY. Incluye un arsenal de funciones mas que suficiente, no se llega a aprovechar su potencial."
   ]
  },
  {
   "cell_type": "markdown",
   "id": "2317ab2f-d4e2-4ae1-83b2-6f133e753e66",
   "metadata": {},
   "source": [
    "Importantes los EDAS, metodos de previsualizacion o mejor preparación de los datos. Funciones como df.info() o df.describe() **Importantes**"
   ]
  },
  {
   "cell_type": "markdown",
   "id": "dd122555-8ac8-438d-988e-88e13b8e0db8",
   "metadata": {},
   "source": [
    "## Funciones principales"
   ]
  },
  {
   "cell_type": "code",
   "execution_count": null,
   "id": "34cead1d-ab82-49c9-aa13-077e4c5eac79",
   "metadata": {},
   "outputs": [],
   "source": [
    "# Muestra las primeras filas del DataFrame (por defecto, 5 filas)\n",
    "df.head() \n",
    "# Muestra las últimas filas del DataFrame (por defecto, 5 filas)\n",
    "df.tail() \n",
    "# Descripción estadística de las columnas numéricas\n",
    "df.describe() \n",
    "df.info() \n",
    "df.columns \n",
    "# Información general del DataFrame, incluyendo tipos de datos y \n",
    "conteo de valores no nulos\n",
    "# Muestra los nombres de las columnas\n",
    "# Muestra el índice del DataFrame\n",
    "df.index \n",
    "# Muestra los tipos de datos de cada columna\n",
    "df.dtypes \n",
    "# Crea un gráfico del DataFrame\n",
    "df.plot() \n",
    "# Crea un histograma de las columnas numéricas\n",
    "df.hist() \n",
    "# Cuenta los valores únicos de una columna específica\n",
    "df.col.value_counts() \n",
    "# Devuelve los valores únicos de una columna específica\n",
    "df.col.unique() \n",
    "# Copia el DataFrame\n",
    "df.copy() \n",
    "# Elimina columnas o filas; usa axis=0 para filas y axis=1 para \n",
    "columnas\n",
    "df.drop() \n",
    "# Elimina las filas que contienen valores nulos\n",
    "df.dropna() \n",
    "# Rellena los valores nulos con un valor específico\n",
    "df.fillna() \n",
    "# Muestra las dimensiones del DataFrame (filas, columnas)\n",
    "df.shape \n",
    "# Selecciona solo las columnas numéricas\n",
    "df._get_numeric_data() \n",
    "# Renombra columnas del DataFrame\n",
    "df.rename() \n",
    "# Reemplaza valores en columnas de tipo cadena\n",
    "df.str.replace() \n",
    "# Cambia el tipo de datos de una o más columnas\n",
    "df.astype(dtype='float32') \n",
    "# Localiza filas y columnas usando índices\n",
    "df.iloc[] \n",
    "# Localiza filas y columnas usando etiquetas\n",
    "df.loc[] \n",
    "# Transpone el DataFrame (filas se convierten en columnas y viceversa)\n",
    "df.transpose() \n",
    "df.T \n",
    "# Muestra una muestra aleatoria de filas del DataFrame\n",
    "df.sample(n, frac) \n",
    "# Calcula la suma de los valores en una columna\n",
    "df.col.sum() \n",
    "# Encuentra el valor máximo en una columna\n",
    "df.col.max() \n",
    "# Encuentra el valor mínimo en una columna\n",
    "df.col.min() \n",
    "# Selecciona una columna específica del DataFrame\n",
    "df[col] \n",
    "# Selecciona una columna usando la notación de punto\n",
    "df.col \n",
    "# Devuelve un DataFrame con los valores nulos\n",
    "df.isnull() \n",
    "# Devuelve un DataFrame con los valores nulos (alternativa)\n",
    "df.isna() \n",
    "# Devuelve un DataFrame con los valores que no son nulos\n",
    "df.notna() \n",
    "# Elimina filas duplicadas del DataFrame\n",
    "df.drop_duplicates() \n",
    "# Restablece el índice del DataFrame y lo sobreescribe\n",
    "df.reset_index(inplace=True) "
   ]
  },
  {
   "cell_type": "markdown",
   "id": "9b47acf4-f372-4778-95ca-0df914b67ff7",
   "metadata": {},
   "source": [
    "## Continuacion"
   ]
  },
  {
   "cell_type": "code",
   "execution_count": null,
   "id": "4acaf795-4309-4a15-8c12-acea67b49086",
   "metadata": {},
   "outputs": [],
   "source": [
    "# Recordemos los dataframes son mutables"
   ]
  },
  {
   "cell_type": "code",
   "execution_count": 3,
   "id": "33ac071d-4b04-49dd-b743-5e9b0974083a",
   "metadata": {},
   "outputs": [
    {
     "data": {
      "text/plain": [
       "Oregon        100.0\n",
       "Utah          200.0\n",
       "Kansas        300.0\n",
       "California    400.0\n",
       "Arkansas        NaN\n",
       "dtype: float64"
      ]
     },
     "execution_count": 3,
     "metadata": {},
     "output_type": "execute_result"
    }
   ],
   "source": [
    "# Es capad de crear incluso en situaciones complicadas, Llenando datos no conocidos con nan\n",
    "import pandas as pd\n",
    "serie = {'Oregon': 100,'Utah': 200, 'Kansas':300 , 'California':400}\n",
    "states= ['Oregon','Utah','Kansas','California','Arkansas']\n",
    "\n",
    "a = pd.Series(serie, index=states)\n",
    "a"
   ]
  },
  {
   "cell_type": "code",
   "execution_count": 6,
   "id": "b1dcfc5b-d83c-4ad9-9077-197938f037d2",
   "metadata": {},
   "outputs": [
    {
     "data": {
      "text/plain": [
       "Oregon        200.0\n",
       "Utah          300.0\n",
       "Kansas        400.0\n",
       "California    500.0\n",
       "Arkansas        NaN\n",
       "dtype: float64"
      ]
     },
     "execution_count": 6,
     "metadata": {},
     "output_type": "execute_result"
    }
   ],
   "source": [
    "# Se pueden aplicar funciones a diferentes partes\n",
    "\n",
    "def multiply_two(x):\n",
    "    return x*2\n",
    "\n",
    "a_result = a.apply(multiply_two)\n",
    "a_result = a.apply(lambda x: x+100)\n",
    "a_result"
   ]
  },
  {
   "cell_type": "code",
   "execution_count": 11,
   "id": "99c0f2aa-ee79-45c6-b69d-bda0f18f02d3",
   "metadata": {},
   "outputs": [
    {
     "data": {
      "text/plain": [
       "Oregon        200.0\n",
       "Utah          300.0\n",
       "Kansas        400.0\n",
       "California    500.0\n",
       "Arkansas        NaN\n",
       "dtype: float64"
      ]
     },
     "execution_count": 11,
     "metadata": {},
     "output_type": "execute_result"
    }
   ],
   "source": [
    "# Chachi que se pueda organizar por valores/ indicces\n",
    "\n",
    "sorted_serie = a_result.sort_values()\n",
    "sorted_serie"
   ]
  },
  {
   "cell_type": "markdown",
   "id": "18f063a9-d0e3-470f-bc33-a3a41af2c413",
   "metadata": {},
   "source": [
    "df.crosstab, pd.concat(), \n",
    "df.sample(): coge solo una parte del df\n",
    "\n",
    "merge se encuentra en esta zona"
   ]
  },
  {
   "cell_type": "code",
   "execution_count": null,
   "id": "b695559c-f048-4e29-9336-db5dfb5ef714",
   "metadata": {},
   "outputs": [],
   "source": []
  },
  {
   "cell_type": "code",
   "execution_count": null,
   "id": "4b2fb2f4-fd2e-44ec-bcd0-628ec9e0ed09",
   "metadata": {},
   "outputs": [],
   "source": []
  },
  {
   "cell_type": "code",
   "execution_count": null,
   "id": "527d8a54-9d39-44e0-a8af-20949e24c474",
   "metadata": {},
   "outputs": [],
   "source": []
  },
  {
   "cell_type": "markdown",
   "id": "5cd9ef18-c1e3-4f6d-9d8a-7044b90403ee",
   "metadata": {},
   "source": [
    "El orden de los datos si que afecta a los resultados."
   ]
  },
  {
   "cell_type": "code",
   "execution_count": null,
   "id": "75857e3b-713f-4e7a-a7e5-1b4078f7ed8e",
   "metadata": {},
   "outputs": [],
   "source": [
    "Construido con mumpy "
   ]
  },
  {
   "cell_type": "markdown",
   "id": "61b8a2f4-d5a5-4c6d-a360-8fd11d5183b0",
   "metadata": {},
   "source": [
    "# skpylearn"
   ]
  },
  {
   "cell_type": "markdown",
   "id": "e00bbfec-143d-474e-a29b-5f499a102376",
   "metadata": {},
   "source": [
    "## Variables categoricas en Modelos"
   ]
  },
  {
   "cell_type": "markdown",
   "id": "69cb062e-b3f8-4d57-82f3-f0f8d724d2fb",
   "metadata": {},
   "source": [
    "Se llaman label encoders en general, cuando solo agrega un campo. One hot convierte multiples columnas en binarias para representar variables categoricas."
   ]
  },
  {
   "cell_type": "code",
   "execution_count": 10,
   "id": "29316c8c-5ff7-4229-b650-be28740c3611",
   "metadata": {},
   "outputs": [
    {
     "name": "stdout",
     "output_type": "stream",
     "text": [
      "[np.str_('Charmander'), np.str_('Pikachu'), np.str_('Raichu'), np.str_('Squirtle')]\n",
      "[1 0 2 1]\n"
     ]
    }
   ],
   "source": [
    "import pandas as pd\n",
    "from sklearn import preprocessing\n",
    "\n",
    "\n",
    "\n",
    "\n",
    "# Aqui preparamos el modelo para que sea capaz de coger labels en el entrenamiento\n",
    "encoder = preprocessing.LabelEncoder()\n",
    "encoder.fit(['Pikachu', 'Squirtle', 'Charmander', 'Raichu', 'Raichu'])\n",
    "print(list(encoder.classes_))\n",
    "\n",
    "# Aqui transformamos el valor numerico de las variables categoricas\n",
    "prueba = encoder.transform(['Pikachu', 'Charmander', 'Raichu', 'Pikachu'])\n",
    "print(prueba)"
   ]
  },
  {
   "cell_type": "code",
   "execution_count": 37,
   "id": "ff3cd261-d813-4b27-8544-48e7d347fa1f",
   "metadata": {},
   "outputs": [
    {
     "name": "stdout",
     "output_type": "stream",
     "text": [
      "<class 'pandas.core.frame.DataFrame'>\n",
      "RangeIndex: 801 entries, 0 to 800\n",
      "Data columns (total 41 columns):\n",
      " #   Column             Non-Null Count  Dtype  \n",
      "---  ------             --------------  -----  \n",
      " 0   abilities          801 non-null    object \n",
      " 1   against_bug        801 non-null    float64\n",
      " 2   against_dark       801 non-null    float64\n",
      " 3   against_dragon     801 non-null    float64\n",
      " 4   against_electric   801 non-null    float64\n",
      " 5   against_fairy      801 non-null    float64\n",
      " 6   against_fight      801 non-null    float64\n",
      " 7   against_fire       801 non-null    float64\n",
      " 8   against_flying     801 non-null    float64\n",
      " 9   against_ghost      801 non-null    float64\n",
      " 10  against_grass      801 non-null    float64\n",
      " 11  against_ground     801 non-null    float64\n",
      " 12  against_ice        801 non-null    float64\n",
      " 13  against_normal     801 non-null    float64\n",
      " 14  against_poison     801 non-null    float64\n",
      " 15  against_psychic    801 non-null    float64\n",
      " 16  against_rock       801 non-null    float64\n",
      " 17  against_steel      801 non-null    float64\n",
      " 18  against_water      801 non-null    float64\n",
      " 19  attack             801 non-null    int64  \n",
      " 20  base_egg_steps     801 non-null    int64  \n",
      " 21  base_happiness     801 non-null    int64  \n",
      " 22  base_total         801 non-null    int64  \n",
      " 23  capture_rate       801 non-null    object \n",
      " 24  classfication      801 non-null    object \n",
      " 25  defense            801 non-null    int64  \n",
      " 26  experience_growth  801 non-null    int64  \n",
      " 27  height_m           781 non-null    float64\n",
      " 28  hp                 801 non-null    int64  \n",
      " 29  japanese_name      801 non-null    object \n",
      " 30  name               801 non-null    object \n",
      " 31  percentage_male    703 non-null    float64\n",
      " 32  pokedex_number     801 non-null    int64  \n",
      " 33  sp_attack          801 non-null    int64  \n",
      " 34  sp_defense         801 non-null    int64  \n",
      " 35  speed              801 non-null    int64  \n",
      " 36  type1              801 non-null    object \n",
      " 37  type2              417 non-null    object \n",
      " 38  weight_kg          781 non-null    float64\n",
      " 39  generation         801 non-null    int64  \n",
      " 40  is_legendary       801 non-null    int64  \n",
      "dtypes: float64(21), int64(13), object(7)\n",
      "memory usage: 256.7+ KB\n"
     ]
    },
    {
     "data": {
      "image/png": "[encoded data removed]",
      "text/plain": [
       "<Figure size 640x480 with 1 Axes>"
      ]
     },
     "metadata": {},
     "output_type": "display_data"
    },
    {
     "data": {
      "image/png": "[encoded data removed]",
      "text/plain": [
       "<Figure size 640x480 with 1 Axes>"
      ]
     },
     "metadata": {},
     "output_type": "display_data"
    },
    {
     "data": {
      "image/png": "[encoded data removed]",
      "text/plain": [
       "<Figure size 640x480 with 1 Axes>"
      ]
     },
     "metadata": {},
     "output_type": "display_data"
    }
   ],
   "source": [
    "import matplotlib.pyplot as plt\n",
    "\n",
    "pokemon_dataset= pd.read_csv('/home/manti/uoc/Python_UOC/Proyecto kaggle/pokemon.csv')\n",
    "# print(pokemon_dataset.loc[:,'name':])\n",
    "\n",
    "pokemon_dataset.info()\n",
    "\n",
    "pokemon_dataset.groupby('generation')['is_legendary'].sum().plot(kind = 'bar')\n",
    "plt.show()\n",
    "\n",
    "pokemon_dataset['weight_kg'].hist(bins=50)\n",
    "plt.show()\n",
    "\n",
    "pokemon_dataset[pokemon_dataset['is_legendary']==1]['weight_kg'].hist(bins=50)\n",
    "plt.show()"
   ]
  },
  {
   "cell_type": "markdown",
   "id": "be4e6ed1-23e2-4f06-a233-f905df7037cc",
   "metadata": {},
   "source": [
    "### Proxima semana"
   ]
  },
  {
   "cell_type": "markdown",
   "id": "5169138a-b7f9-41de-be9b-54571f13cace",
   "metadata": {},
   "source": [
    "Empezaremos con scraping para poder trabajar con los datos, vectores matrices, y finalmente K-fold. Implica probar las diferentes permutaciones al entrenar un modelo. Resulta que cambia mucho segun el orden de los datos."
   ]
  },
  {
   "cell_type": "markdown",
   "id": "cb25d20b-6d86-4c82-b2cf-39be5d697b30",
   "metadata": {},
   "source": [
    "# Analisis de Regresion"
   ]
  },
  {
   "cell_type": "markdown",
   "id": "9617b587-0270-4b6d-bb5c-df5ba0bba7b3",
   "metadata": {},
   "source": [
    "Se explica como tratarlo en Regression_II de session 15"
   ]
  },
  {
   "cell_type": "markdown",
   "id": "c51d3086-04d5-4c85-97fd-9ad4f7b8092b",
   "metadata": {},
   "source": [
    "## Regularizacion"
   ]
  },
  {
   "cell_type": "markdown",
   "id": "5b34fc9b-19ad-4c4e-ba49-395d7cd100b9",
   "metadata": {},
   "source": [
    "Queremos controlar el sobreajuste de un modelo mediante los coeficientes del modelo de regression lineal, para poder hacerlo existen dos metodos principales.\n",
    "\n",
    "**Ridge**: Cuando los coeficientes son todos importantes y simplemente queremos controlar su eficiencia. \n",
    "**Lasso**: Elimina los coeficientes no relevantes.\n",
    "**Elastic net**: Combina ridge y Lasso."
   ]
  },
  {
   "cell_type": "markdown",
   "id": "077079e5-7c01-4452-8b91-4fb2f6491203",
   "metadata": {},
   "source": [
    "En el preprocessado de variables, utilitzamos standard_scale() de sklearn. Permite tener todas las variables dependientes controladas. Se comenta algo de hiperparametros, se tiene que probar por diferentes alpha, unos parametros utilziados en la seleccion del mejor método de regularizacion para modelo.\n",
    "\n",
    "Es probable que se usen también Lagrangianos en el proceso de optimizacion de parametros."
   ]
  },
  {
   "cell_type": "markdown",
   "id": "59d5562b-0d68-411f-bc82-0c16a84a07ce",
   "metadata": {},
   "source": [
    "Sklearn tiene sklearn.feature_selection.SelectkBest que permite la seleccion de las mejores características con background estadístico. "
   ]
  },
  {
   "cell_type": "code",
   "execution_count": null,
   "id": "bf47fd42-d127-426b-bf06-f25cdda8f8c8",
   "metadata": {},
   "outputs": [],
   "source": []
  },
  {
   "cell_type": "code",
   "execution_count": null,
   "id": "32170cfa-b5fd-41c9-b77c-4a702db3f9a8",
   "metadata": {},
   "outputs": [],
   "source": []
  },
  {
   "cell_type": "code",
   "execution_count": null,
   "id": "c7310ac6-2183-4ac1-9b63-0c3ab2e156e3",
   "metadata": {},
   "outputs": [],
   "source": []
  },
  {
   "cell_type": "markdown",
   "id": "e6ba9f5e-4322-4a21-8774-5c24310b7624",
   "metadata": {},
   "source": [
    "# Por si aca"
   ]
  }
 ],
 "metadata": {
  "kernelspec": {
   "display_name": "Python 3 (ipykernel)",
   "language": "python",
   "name": "python3"
  },
  "language_info": {
   "codemirror_mode": {
    "name": "ipython",
    "version": 3
   },
   "file_extension": ".py",
   "mimetype": "text/x-python",
   "name": "python",
   "nbconvert_exporter": "python",
   "pygments_lexer": "ipython3",
   "version": "3.10.12"
  }
 },
 "nbformat": 4,
 "nbformat_minor": 5
}
