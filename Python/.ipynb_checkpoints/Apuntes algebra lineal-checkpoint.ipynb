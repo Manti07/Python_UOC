{
 "cells": [
  {
   "cell_type": "markdown",
   "id": "d0b10d48-36e9-4931-b0ff-c3d2c2dbd758",
   "metadata": {},
   "source": [
    "# Apuntes Algebra lineal"
   ]
  },
  {
   "cell_type": "markdown",
   "id": "7f87dcd7-4a84-4530-8032-80908e2a68d7",
   "metadata": {},
   "source": [
    "## Introducción"
   ]
  },
  {
   "cell_type": "markdown",
   "id": "120a6c0f-adb5-4759-8098-aaf1ce298b6d",
   "metadata": {},
   "source": [
    "Conoces la amyoria, basicamente matrices y similares, principalmente primera hora del 07/10"
   ]
  },
  {
   "cell_type": "markdown",
   "id": "2da51c2b-e1d3-4a5c-a84e-71b346728673",
   "metadata": {},
   "source": [
    "## Interpolaciones 07/10/2024, Teoria en github"
   ]
  },
  {
   "cell_type": "markdown",
   "id": "e85e18f2-bf1b-41e5-8cb5-97378e5ed771",
   "metadata": {},
   "source": [
    "### Intro"
   ]
  },
  {
   "cell_type": "markdown",
   "id": "efc33c10-65cb-4ff7-995a-3846e2be6184",
   "metadata": {},
   "source": [
    "- **Interpolación lineal**, formula de la recta, ya la conoces, tiene saltos asi que no derivable y horrible en la extrapolacion\n",
    "\n",
    "- **Interpolación polinómica**, La conoces tambien pero tiene una formula mas compleja sta si que la tendrias que mirar, pero es un conjunto de sumatorio + productorio de diferentes puntos.\n",
    "\n",
    "- **Interpolación de splines** polinomios de grado 3 por cada intervalo, derivadas primera y segunda continuos. Polinomio de 3r grado donde a,b,c y d se obtienen de condiciones de contornos. Requiere esfuerzo computacional en comparacion a las otras."
   ]
  },
  {
   "cell_type": "markdown",
   "id": "5a46131c-63ac-4c5a-8c38-9f3bca85eb02",
   "metadata": {},
   "source": [
    "Hay otras mas complejas como **Fourier** pero la interpolación tiene grandes ventajas, precisión, simplicidad pero también desventajas. Problema, la extrapolación no es posible con estas formulas ya que saliendo del intervalo la confianza no es garantizada (cliente no hace caso).\n",
    "\n",
    "Curiosamente el intervalo para la interpolación se podria considerar la limpieza anterior al aplicar los métodos. Limpiar outliers, quitar valores repetidos, tomar la media, todo esto son cosas que afectan al conjunto de datos y por lo tanto al intervalo en el que la interpolación es válida."
   ]
  },
  {
   "cell_type": "markdown",
   "id": "4cab1bda-bf3d-4812-9d79-f00a01d6a251",
   "metadata": {},
   "source": [
    "### Aplicaciones"
   ]
  },
  {
   "cell_type": "markdown",
   "id": "9960d9fe-748f-4ba6-9322-e386acc01cbb",
   "metadata": {},
   "source": [
    "- **Modelado predictivo** Similar a lo de patrones pero siendo algo nuevo\n",
    "- **Graficos Computadora** Smoothing\n",
    "- **Reconocimiento de patrones** Sacar info a partir de otros similares\n",
    "- **Analisis Espacial** Lo que hiciste con la temperatura"
   ]
  },
  {
   "cell_type": "markdown",
   "id": "bb213820-0a08-45e3-8dad-bbf6f97b01ae",
   "metadata": {},
   "source": [
    "### Matrices"
   ]
  },
  {
   "cell_type": "code",
   "execution_count": null,
   "id": "fe960116-33c1-4059-8a36-3cbe0e627d9e",
   "metadata": {},
   "outputs": [],
   "source": []
  },
  {
   "cell_type": "code",
   "execution_count": null,
   "id": "6d7afdc8-f880-4620-a88b-f1cd20a5d4e0",
   "metadata": {},
   "outputs": [],
   "source": [
    "Construcciones de matrices y de sistemas"
   ]
  },
  {
   "cell_type": "markdown",
   "id": "31078c9d-a384-4ddb-8f9f-c713f6f26207",
   "metadata": {},
   "source": [
    "#### Determinante"
   ]
  },
  {
   "cell_type": "markdown",
   "id": "87dddfdf-0b04-4627-813a-cb35568ff09d",
   "metadata": {},
   "source": [
    "Nada que no hayas hecho, 2D, 3D.   No es dificil en mas D {det(A) = \\sum(-1)**(1+j) a1j det (M1j)} por todas las j. "
   ]
  },
  {
   "cell_type": "markdown",
   "id": "001b3a96-7f28-46fd-8a0e-964cede212eb",
   "metadata": {},
   "source": [
    "Se puede cambiar filas pero cambia el signo del determinante, Si se repite o se puede construir una fila a partir de las otras determinante = 0"
   ]
  },
  {
   "cell_type": "markdown",
   "id": "21db97dd-35a1-4a76-bcb9-a1faa94273f0",
   "metadata": {},
   "source": [
    "El **Rango** nos dice los vectores independientes en un sistema, basicamente haver gauss."
   ]
  },
  {
   "cell_type": "markdown",
   "id": "0685c883-b8e5-4c86-9ff8-3dc5a400019e",
   "metadata": {},
   "source": [
    "Soluciones de eq:\n",
    "\n",
    "- **SCD** = Si (rango A == rango (A | S) == incognitas) tantas incognitas como solucioens\n",
    "\n",
    "- **SC Indeterminado** = Si (rango A == rango (A | S) != incognitas) una incognita pasa a ser parametro\n",
    "\n",
    "- **Sistema incompatible** = Si (rango A != rango (A|S) )"
   ]
  },
  {
   "cell_type": "code",
   "execution_count": null,
   "id": "693f63e8-cba5-417b-aa95-e15d7cc5d6f8",
   "metadata": {},
   "outputs": [],
   "source": []
  }
 ],
 "metadata": {
  "kernelspec": {
   "display_name": "Python 3 (ipykernel)",
   "language": "python",
   "name": "python3"
  },
  "language_info": {
   "codemirror_mode": {
    "name": "ipython",
    "version": 3
   },
   "file_extension": ".py",
   "mimetype": "text/x-python",
   "name": "python",
   "nbconvert_exporter": "python",
   "pygments_lexer": "ipython3",
   "version": "3.10.12"
  }
 },
 "nbformat": 4,
 "nbformat_minor": 5
}
