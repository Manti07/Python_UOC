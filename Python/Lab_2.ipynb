{
 "cells": [
  {
   "cell_type": "markdown",
   "metadata": {},
   "source": [
    "## Instrucciones para el Laboratorio\n",
    "\n",
    "Para cada ejercicio del laboratorio, se requiere seguir estos pasos:\n",
    "\n",
    "1. **Desarrollo del Pseudocódigo**: Antes de comenzar a programar, elabora un pseudocódigo para cada solución. El pseudocódigo debe detallar la lógica y los pasos necesarios para resolver el problema de manera clara y estructurada. Esto te ayudará a comprender mejor la solución antes de codificarla.\n",
    "\n",
    "2. **Implementación del Programa**: Una vez que tengas el pseudocódigo listo y revisado, procede a programar la solución en Python. Asegúrate de que tu código siga la lógica que has definido en el pseudocódigo y cumpla con los requisitos especificados en cada ejercicio.\n",
    "\n",
    "Recuerda que una buena planificación a través del pseudocódigo facilitará el proceso de programación y te permitirá identificar posibles errores antes de implementar el código."
   ]
  },
  {
   "cell_type": "markdown",
   "metadata": {},
   "source": [
    "## Ejercicio: Transformación de Palabras\n",
    "\n",
    "Dada la lista de palabras:"
   ]
  },
  {
   "cell_type": "code",
   "execution_count": 2,
   "metadata": {},
   "outputs": [],
   "source": [
    "words = ['play', 'filling', 'bar', 'theatre', 'easygoing', 'date', 'lead', 'that', 'story',  'island']"
   ]
  },
  {
   "cell_type": "markdown",
   "metadata": {},
   "source": [
    "1. **Imprimir Letras Mayúsculas**: Escribe un programa que imprima todas las letras de cada palabra en la lista en mayúsculas, separando cada letra por una coma."
   ]
  },
  {
   "cell_type": "markdown",
   "metadata": {},
   "source": [
    "Nuestro objetivo se puede dividir en dos partes: Convertir todas las letras en mayusculas y dividir las letras.\n",
    "La primera parte la podemos conseguir con un bucle que itere por todas las palabras, transformandolas enteras en mayusculas, una vez \n",
    "transformadas iteramos por cada una de sus letras."
   ]
  },
  {
   "cell_type": "code",
   "execution_count": 75,
   "metadata": {},
   "outputs": [
    {
     "name": "stdout",
     "output_type": "stream",
     "text": [
      "P,L,A,Y,\n",
      "F,I,L,L,I,N,G,\n",
      "B,A,R,\n",
      "T,H,E,A,T,R,E,\n",
      "E,A,S,Y,G,O,I,N,G,\n",
      "D,A,T,E,\n",
      "L,E,A,D,\n",
      "T,H,A,T,\n",
      "S,T,O,R,Y,\n",
      "I,S,L,A,N,D,\n"
     ]
    }
   ],
   "source": [
    "upper_case_letters=[]\n",
    "for word in words:\n",
    "    upper_case_letters=''\n",
    "\n",
    "    for letter in word:\n",
    "        upper_case_letters+= letter.upper() + ','\n",
    "\n",
    "\n",
    "    print(upper_case_letters)\n",
    "        \n",
    "\n"
   ]
  },
  {
   "cell_type": "markdown",
   "metadata": {},
   "source": [
    "2. **Crear una Nueva Lista**: Genera una nueva lista que contenga solo las palabras que tengan 5 o más letras. Luego, imprime esta nueva lista."
   ]
  },
  {
   "cell_type": "code",
   "execution_count": 4,
   "metadata": {},
   "outputs": [],
   "source": [
    "# tu pseudocodigo aquí"
   ]
  },
  {
   "cell_type": "code",
   "execution_count": 5,
   "metadata": {},
   "outputs": [
    {
     "name": "stdout",
     "output_type": "stream",
     "text": [
      "['filling', 'theatre', 'easygoing', 'story', 'island']\n"
     ]
    }
   ],
   "source": [
    "long_words=[]\n",
    "for word in words:\n",
    "    if len(word)>=5:\n",
    "        long_words.append(word)\n",
    "        \n",
    "print(long_words)"
   ]
  },
  {
   "cell_type": "markdown",
   "metadata": {},
   "source": [
    "3. **Encontrar Palabras que Comienzan con 't'**: Imprime la primera palabra en la lista que comience con la letra 't'. Si no hay ninguna, imprime un mensaje indicando que no se encontró ninguna palabra que empiece con 't'."
   ]
  },
  {
   "cell_type": "code",
   "execution_count": 6,
   "metadata": {},
   "outputs": [],
   "source": [
    "# tu pseudocodigo aquí"
   ]
  },
  {
   "cell_type": "code",
   "execution_count": 7,
   "metadata": {},
   "outputs": [
    {
     "name": "stdout",
     "output_type": "stream",
     "text": [
      "La primera palabra que empieza por t es theatre\n"
     ]
    }
   ],
   "source": [
    "word_t=False\n",
    "for word in words:\n",
    "    if word[0]=='t':\n",
    "        print(f'La primera palabra que empieza por t es {word}')\n",
    "        word_t=True\n",
    "        break\n",
    "\n",
    "if not word_t:\n",
    "    print('No hay palabras que empiecen por t')"
   ]
  },
  {
   "cell_type": "markdown",
   "metadata": {},
   "source": [
    "4. **Contar las Vocales**: Escribe un programa que cuente y imprima el número total de vocales en todas las palabras de la lista."
   ]
  },
  {
   "cell_type": "code",
   "execution_count": 8,
   "metadata": {},
   "outputs": [],
   "source": [
    "# tu pseudocodigo aquí"
   ]
  },
  {
   "cell_type": "code",
   "execution_count": 9,
   "metadata": {},
   "outputs": [
    {
     "name": "stdout",
     "output_type": "stream",
     "text": [
      "{'a': 8, 'e': 5, 'i': 4, 'o': 2, 'u': 0}\n"
     ]
    }
   ],
   "source": [
    "vocals={'a':0, 'e':0, 'i':0, 'o':0, 'u':0}\n",
    "for word in words:\n",
    "    for letter in word:\n",
    "        if letter in vocals:\n",
    "            vocals[letter]+=1\n",
    "\n",
    "print(vocals)"
   ]
  },
  {
   "cell_type": "markdown",
   "metadata": {},
   "source": [
    "5. **Palabras que Contienen la Letra 'a'**: Crea una nueva lista que contenga solo las palabras que tengan la letra 'a'. Imprime esta nueva lista."
   ]
  },
  {
   "cell_type": "code",
   "execution_count": 10,
   "metadata": {},
   "outputs": [],
   "source": [
    "# tu pseudocodigo aquí"
   ]
  },
  {
   "cell_type": "code",
   "execution_count": 77,
   "metadata": {},
   "outputs": [
    {
     "name": "stdout",
     "output_type": "stream",
     "text": [
      "['play', 'bar', 'theatre', 'easygoing', 'date', 'lead', 'that', 'island']\n"
     ]
    }
   ],
   "source": [
    "a_words=[]\n",
    "\n",
    "for word in words:\n",
    "    if 'a' in word.lower():\n",
    "        a_words.append(word)\n",
    "        continue\n",
    "print(a_words)"
   ]
  },
  {
   "cell_type": "markdown",
   "metadata": {},
   "source": [
    "6. **Palabras en Orden Inverso**: Imprime la lista de palabras en orden inverso, de la última a la primera."
   ]
  },
  {
   "cell_type": "code",
   "execution_count": null,
   "metadata": {},
   "outputs": [],
   "source": [
    "# tu pseudocodigo aquí"
   ]
  },
  {
   "cell_type": "code",
   "execution_count": 19,
   "metadata": {},
   "outputs": [
    {
     "name": "stdout",
     "output_type": "stream",
     "text": [
      "island\n",
      "story\n",
      "that\n",
      "lead\n",
      "date\n",
      "easygoing\n",
      "theatre\n",
      "bar\n",
      "filling\n",
      "play\n"
     ]
    }
   ],
   "source": [
    "for i in range(-1 , -len(words) -1, -1):\n",
    "    print(words[i])"
   ]
  },
  {
   "cell_type": "markdown",
   "metadata": {},
   "source": [
    "## Numeros Primos"
   ]
  },
  {
   "cell_type": "markdown",
   "metadata": {},
   "source": [
    "1. **Lista de Números Primos**: \n",
    "   Crea una lista que contenga los números primos entre 1 y 20. Imprime la lista."
   ]
  },
  {
   "cell_type": "code",
   "execution_count": null,
   "metadata": {},
   "outputs": [],
   "source": [
    "# tu pseudocodigo aquí"
   ]
  },
  {
   "cell_type": "code",
   "execution_count": 27,
   "metadata": {},
   "outputs": [
    {
     "name": "stdout",
     "output_type": "stream",
     "text": [
      "[2, 3, 5, 7, 11, 13, 17, 19]\n"
     ]
    }
   ],
   "source": [
    "primos=[2]\n",
    "for i in range(3,21):\n",
    "    multiple = 0\n",
    "\n",
    "    for primo in primos:\n",
    "        if i%primo==0:\n",
    "            multiple=1\n",
    "            \n",
    "    if multiple==0:\n",
    "        primos.append(i)\n",
    "\n",
    "print(primos)\n",
    "    \n",
    "    "
   ]
  },
  {
   "cell_type": "markdown",
   "metadata": {},
   "source": [
    "2. **Contar Números Primos**: \n",
    "   Escribe un programa que cuente cuántos números primos hay entre 1 y 30. Imprime el total."
   ]
  },
  {
   "cell_type": "code",
   "execution_count": null,
   "metadata": {},
   "outputs": [],
   "source": [
    "# tu pseudocodigo aquí"
   ]
  },
  {
   "cell_type": "code",
   "execution_count": 28,
   "metadata": {},
   "outputs": [
    {
     "name": "stdout",
     "output_type": "stream",
     "text": [
      "10\n"
     ]
    }
   ],
   "source": [
    "primos=[2]\n",
    "for i in range(3,30):\n",
    "    multiple = 0\n",
    "\n",
    "    for primo in primos:\n",
    "        if i%primo==0:\n",
    "            multiple=1\n",
    "            \n",
    "    if multiple==0:\n",
    "        primos.append(i)\n",
    "\n",
    "print(len(primos))"
   ]
  },
  {
   "cell_type": "markdown",
   "metadata": {},
   "source": [
    "3. **Suma de Números Primos**: \n",
    "   Crea un programa que calcule la suma de los números primos menores de 50 y la imprima."
   ]
  },
  {
   "cell_type": "code",
   "execution_count": null,
   "metadata": {},
   "outputs": [],
   "source": [
    "# tu pseudocodigo aquí"
   ]
  },
  {
   "cell_type": "code",
   "execution_count": 78,
   "metadata": {},
   "outputs": [
    {
     "name": "stdout",
     "output_type": "stream",
     "text": [
      "328\n"
     ]
    }
   ],
   "source": [
    "primos=[2]\n",
    "for i in range(3,50):\n",
    "    multiple = 0\n",
    "\n",
    "    for primo in primos:\n",
    "        if i%primo==0:\n",
    "            multiple=1\n",
    "            break\n",
    "            \n",
    "    if multiple==0:\n",
    "        primos.append(i)\n",
    "\n",
    "print(sum(primos))"
   ]
  },
  {
   "cell_type": "markdown",
   "metadata": {},
   "source": [
    "4. **Verificar si un Número es Primo**: \n",
    "   Escribe un programa que pida al usuario un número y que determine si es primo. Imprime un mensaje indicando si el número es primo o no."
   ]
  },
  {
   "cell_type": "code",
   "execution_count": null,
   "metadata": {},
   "outputs": [],
   "source": [
    "# tu pseudocodigo aquí"
   ]
  },
  {
   "cell_type": "code",
   "execution_count": 37,
   "metadata": {},
   "outputs": [
    {
     "name": "stdout",
     "output_type": "stream",
     "text": [
      "True\n"
     ]
    }
   ],
   "source": [
    "primos=[2]\n",
    "max_primo= 73\n",
    "for i in range(3,max_primo+1):\n",
    "    multiple = 0\n",
    "\n",
    "    for primo in primos:\n",
    "        if i%primo==0:\n",
    "            multiple=1\n",
    "            \n",
    "    if multiple==0:\n",
    "        primos.append(i)\n",
    "\n",
    "print(max_primo in primos)"
   ]
  },
  {
   "cell_type": "markdown",
   "metadata": {},
   "source": [
    "5. **Primos Menores a un Número**: \n",
    "   Crea un programa que pida al usuario un número y que imprima todos los números primos menores que ese número."
   ]
  },
  {
   "cell_type": "code",
   "execution_count": null,
   "metadata": {},
   "outputs": [],
   "source": [
    "# tu pseudocodigo aquí"
   ]
  },
  {
   "cell_type": "code",
   "execution_count": 38,
   "metadata": {},
   "outputs": [
    {
     "name": "stdout",
     "output_type": "stream",
     "text": [
      "[2, 3, 5, 7, 11, 13, 17, 19, 23, 29, 31, 37, 41, 43, 47, 53, 59, 61, 67, 71]\n"
     ]
    }
   ],
   "source": [
    "primos=[2]\n",
    "max_primo= 73\n",
    "for i in range(3,max_primo):\n",
    "    multiple = 0\n",
    "\n",
    "    for primo in primos:\n",
    "        if i%primo==0:\n",
    "            multiple=1\n",
    "            \n",
    "    if multiple==0:\n",
    "        primos.append(i)\n",
    "\n",
    "print(primos)"
   ]
  },
  {
   "cell_type": "markdown",
   "metadata": {},
   "source": [
    "6. **Lista de Primos en un Rango**: \n",
    "   Crea un programa que genere e imprima los números primos entre 10 y 50."
   ]
  },
  {
   "cell_type": "code",
   "execution_count": null,
   "metadata": {},
   "outputs": [],
   "source": [
    "# tu pseudocodigo aquí"
   ]
  },
  {
   "cell_type": "code",
   "execution_count": 57,
   "metadata": {},
   "outputs": [
    {
     "name": "stdout",
     "output_type": "stream",
     "text": [
      "[2, 3, 5, 7, 11, 13, 17, 19, 23, 29, 31, 37, 41, 43, 47]\n",
      "[11, 13, 17, 19, 23, 29, 31, 37, 41, 43, 47]\n"
     ]
    }
   ],
   "source": [
    "primos=[2]\n",
    "for i in range(3,50):\n",
    "    multiple = 0\n",
    "\n",
    "    for primo in primos:\n",
    "        if i%primo==0:\n",
    "            multiple=1\n",
    "            \n",
    "    if multiple==0:\n",
    "        primos.append(i)\n",
    "\n",
    "print(primos)\n",
    "\n",
    "while primos[0] < 10: \n",
    "    primos.pop(0)\n",
    "\n",
    "\n",
    "print(primos)"
   ]
  },
  {
   "cell_type": "markdown",
   "metadata": {},
   "source": [
    "## People\n",
    "\n",
    "Dada la siguiente lista de personas:"
   ]
  },
  {
   "cell_type": "code",
   "execution_count": 59,
   "metadata": {},
   "outputs": [],
   "source": [
    "people = [\n",
    "    {\n",
    "        \"name\": \"Juan\",\n",
    "        \"age\": 34,\n",
    "        \"n_kids\": 2,\n",
    "        \"city\": \"Madrid\"\n",
    "    },\n",
    "    {\n",
    "        \"name\": \"Pepe\",\n",
    "        \"age\": 27,\n",
    "        \"n_kids\": 0,\n",
    "        \"city\": \"Barcelona\"\n",
    "    },\n",
    "    {\n",
    "        \"name\": \"Sonia\",\n",
    "        \"age\": 41,\n",
    "        \"n_kids\": 1,\n",
    "        \"city\": \"Valencia\"\n",
    "    },\n",
    "    {\n",
    "        \"name\": \"Lucía\",\n",
    "        \"age\": 22,\n",
    "        \"n_kids\": 2,\n",
    "        \"city\": \"Sevilla\"\n",
    "    },\n",
    "    {\n",
    "        \"name\": \"Leo\",\n",
    "        \"age\": 55,\n",
    "        \"n_kids\": 5,\n",
    "        \"city\": \"Bilbao\"\n",
    "    },\n",
    "    {\n",
    "        \"name\": \"Marta\",\n",
    "        \"age\": 30,\n",
    "        \"n_kids\": 3,\n",
    "        \"city\": \"Zaragoza\"\n",
    "    },\n",
    "    {\n",
    "        \"name\": \"Carlos\",\n",
    "        \"age\": 45,\n",
    "        \"n_kids\": 0,\n",
    "        \"city\": \"Granada\"\n",
    "    }\n",
    "]"
   ]
  },
  {
   "cell_type": "markdown",
   "metadata": {},
   "source": [
    "1. **Contar Personas**: \n",
    "   Escribe un programa que cuente cuántas personas hay en la lista `people`. Imprime el total."
   ]
  },
  {
   "cell_type": "code",
   "execution_count": null,
   "metadata": {},
   "outputs": [],
   "source": [
    "# tu pseudocodigo aquí"
   ]
  },
  {
   "cell_type": "code",
   "execution_count": 60,
   "metadata": {},
   "outputs": [
    {
     "name": "stdout",
     "output_type": "stream",
     "text": [
      "7\n"
     ]
    }
   ],
   "source": [
    "print(len(people))"
   ]
  },
  {
   "cell_type": "markdown",
   "metadata": {},
   "source": [
    "2. **Contar Personas con Hijos**: \n",
    "   Crea un programa que cuente cuántas personas tienen al menos un hijo. Imprime el número de estas personas."
   ]
  },
  {
   "cell_type": "code",
   "execution_count": null,
   "metadata": {},
   "outputs": [],
   "source": [
    "# tu pseudocodigo aquí"
   ]
  },
  {
   "cell_type": "code",
   "execution_count": 63,
   "metadata": {},
   "outputs": [
    {
     "name": "stdout",
     "output_type": "stream",
     "text": [
      "5\n"
     ]
    }
   ],
   "source": [
    "padres=0\n",
    "for persona in people:\n",
    "    if persona['n_kids'] > 0:\n",
    "        padres+=1\n",
    "\n",
    "print(padres)\n",
    "        "
   ]
  },
  {
   "cell_type": "markdown",
   "metadata": {},
   "source": [
    "3. **Contar Hijos Totales**: \n",
    "   Escribe un programa que calcule cuántos hijos hay en total entre todas las personas de la lista. Imprime el total."
   ]
  },
  {
   "cell_type": "code",
   "execution_count": null,
   "metadata": {},
   "outputs": [],
   "source": [
    "# tu pseudocodigo aquí"
   ]
  },
  {
   "cell_type": "code",
   "execution_count": 64,
   "metadata": {},
   "outputs": [
    {
     "name": "stdout",
     "output_type": "stream",
     "text": [
      "13\n"
     ]
    }
   ],
   "source": [
    "hijos=0\n",
    "for persona in people:\n",
    "    if persona['n_kids'] > 0:\n",
    "        hijos+=persona['n_kids']\n",
    "\n",
    "print(hijos)"
   ]
  },
  {
   "cell_type": "markdown",
   "metadata": {},
   "source": [
    "4. **Promedio de Edad**: \n",
    "   Calcula y muestra la edad promedio de las personas en la lista."
   ]
  },
  {
   "cell_type": "code",
   "execution_count": null,
   "metadata": {},
   "outputs": [],
   "source": [
    "# tu pseudocodigo aquí"
   ]
  },
  {
   "cell_type": "code",
   "execution_count": 65,
   "metadata": {},
   "outputs": [
    {
     "name": "stdout",
     "output_type": "stream",
     "text": [
      "36.285714285714285\n"
     ]
    }
   ],
   "source": [
    "total_age=0\n",
    "for persona in people:\n",
    "    total_age+=persona['age']\n",
    "\n",
    "print(total_age/len(people))"
   ]
  },
  {
   "cell_type": "markdown",
   "metadata": {},
   "source": [
    "5. **Lista de Personas que Terminan en 'a'**: \n",
    "   Genera una lista con los nombres de las personas cuyo nombre termina en \"a\". Imprime esta lista."
   ]
  },
  {
   "cell_type": "code",
   "execution_count": null,
   "metadata": {},
   "outputs": [],
   "source": [
    "# tu pseudocodigo aquí"
   ]
  },
  {
   "cell_type": "code",
   "execution_count": 67,
   "metadata": {},
   "outputs": [
    {
     "name": "stdout",
     "output_type": "stream",
     "text": [
      "['Sonia', 'Lucía', 'Marta']\n"
     ]
    }
   ],
   "source": [
    "nombres_a=[]\n",
    "\n",
    "for persona in people:\n",
    "    if persona['name'][-1]=='a':\n",
    "        nombres_a.append(persona['name'])\n",
    "\n",
    "print(nombres_a)"
   ]
  },
  {
   "cell_type": "markdown",
   "metadata": {},
   "source": [
    "6. **Actualizar Información por Año**: \n",
    "   En un año, las personas cuyos nombres terminan en \"a\" tendrán un niño extra. Crea una nueva lista de diccionarios con la información actualizada de las personas (edad incrementada en 1 y `n_kids` aumentado en 1 para las que terminan en \"a\"). Imprime esta nueva lista."
   ]
  },
  {
   "cell_type": "code",
   "execution_count": null,
   "metadata": {},
   "outputs": [],
   "source": [
    "# tu pseudocodigo aquí"
   ]
  },
  {
   "cell_type": "code",
   "execution_count": 68,
   "metadata": {},
   "outputs": [
    {
     "name": "stdout",
     "output_type": "stream",
     "text": [
      "[{'name': 'Juan', 'age': 34, 'n_kids': 2, 'city': 'Madrid'}, {'name': 'Pepe', 'age': 27, 'n_kids': 0, 'city': 'Barcelona'}, {'name': 'Sonia', 'age': 41, 'n_kids': 2, 'city': 'Valencia'}, {'name': 'Lucía', 'age': 22, 'n_kids': 3, 'city': 'Sevilla'}, {'name': 'Leo', 'age': 55, 'n_kids': 5, 'city': 'Bilbao'}, {'name': 'Marta', 'age': 30, 'n_kids': 4, 'city': 'Zaragoza'}, {'name': 'Carlos', 'age': 45, 'n_kids': 0, 'city': 'Granada'}]\n"
     ]
    }
   ],
   "source": [
    "count=0\n",
    "for persona in people:\n",
    "    if persona['name'] in nombres_a:\n",
    "        people[count]['n_kids']+=1\n",
    "    count+=1\n",
    "print(people)"
   ]
  }
 ],
 "metadata": {
  "kernelspec": {
   "display_name": "Python 3 (ipykernel)",
   "language": "python",
   "name": "python3"
  },
  "language_info": {
   "codemirror_mode": {
    "name": "ipython",
    "version": 3
   },
   "file_extension": ".py",
   "mimetype": "text/x-python",
   "name": "python",
   "nbconvert_exporter": "python",
   "pygments_lexer": "ipython3",
   "version": "3.10.12"
  },
  "toc": {
   "base_numbering": 1,
   "nav_menu": {},
   "number_sections": false,
   "sideBar": true,
   "skip_h1_title": false,
   "title_cell": "Table of Contents",
   "title_sidebar": "Contents",
   "toc_cell": false,
   "toc_position": {},
   "toc_section_display": true,
   "toc_window_display": true
  },
  "varInspector": {
   "cols": {
    "lenName": 16,
    "lenType": 16,
    "lenVar": 40
   },
   "kernels_config": {
    "python": {
     "delete_cmd_postfix": "",
     "delete_cmd_prefix": "del ",
     "library": "var_list.py",
     "varRefreshCmd": "print(var_dic_list())"
    },
    "r": {
     "delete_cmd_postfix": ") ",
     "delete_cmd_prefix": "rm(",
     "library": "var_list.r",
     "varRefreshCmd": "cat(var_dic_list()) "
    }
   },
   "types_to_exclude": [
    "module",
    "function",
    "builtin_function_or_method",
    "instance",
    "_Feature"
   ],
   "window_display": false
  },
  "vscode": {
   "interpreter": {
    "hash": "aee8b7b246df8f9039afb4144a1f6fd8d2ca17a180786b69acc140d282b71a49"
   }
  }
 },
 "nbformat": 4,
 "nbformat_minor": 4
}
