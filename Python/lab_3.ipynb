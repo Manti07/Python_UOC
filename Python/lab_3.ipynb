{
 "cells": [
  {
   "cell_type": "markdown",
   "metadata": {},
   "source": [
    "### **Problemas de Comprensión de Listas, Tuplas y Diccionarios**\n",
    "\n",
    "1. Usa una list comprehension para crear e imprimir una lista de enteros consecutivos que comience con 1 y termine con 50.\n",
    "   "
   ]
  },
  {
   "cell_type": "code",
   "execution_count": 3,
   "metadata": {},
   "outputs": [
    {
     "data": {
      "text/plain": [
       "[1,\n",
       " 2,\n",
       " 3,\n",
       " 4,\n",
       " 5,\n",
       " 6,\n",
       " 7,\n",
       " 8,\n",
       " 9,\n",
       " 10,\n",
       " 11,\n",
       " 12,\n",
       " 13,\n",
       " 14,\n",
       " 15,\n",
       " 16,\n",
       " 17,\n",
       " 18,\n",
       " 19,\n",
       " 20,\n",
       " 21,\n",
       " 22,\n",
       " 23,\n",
       " 24,\n",
       " 25,\n",
       " 26,\n",
       " 27,\n",
       " 28,\n",
       " 29,\n",
       " 30,\n",
       " 31,\n",
       " 32,\n",
       " 33,\n",
       " 34,\n",
       " 35,\n",
       " 36,\n",
       " 37,\n",
       " 38,\n",
       " 39,\n",
       " 40,\n",
       " 41,\n",
       " 42,\n",
       " 43,\n",
       " 44,\n",
       " 45,\n",
       " 46,\n",
       " 47,\n",
       " 48,\n",
       " 49,\n",
       " 50]"
      ]
     },
     "execution_count": 3,
     "metadata": {},
     "output_type": "execute_result"
    }
   ],
   "source": [
    "lista=[i for i in range(1,51)]\n",
    "lista"
   ]
  },
  {
   "cell_type": "markdown",
   "metadata": {},
   "source": [
    "2. Usa una list comprehension para crear y imprimir una lista de números pares entre 2 y 200."
   ]
  },
  {
   "cell_type": "code",
   "execution_count": 5,
   "metadata": {},
   "outputs": [
    {
     "data": {
      "text/plain": [
       "[0,\n",
       " 2,\n",
       " 4,\n",
       " 6,\n",
       " 8,\n",
       " 10,\n",
       " 12,\n",
       " 14,\n",
       " 16,\n",
       " 18,\n",
       " 20,\n",
       " 22,\n",
       " 24,\n",
       " 26,\n",
       " 28,\n",
       " 30,\n",
       " 32,\n",
       " 34,\n",
       " 36,\n",
       " 38,\n",
       " 40,\n",
       " 42,\n",
       " 44,\n",
       " 46,\n",
       " 48,\n",
       " 50,\n",
       " 52,\n",
       " 54,\n",
       " 56,\n",
       " 58,\n",
       " 60,\n",
       " 62,\n",
       " 64,\n",
       " 66,\n",
       " 68,\n",
       " 70,\n",
       " 72,\n",
       " 74,\n",
       " 76,\n",
       " 78,\n",
       " 80,\n",
       " 82,\n",
       " 84,\n",
       " 86,\n",
       " 88,\n",
       " 90,\n",
       " 92,\n",
       " 94,\n",
       " 96,\n",
       " 98,\n",
       " 100,\n",
       " 102,\n",
       " 104,\n",
       " 106,\n",
       " 108,\n",
       " 110,\n",
       " 112,\n",
       " 114,\n",
       " 116,\n",
       " 118,\n",
       " 120,\n",
       " 122,\n",
       " 124,\n",
       " 126,\n",
       " 128,\n",
       " 130,\n",
       " 132,\n",
       " 134,\n",
       " 136,\n",
       " 138,\n",
       " 140,\n",
       " 142,\n",
       " 144,\n",
       " 146,\n",
       " 148,\n",
       " 150,\n",
       " 152,\n",
       " 154,\n",
       " 156,\n",
       " 158,\n",
       " 160,\n",
       " 162,\n",
       " 164,\n",
       " 166,\n",
       " 168,\n",
       " 170,\n",
       " 172,\n",
       " 174,\n",
       " 176,\n",
       " 178,\n",
       " 180,\n",
       " 182,\n",
       " 184,\n",
       " 186,\n",
       " 188,\n",
       " 190,\n",
       " 192,\n",
       " 194,\n",
       " 196,\n",
       " 198,\n",
       " 200]"
      ]
     },
     "execution_count": 5,
     "metadata": {},
     "output_type": "execute_result"
    }
   ],
   "source": [
    "lista_pares= [i for i in range(0,201, 2)]\n",
    "lista_pares"
   ]
  },
  {
   "cell_type": "markdown",
   "metadata": {},
   "source": [
    "3. Dado el siguiente array de 10 x 4:\n",
    "   \n",
    "    array_10x4 = [\n",
    "        [0.1, 0.2, 0.3, 0.4],\n",
    "        [0.5, 0.6, 0.7, 0.8],\n",
    "        [0.9, 1.0, 1.1, 1.2],\n",
    "        [1.3, 1.4, 1.5, 1.6],\n",
    "        [1.7, 1.8, 1.9, 2.0],\n",
    "        [2.1, 2.2, 2.3, 2.4],\n",
    "        [2.5, 2.6, 2.7, 2.8],\n",
    "        [2.9, 3.0, 3.1, 3.2],\n",
    "        [3.3, 3.4, 3.5, 3.6],\n",
    "        [3.7, 3.8, 3.9, 4.0]\n",
    "    ]\n",
    "   \n",
    "   Usa una comprensión de lista para crear e imprimir una lista que contenga todos los elementos de este array (aplanar la lista)."
   ]
  },
  {
   "cell_type": "code",
   "execution_count": 7,
   "metadata": {},
   "outputs": [
    {
     "name": "stdout",
     "output_type": "stream",
     "text": [
      "[0.1, 0.2, 0.3, 0.4, 0.5, 0.6, 0.7, 0.8, 0.9, 1.0, 1.1, 1.2, 1.3, 1.4, 1.5, 1.6, 1.7, 1.8, 1.9, 2.0, 2.1, 2.2, 2.3, 2.4, 2.5, 2.6, 2.7, 2.8, 2.9, 3.0, 3.1, 3.2, 3.3, 3.4, 3.5, 3.6, 3.7, 3.8, 3.9, 4.0]\n"
     ]
    }
   ],
   "source": [
    " array_10x4 = [\n",
    "        [0.1, 0.2, 0.3, 0.4],\n",
    "        [0.5, 0.6, 0.7, 0.8],\n",
    "        [0.9, 1.0, 1.1, 1.2],\n",
    "        [1.3, 1.4, 1.5, 1.6],\n",
    "        [1.7, 1.8, 1.9, 2.0],\n",
    "        [2.1, 2.2, 2.3, 2.4],\n",
    "        [2.5, 2.6, 2.7, 2.8],\n",
    "        [2.9, 3.0, 3.1, 3.2],\n",
    "        [3.3, 3.4, 3.5, 3.6],\n",
    "        [3.7, 3.8, 3.9, 4.0]\n",
    "    ]\n",
    "flattened_list= [item for listin in array_10x4 for item in listin]\n",
    "print(flattened_list)"
   ]
  },
  {
   "cell_type": "markdown",
   "metadata": {},
   "source": [
    "4. Añade una condición a la comprensión de lista anterior para que solo se impriman los valores mayores o iguales a 0.5.\n"
   ]
  },
  {
   "cell_type": "code",
   "execution_count": 8,
   "metadata": {},
   "outputs": [
    {
     "name": "stdout",
     "output_type": "stream",
     "text": [
      "[0.5, 0.6, 0.7, 0.8, 0.9, 1.0, 1.1, 1.2, 1.3, 1.4, 1.5, 1.6, 1.7, 1.8, 1.9, 2.0, 2.1, 2.2, 2.3, 2.4, 2.5, 2.6, 2.7, 2.8, 2.9, 3.0, 3.1, 3.2, 3.3, 3.4, 3.5, 3.6, 3.7, 3.8, 3.9, 4.0]\n"
     ]
    }
   ],
   "source": [
    "cond_flat_list= [item for listin in array_10x4 for item in listin if item >= 0.5]\n",
    "print(cond_flat_list)"
   ]
  },
  {
   "cell_type": "markdown",
   "metadata": {},
   "source": [
    "5. Dado el siguiente array de 5 x 2 x 3:\n",
    "   \n",
    "   array_5x2x3 = [\n",
    "        [[0.1, 0.2, 0.3], [0.4, 0.5, 0.6]],\n",
    "        [[0.7, 0.8, 0.9], [1.0, 1.1, 1.2]],\n",
    "        [[1.3, 1.4, 1.5], [1.6, 1.7, 1.8]],\n",
    "        [[1.9, 2.0, 2.1], [2.2, 2.3, 2.4]],\n",
    "        [[2.5, 2.6, 2.7], [2.8, 2.9, 3.0]]\n",
    "    ]\n",
    "   \n",
    "   Usa una comprensión de lista para crear e imprimir una lista que contenga todos los elementos de este array (aplanar la lista).\n"
   ]
  },
  {
   "cell_type": "code",
   "execution_count": 12,
   "metadata": {},
   "outputs": [
    {
     "name": "stdout",
     "output_type": "stream",
     "text": [
      "[0.1, 0.2, 0.3, 0.4, 0.5, 0.6, 0.7, 0.8, 0.9, 1.0, 1.1, 1.2, 1.3, 1.4, 1.5, 1.6, 1.7, 1.8, 1.9, 2.0, 2.1, 2.2, 2.3, 2.4, 2.5, 2.6, 2.7, 2.8, 2.9, 3.0]\n"
     ]
    }
   ],
   "source": [
    "array_5x2x3 = [\n",
    "        [[0.1, 0.2, 0.3], [0.4, 0.5, 0.6]],\n",
    "        [[0.7, 0.8, 0.9], [1.0, 1.1, 1.2]],\n",
    "        [[1.3, 1.4, 1.5], [1.6, 1.7, 1.8]],\n",
    "        [[1.9, 2.0, 2.1], [2.2, 2.3, 2.4]],\n",
    "        [[2.5, 2.6, 2.7], [2.8, 2.9, 3.0]]\n",
    "    ]\n",
    "\n",
    "more_flat = [k for i in array_5x2x3 for j in i for k in j]\n",
    "print(more_flat)"
   ]
  },
  {
   "cell_type": "markdown",
   "metadata": {},
   "source": [
    "6. Añade una condición a la comprensión de lista anterior para que se imprima el último valor en cada subarray, pero solo si es menor o igual a 0.5."
   ]
  },
  {
   "cell_type": "code",
   "execution_count": 13,
   "metadata": {},
   "outputs": [
    {
     "name": "stdout",
     "output_type": "stream",
     "text": [
      "[0.3]\n"
     ]
    }
   ],
   "source": [
    "more_flat_cond = [j[-1] for i in array_5x2x3 for j in i if j[-1] <= 0.5]\n",
    "print(more_flat_cond)"
   ]
  },
  {
   "cell_type": "markdown",
   "metadata": {},
   "source": [
    "7. Usa una comprensión de lista para crear una lista de los primeros 10 números impares, comenzando desde 1."
   ]
  },
  {
   "cell_type": "code",
   "execution_count": 17,
   "metadata": {},
   "outputs": [
    {
     "name": "stdout",
     "output_type": "stream",
     "text": [
      "[1, 3, 5, 7, 9, 11, 13, 15, 17, 19, 21]\n"
     ]
    }
   ],
   "source": [
    "odds=[]\n",
    "odds= [i for i in range(0,22) if (i%2==1 and len(odds)<10) ]\n",
    "print(odds)"
   ]
  },
  {
   "cell_type": "markdown",
   "metadata": {},
   "source": [
    "#### **Medio**\n",
    "8. Dada la cadena `\"programming\"`, usa una comprensión de diccionario para contar la frecuencia de cada letra en la cadena."
   ]
  },
  {
   "cell_type": "code",
   "execution_count": 19,
   "metadata": {},
   "outputs": [
    {
     "data": {
      "text/plain": [
       "{'i': 1, 'm': 2, 'a': 1, 'g': 2, 'o': 1, 'p': 1, 'r': 2, 'n': 1}"
      ]
     },
     "execution_count": 19,
     "metadata": {},
     "output_type": "execute_result"
    }
   ],
   "source": [
    "cadena= 'programming'\n",
    "lettering = {letter: cadena.count(letter)  for letter in set(cadena) }\n",
    "lettering"
   ]
  },
  {
   "cell_type": "markdown",
   "metadata": {},
   "source": [
    "9. Crea una lista de tuplas que contenga cada número del 1 al 10 y su cuadrado utilizando una comprensión de lista."
   ]
  },
  {
   "cell_type": "code",
   "execution_count": 21,
   "metadata": {},
   "outputs": [
    {
     "data": {
      "text/plain": [
       "[(1, 1),\n",
       " (2, 4),\n",
       " (3, 9),\n",
       " (4, 16),\n",
       " (5, 25),\n",
       " (6, 36),\n",
       " (7, 49),\n",
       " (8, 64),\n",
       " (9, 81),\n",
       " (10, 100)]"
      ]
     },
     "execution_count": 21,
     "metadata": {},
     "output_type": "execute_result"
    }
   ],
   "source": [
    "tuple_list = [(i , i**2) for i in range(1,11)]\n",
    "tuple_list"
   ]
  },
  {
   "cell_type": "markdown",
   "metadata": {},
   "source": [
    "10. Dada la lista mixta:\n",
    "    \n",
    "    lista_mixta = [1, 'hola', 3, 'mundo', 5, 'python', 7, 'programacion']\n",
    "    \n",
    "    Usa una comprensión de lista para extraer solo los elementos que son cadenas."
   ]
  },
  {
   "cell_type": "code",
   "execution_count": 24,
   "metadata": {},
   "outputs": [
    {
     "data": {
      "text/plain": [
       "['hola', 'mundo', 'python', 'programacion']"
      ]
     },
     "execution_count": 24,
     "metadata": {},
     "output_type": "execute_result"
    }
   ],
   "source": [
    "lista_mixta = [1, 'hola', 3, 'mundo', 5, 'python', 7, 'programacion']\n",
    "string_list = [item for item in lista_mixta if type(item)==str]\n",
    "string_list"
   ]
  },
  {
   "cell_type": "markdown",
   "metadata": {},
   "source": [
    "11. Dada la lista de números:\n",
    "    \n",
    "    numeros = [1, 2, 3, 4, 5, 6, 7, 8, 9, 10]\n",
    "\n",
    "    Crea un diccionario que contenga el cuadrado de cada número utilizando una comprensión de diccionario."
   ]
  },
  {
   "cell_type": "code",
   "execution_count": 26,
   "metadata": {},
   "outputs": [
    {
     "data": {
      "text/plain": [
       "{1: 1, 2: 4, 3: 9, 4: 16, 5: 25, 6: 36, 7: 49, 8: 64, 9: 81, 10: 100}"
      ]
     },
     "execution_count": 26,
     "metadata": {},
     "output_type": "execute_result"
    }
   ],
   "source": [
    "numeros = [1, 2, 3, 4, 5, 6, 7, 8, 9, 10]\n",
    "\n",
    "dict_num_squared= { i : i**2 for i in numeros}\n",
    "dict_num_squared"
   ]
  },
  {
   "cell_type": "markdown",
   "metadata": {},
   "source": [
    "12. Dada una lista de diccionarios:\n",
    "    \n",
    "    estudiantes = [\n",
    "         {'nombre': 'Juan', 'edad': 20},\n",
    "         {'nombre': 'Ana', 'edad': 17},\n",
    "         {'nombre': 'Luis', 'edad': 19},\n",
    "         {'nombre': 'Pedro', 'edad': 22},\n",
    "         {'nombre': 'Maria', 'edad': 15}\n",
    "     ]\n",
    "    \n",
    "    Usa una comprensión de lista para crear una lista de los nombres de los estudiantes que tienen una edad mayor a 18."
   ]
  },
  {
   "cell_type": "code",
   "execution_count": 29,
   "metadata": {},
   "outputs": [
    {
     "data": {
      "text/plain": [
       "['Juan', 'Luis', 'Pedro']"
      ]
     },
     "execution_count": 29,
     "metadata": {},
     "output_type": "execute_result"
    }
   ],
   "source": [
    "estudiantes = [\n",
    "         {'nombre': 'Juan', 'edad': 20},\n",
    "         {'nombre': 'Ana', 'edad': 17},\n",
    "         {'nombre': 'Luis', 'edad': 19},\n",
    "         {'nombre': 'Pedro', 'edad': 22},\n",
    "         {'nombre': 'Maria', 'edad': 15}\n",
    "     ]\n",
    "\n",
    "\n",
    "estudiantes_mayores = [estudiante['nombre'] for estudiante in estudiantes if estudiante['edad']>18 ]\n",
    "estudiantes_mayores"
   ]
  },
  {
   "cell_type": "markdown",
   "metadata": {},
   "source": [
    "13. Dada la lista:\n",
    "\n",
    "     mezclados = ['a', 1, 'b', 2, 'c', 3, 'd', 4]\n",
    "\n",
    "    Crea una lista que contenga solo los números usando una comprensión de lista.\n"
   ]
  },
  {
   "cell_type": "code",
   "execution_count": 32,
   "metadata": {},
   "outputs": [
    {
     "data": {
      "text/plain": [
       "[1, 2, 3, 4]"
      ]
     },
     "execution_count": 32,
     "metadata": {},
     "output_type": "execute_result"
    }
   ],
   "source": [
    "mezclados = ['a', 1, 'b', 2, 'c', 3, 'd', 4]\n",
    "numer_list= [item for item in mezclados if type(item)== int]\n",
    "numer_list"
   ]
  },
  {
   "cell_type": "markdown",
   "metadata": {},
   "source": [
    "#### **Avanzado**\n",
    "\n",
    "14. Dada la lista de temperaturas en Celsius:\n",
    "\n",
    "    temperaturas_celsius = [0, 20, 100, -10, 37]\n",
    "\n",
    "    Usa una comprensión de lista para convertirlas a Fahrenheit y crear una lista de tuplas donde cada tupla contenga la temperatura en Celsius y su equivalente en Fahrenheit.\n"
   ]
  },
  {
   "cell_type": "code",
   "execution_count": 34,
   "metadata": {},
   "outputs": [
    {
     "data": {
      "text/plain": [
       "[(0, 32.0), (20, 68.0), (100, 212.0), (-10, 14.0), (37, 98.60000000000001)]"
      ]
     },
     "execution_count": 34,
     "metadata": {},
     "output_type": "execute_result"
    }
   ],
   "source": [
    "temperaturas_celsius = [0, 20, 100, -10, 37]\n",
    "\n",
    "relacion_temperaturas= [ (C_temp, 9/5*C_temp + 32 )  for C_temp in temperaturas_celsius]\n",
    "relacion_temperaturas"
   ]
  },
  {
   "cell_type": "markdown",
   "metadata": {},
   "source": [
    "15. Dada la lista de estudiantes con sus calificaciones:\n",
    "\n",
    "    estudiantes = [\n",
    "         {'nombre': 'Juan', 'calificacion': 85},\n",
    "         {'nombre': 'Ana', 'calificacion': 60},\n",
    "         {'nombre': 'Luis', 'calificacion': 75},\n",
    "         {'nombre': 'Pedro', 'calificacion': 50},\n",
    "         {'nombre': 'Maria', 'calificacion': 90}\n",
    "     ]\n",
    "\n",
    "    Crea un diccionario que contenga los nombres de los estudiantes como claves y sus calificaciones como valores, y filtra aquellos que tienen una calificación menor a 70, almacenando los resultados en una lista de tuplas.\n"
   ]
  },
  {
   "cell_type": "code",
   "execution_count": 35,
   "metadata": {},
   "outputs": [
    {
     "data": {
      "text/plain": [
       "{'Ana': 60, 'Pedro': 50}"
      ]
     },
     "execution_count": 35,
     "metadata": {},
     "output_type": "execute_result"
    }
   ],
   "source": [
    "estudiantes = [\n",
    "         {'nombre': 'Juan', 'calificacion': 85},\n",
    "         {'nombre': 'Ana', 'calificacion': 60},\n",
    "         {'nombre': 'Luis', 'calificacion': 75},\n",
    "         {'nombre': 'Pedro', 'calificacion': 50},\n",
    "         {'nombre': 'Maria', 'calificacion': 90}\n",
    "     ]\n",
    "\n",
    "resultados= {estudiante['nombre'] : estudiante['calificacion'] for estudiante in estudiantes if estudiante['calificacion']<70 }\n",
    "resultados"
   ]
  },
  {
   "cell_type": "markdown",
   "metadata": {},
   "source": [
    "16. Dada la lista de números:\n",
    "\n",
    "    numeros = [1, 2, 3, 4, 5]\n",
    "\n",
    "    Usa una comprensión de lista para generar una lista de cadenas que contenga la representación en texto de cada número, y crea una lista de tuplas donde cada tupla contenga el número y su representación en texto.\n"
   ]
  },
  {
   "cell_type": "code",
   "execution_count": 39,
   "metadata": {},
   "outputs": [
    {
     "data": {
      "text/plain": [
       "[(1, 'Uno'), (2, 'Dos'), (3, 'Tres'), (4, 'Cuatro'), (5, 'Cinco')]"
      ]
     },
     "execution_count": 39,
     "metadata": {},
     "output_type": "execute_result"
    }
   ],
   "source": [
    "numeros = [1, 2, 3, 4, 5]\n",
    "nombres = ['Uno', 'Dos', 'Tres','Cuatro','Cinco' ]\n",
    "\n",
    "list_tupl_num = [(i , nombres[i-1]) for i in numeros]\n",
    "list_tupl_num\n",
    "#####???????????????"
   ]
  },
  {
   "cell_type": "markdown",
   "metadata": {},
   "source": [
    "17. Crea una lista de tuplas que contenga solo los números de Fibonacci menores a 100 utilizando una comprensión de lista, comenzando desde 0, y en cada tupla, incluye el índice del número en la secuencia."
   ]
  },
  {
   "cell_type": "code",
   "execution_count": 63,
   "metadata": {},
   "outputs": [
    {
     "name": "stdout",
     "output_type": "stream",
     "text": [
      "[1, 2, 3, 5, 8, 13, 21, 34, 55, 89]\n"
     ]
    }
   ],
   "source": [
    "fibonaccis = [ 1, 2, 3, 5, 8, 13 , 21, 34 , 55, 89]\n",
    "\n",
    "\n",
    "fibonacci_100 = [ i for i in fibonaccis if i < 100 ]\n",
    "\n",
    "\n",
    "print(fibonacci_100)\n",
    "\n",
    "#### !!!"
   ]
  },
  {
   "cell_type": "markdown",
   "metadata": {},
   "source": [
    "18. Dado el diccionario:\n",
    "\n",
    "    datos = {'a': 5, 'b': 15, 'c': 8, 'd': 12}\n",
    "\n",
    "    Usa una comprensión de diccionario para crear un nuevo diccionario que contenga solo las claves y valores donde los valores sean mayores a 10, y almacena los resultados en una lista de tuplas.\n"
   ]
  },
  {
   "cell_type": "code",
   "execution_count": 48,
   "metadata": {},
   "outputs": [
    {
     "data": {
      "text/plain": [
       "{'b': 15, 'd': 12}"
      ]
     },
     "execution_count": 48,
     "metadata": {},
     "output_type": "execute_result"
    }
   ],
   "source": [
    "datos = {'a': 5, 'b': 15, 'c': 8, 'd': 12}\n",
    "\n",
    "dato_dict = { item : datos[item]  for item in datos.keys() if datos[item] > 10}\n",
    "dato_dict"
   ]
  },
  {
   "cell_type": "markdown",
   "metadata": {},
   "source": [
    "19. Dada la lista de listas:\n",
    "    \n",
    "    listas_numeros = [\n",
    "         [1, 2, 3],\n",
    "         [4, 5, 6],\n",
    "         [7, 8, 9],\n",
    "         [10, 11, 12]\n",
    "     ]\n",
    "\n",
    "    Usa una comprensión de lista anidada para extraer todos los elementos que son divisibles por 3 y crea una lista de tuplas donde cada tupla contenga el número y su lista de origen.\n"
   ]
  },
  {
   "cell_type": "code",
   "execution_count": 58,
   "metadata": {},
   "outputs": [
    {
     "name": "stdout",
     "output_type": "stream",
     "text": [
      "[(3, [1, 2, 3]), (6, [4, 5, 6]), (9, [7, 8, 9]), (12, [10, 11, 12])]\n"
     ]
    }
   ],
   "source": [
    "listas_numeros = [\n",
    "         [1, 2, 3],\n",
    "         [4, 5, 6],\n",
    "         [7, 8, 9],\n",
    "         [10, 11, 12]\n",
    "     ]\n",
    "lista_anidada = [(j, i) for i in listas_numeros for j in i if j % 3== 0]\n",
    "\n",
    "print(lista_anidada)"
   ]
  },
  {
   "cell_type": "markdown",
   "metadata": {},
   "source": [
    "20. Dado el texto:\n",
    "\n",
    "    texto = \"El sol brilla y la luna brilla en la noche. El sol es hermoso y la luna también es hermosa. En un día claro, el sol ilumina el paisaje y la luna refleja su luz en el agua. A veces, el cielo está nublado y el sol se oculta detrás de las nubes, pero la luna sigue brillando. Las estrellas también son visibles en la oscuridad, creando un hermoso espectáculo en el cielo. La luna llena es especialmente mágica y muchas personas la admiran en silencio. El ciclo de la luna, desde la luna nueva hasta la luna llena, es fascinante para los astrónomos y amantes de la naturaleza.\"\n",
    "\n",
    "    Crea un diccionario que contenga las palabras del texto y el número de veces que aparecen, utilizando una comprensión de diccionario, ignorando mayúsculas y minúsculas, y almacena los resultados en una lista de tuplas con la palabra y su frecuencia."
   ]
  },
  {
   "cell_type": "code",
   "execution_count": 67,
   "metadata": {},
   "outputs": [
    {
     "name": "stdout",
     "output_type": "stream",
     "text": [
      "['ilumina', 'nueva', 'claro', 'es', 'luz', 'y', 'agua', 'su', 'veces', 'a', 'noche', 'oscuridad', 'especialmente', 'oculta', 'de', 'día', 'detrás', 'el', 'la', 'cielo', 'muchas', 'se', 'en', 'las', 'sol', 'visibles', 'admiran', 'amantes', 'un', 'hasta', 'hermosa', 'está', 'creando', 'paisaje', 'también', 'silencio', 'ciclo', 'astrónomos', 'naturaleza', 'nublado', 'estrellas', 'mágica', 'hermoso', 'brillando', 'son', 'desde', 'sigue', 'fascinante', 'para', 'nubes', 'pero', 'luna', 'espectáculo', 'brilla', 'personas', 'los', 'refleja', 'llena']\n"
     ]
    }
   ],
   "source": [
    "texto = '''El sol brilla y la luna brilla en la noche. \n",
    "El sol es hermoso y la luna también es hermosa. \n",
    "En un día claro, el sol ilumina el paisaje y la luna refleja su luz en el agua. \n",
    "A veces, el cielo está nublado y el sol se oculta detrás de las nubes, pero la luna sigue brillando.\n",
    "Las estrellas también son visibles en la oscuridad, creando un hermoso espectáculo en el cielo. \n",
    "La luna llena es especialmente mágica y muchas personas la admiran en silencio. \n",
    "El ciclo de la luna, desde la luna nueva hasta la luna llena, es fascinante para los astrónomos y amantes de la naturaleza.'''\n",
    "\n",
    "frec_word= {item: texto.count(item) for item in set(texto.lower().replace('.', '').replace(',', '').split())}\n",
    "tupl_frec = [letra for letra in frec_word]\n",
    "print(tupl_frec)"
   ]
  }
 ],
 "metadata": {
  "kernelspec": {
   "display_name": "Python 3 (ipykernel)",
   "language": "python",
   "name": "python3"
  },
  "language_info": {
   "codemirror_mode": {
    "name": "ipython",
    "version": 3
   },
   "file_extension": ".py",
   "mimetype": "text/x-python",
   "name": "python",
   "nbconvert_exporter": "python",
   "pygments_lexer": "ipython3",
   "version": "3.10.12"
  },
  "vscode": {
   "interpreter": {
    "hash": "aee8b7b246df8f9039afb4144a1f6fd8d2ca17a180786b69acc140d282b71a49"
   }
  }
 },
 "nbformat": 4,
 "nbformat_minor": 4
}
