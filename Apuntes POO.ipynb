{
 "cells": [
  {
   "cell_type": "markdown",
   "id": "d4605170-f537-43e9-88e6-ebb7bc50e37c",
   "metadata": {
    "jp-MarkdownHeadingCollapsed": true
   },
   "source": [
    "# Apuntes POO"
   ]
  },
  {
   "cell_type": "markdown",
   "id": "668bd6c6-c249-425e-882c-d38ee1a4bc5d",
   "metadata": {},
   "source": [
    "## Introducción"
   ]
  },
  {
   "cell_type": "markdown",
   "id": "0c2f0987-5338-4a41-a4fe-97d58fb6ed68",
   "metadata": {},
   "source": [
    "Hay unos conceptos clave para la POO, solo empezar, las propias **classes**, siendo una plantilla que define el comportamiento y atrubitos de los objetos que nazcan de ella. Los **objetos** son instancias de la classe.\n",
    "\n",
    "Se pueden crear sub-classes o **classes hijos** que reciben todos los atributos y metodos de la classe superior.\n",
    "\n",
    "**Ventajas:**\n",
    "\n",
    "Muy modulable, mantenible y utilizado en muchos lenguajes de programación.\n",
    "\n",
    "\n",
    "**Principios:**\n",
    "\n",
    "- Herencia: Una classe puede heredar de diferentes classes padre\n",
    "\n",
    "- Polimorfismo: Objetos de diferentes classes pueden ser unidas por una classe padre\n"
   ]
  },
  {
   "cell_type": "markdown",
   "id": "514fc49d-90d9-4a44-b4b3-99240e00efcf",
   "metadata": {},
   "source": [
    "**otros** dir(<classe>) te dira todos los metodos de la classe asociada"
   ]
  },
  {
   "cell_type": "markdown",
   "id": "84fc6cd2-e54c-48d0-9bb2-f368ac77b50a",
   "metadata": {},
   "source": [
    "## Ejemplo herencia"
   ]
  },
  {
   "cell_type": "code",
   "execution_count": 26,
   "id": "d45ae445-1130-45a0-87c8-e36b4b86bf39",
   "metadata": {},
   "outputs": [
    {
     "data": {
      "text/plain": [
       "'Estamos trabajando con Circulo'"
      ]
     },
     "execution_count": 26,
     "metadata": {},
     "output_type": "execute_result"
    }
   ],
   "source": [
    "class Shape:\n",
    "    def __init__(self, name):\n",
    "        self.name= name\n",
    "\n",
    "    def get_name(self):\n",
    "        return f'Estamos trabajando con {self.name}'\n",
    "\n",
    "class Circle(Shape):\n",
    "    def __init__(self, name, radius):\n",
    "        super().__init__(name)\n",
    "        self.radius= radius\n",
    "\n",
    "    def area(self):\n",
    "        return 3.14 * self.radius**2\n",
    "\n",
    "\n",
    "Circulo= Circle('Circulo', 5)\n",
    "Circulo.area()\n",
    "\n",
    "# Ejemplo de herencia, utiliza una funcion de su padre\n",
    "Circulo.get_name()"
   ]
  },
  {
   "cell_type": "markdown",
   "id": "475ad061-7f52-4218-a8e6-8d61afc0affb",
   "metadata": {},
   "source": [
    "## Static methods"
   ]
  },
  {
   "cell_type": "markdown",
   "id": "71c9b936-3e87-410b-a047-02ce4b0571ee",
   "metadata": {},
   "source": [
    "El decorador @staticmethod, te permite utilizar las funciones de las classes sin generar una instancia. Casi como importar un paquete permitiendo juntar  los metodos y funciones"
   ]
  },
  {
   "cell_type": "code",
   "execution_count": 27,
   "id": "6f5fea37-37a2-4394-aa21-309c83916755",
   "metadata": {},
   "outputs": [
    {
     "data": {
      "text/plain": [
       "7"
      ]
     },
     "execution_count": 27,
     "metadata": {},
     "output_type": "execute_result"
    }
   ],
   "source": [
    "class math_utils:\n",
    "    @staticmethod\n",
    "    def add(x,y):\n",
    "        return x+y\n",
    "\n",
    "math_utils.add(3,4)"
   ]
  },
  {
   "cell_type": "code",
   "execution_count": 35,
   "id": "80994dcf-20a3-47f5-b001-ba8dd3a1ae6c",
   "metadata": {},
   "outputs": [
    {
     "data": {
      "text/plain": [
       "2"
      ]
     },
     "execution_count": 35,
     "metadata": {},
     "output_type": "execute_result"
    }
   ],
   "source": [
    "class Counter:\n",
    "    count= 0\n",
    "    def __init__(self):\n",
    "        Counter.count += 1\n",
    "\n",
    "count_1= Counter()\n",
    "count_2= Counter()\n",
    "\n",
    "Counter.count"
   ]
  },
  {
   "cell_type": "markdown",
   "id": "e8279bc8-946d-4c29-a015-b04a77497f2c",
   "metadata": {},
   "source": [
    "# Apuntes Funcional"
   ]
  },
  {
   "cell_type": "markdown",
   "id": "5c2359fb-d39b-4864-98ba-24bda61a88ae",
   "metadata": {},
   "source": [
    "## Funciones principales "
   ]
  },
  {
   "cell_type": "markdown",
   "id": "af8ce048-1026-4be2-8393-2ef4592dffa0",
   "metadata": {},
   "source": [
    "### Map"
   ]
  },
  {
   "cell_type": "markdown",
   "id": "f6466a19-6c8e-4015-ad46-6b4af2378b68",
   "metadata": {},
   "source": [
    "Curiosamente Map, aparte de mapear en 1 a 1 una lista aplicando una cierta funcion lambda, puede tratar con multiples listas al mismo tiempo, deteniendose cuando la mas corta finaliza."
   ]
  },
  {
   "cell_type": "code",
   "execution_count": 18,
   "id": "2a4091a8-aefe-4a57-9ba2-dfe4ccf6a296",
   "metadata": {},
   "outputs": [
    {
     "data": {
      "text/plain": [
       "[2, 8, 15, 24]"
      ]
     },
     "execution_count": 18,
     "metadata": {},
     "output_type": "execute_result"
    }
   ],
   "source": [
    "lista_1= [1,2,3,4]\n",
    "lista_2 = [2,4,5,6,7,8,9]\n",
    "\n",
    "resultado = list(map(lambda x,y : x*y , lista_1, lista_2))\n",
    "resultado"
   ]
  },
  {
   "cell_type": "code",
   "execution_count": null,
   "id": "28d210db-c4e8-4542-a56a-8b458772da42",
   "metadata": {},
   "outputs": [],
   "source": []
  },
  {
   "cell_type": "markdown",
   "id": "3379f3c4-8f79-4bb3-aa64-5728513520e7",
   "metadata": {},
   "source": [
    "### Filter"
   ]
  },
  {
   "cell_type": "markdown",
   "id": "11edbb46-b00e-44ae-a776-97e831ed94bc",
   "metadata": {},
   "source": [
    "Filtra una lista, se tiene que volver a castear a lista ya que es un objeto propio el output. **EX**"
   ]
  },
  {
   "cell_type": "code",
   "execution_count": 5,
   "id": "b054dc8a-89cb-4b4b-b476-97a6d024e031",
   "metadata": {},
   "outputs": [
    {
     "data": {
      "text/plain": [
       "['Map', 'midas', 'Barco']"
      ]
     },
     "execution_count": 5,
     "metadata": {},
     "output_type": "execute_result"
    }
   ],
   "source": [
    "Palabras = ['Map', 'Antiguo', 'midas', 'Barco']\n",
    "list(filter(lambda x: len(x)<6 , Palabras  ))"
   ]
  },
  {
   "cell_type": "code",
   "execution_count": null,
   "id": "dd0c8f90-d2a5-4a8e-8ed7-8c6868cfc55a",
   "metadata": {},
   "outputs": [],
   "source": [
    "Se puede tratar con funciones separadas"
   ]
  },
  {
   "cell_type": "code",
   "execution_count": 33,
   "id": "6686f594-30bd-4402-81ed-1e32d91aa227",
   "metadata": {},
   "outputs": [
    {
     "data": {
      "text/plain": [
       "[0, 5, 10]"
      ]
     },
     "execution_count": 33,
     "metadata": {},
     "output_type": "execute_result"
    }
   ],
   "source": [
    "def es_positivo(x):\n",
    "    return x >=0 \n",
    "\n",
    "numeros= list(range(-10, 15, 5))\n",
    "\n",
    "result = list(filter(es_positivo, numeros))\n",
    "result\n"
   ]
  },
  {
   "cell_type": "code",
   "execution_count": null,
   "id": "a8250735-0892-435a-aba5-750d951974ef",
   "metadata": {},
   "outputs": [],
   "source": []
  },
  {
   "cell_type": "code",
   "execution_count": null,
   "id": "a3262973-3cbd-4ce0-aea6-4aeebfe1592f",
   "metadata": {},
   "outputs": [],
   "source": []
  },
  {
   "cell_type": "markdown",
   "id": "a2f280f0-39e7-4af1-a813-031535ea6b12",
   "metadata": {},
   "source": [
    "### Reduce"
   ]
  },
  {
   "cell_type": "code",
   "execution_count": 15,
   "id": "05e21195-f3b8-410e-b106-4e5a5a595139",
   "metadata": {},
   "outputs": [
    {
     "data": {
      "text/plain": [
       "120"
      ]
     },
     "execution_count": 15,
     "metadata": {},
     "output_type": "execute_result"
    }
   ],
   "source": [
    "from functools import reduce\n",
    "\n",
    "num_fact = 5\n",
    "\n",
    "factorial = reduce(lambda x,y : x*y , list(range(1,num_fact+1)))\n",
    "\n",
    "factorial\n",
    "\n"
   ]
  },
  {
   "cell_type": "code",
   "execution_count": null,
   "id": "264b7212-71ad-4a5f-9400-3a9666a378ef",
   "metadata": {},
   "outputs": [],
   "source": []
  },
  {
   "cell_type": "markdown",
   "id": "7b3fa34e-a12c-4a0c-b8b9-db83a3e72281",
   "metadata": {},
   "source": [
    "**Contar ocurrencias**"
   ]
  },
  {
   "cell_type": "code",
   "execution_count": 44,
   "id": "8cb4e665-2acb-4f37-84a0-d60baa9e650b",
   "metadata": {},
   "outputs": [
    {
     "name": "stdout",
     "output_type": "stream",
     "text": [
      "10 9\n"
     ]
    }
   ],
   "source": [
    "numeros = list(range(0,10))\n",
    "\n",
    "\n",
    "\n",
    "ocurrencias = reduce( lambda x,y : x +1, numeros)\n",
    "print(len(numeros), ocurrencias)"
   ]
  },
  {
   "cell_type": "code",
   "execution_count": 41,
   "id": "23e4d3ac-8dff-43a3-9587-ed8da28ac686",
   "metadata": {},
   "outputs": [
    {
     "data": {
      "text/plain": [
       "15"
      ]
     },
     "execution_count": 41,
     "metadata": {},
     "output_type": "execute_result"
    }
   ],
   "source": [
    "numeros = list(range(0,4))\n",
    "\n",
    "suma_cuadrados = reduce( lambda x,y : x + y**2, numeros)\n",
    "suma_cuadrados"
   ]
  },
  {
   "cell_type": "markdown",
   "id": "a6067c13-22a1-4a83-bea2-a9028f517775",
   "metadata": {},
   "source": [
    "## Otras utilidades"
   ]
  },
  {
   "cell_type": "markdown",
   "id": "b5111020-11de-4d84-bec4-160942ba68fa",
   "metadata": {},
   "source": [
    "### Iterables complejos"
   ]
  },
  {
   "cell_type": "code",
   "execution_count": 23,
   "id": "583b3745-d01c-4cc5-801d-2113e4270661",
   "metadata": {},
   "outputs": [
    {
     "data": {
      "text/plain": [
       "[[2, 3, 4], [5, 6, 7], [8, 9, 10]]"
      ]
     },
     "execution_count": 23,
     "metadata": {},
     "output_type": "execute_result"
    }
   ],
   "source": [
    "matriz = [[1,2,3] , [4,5,6], [7,8,9]]\n",
    "resultado = list(map(lambda fila: list(map(lambda x: x +1, fila)), matriz))\n",
    "resultado"
   ]
  },
  {
   "cell_type": "code",
   "execution_count": 25,
   "id": "9e3647b3-aaaf-4d6d-922c-4d9fbea55a8c",
   "metadata": {},
   "outputs": [
    {
     "data": {
      "text/plain": [
       "[8.0, 9.0, 4.0]"
      ]
     },
     "execution_count": 25,
     "metadata": {},
     "output_type": "execute_result"
    }
   ],
   "source": [
    "import math\n",
    "bases = [2,3,4]\n",
    "exponentes = [3,2,1]\n",
    "\n",
    "resultado = list(map(math.pow, bases, exponentes))\n",
    "resultado"
   ]
  },
  {
   "cell_type": "code",
   "execution_count": null,
   "id": "52201542-c93c-4cf0-a535-c557b77360be",
   "metadata": {},
   "outputs": [],
   "source": []
  },
  {
   "cell_type": "code",
   "execution_count": null,
   "id": "3515437d-fbfd-49a9-8e11-007306abed86",
   "metadata": {},
   "outputs": [],
   "source": []
  },
  {
   "cell_type": "markdown",
   "id": "7a495967-4cde-41ea-be02-34291d68260b",
   "metadata": {},
   "source": [
    "### Pruebas de rendimiento"
   ]
  },
  {
   "cell_type": "code",
   "execution_count": 37,
   "id": "d8a8f41a-a36b-457f-9e22-da699b516a7b",
   "metadata": {},
   "outputs": [
    {
     "name": "stdout",
     "output_type": "stream",
     "text": [
      "Tiempo filter 1.3725764751434326\n",
      "Tiempo map 1.581346035003662\n"
     ]
    }
   ],
   "source": [
    "import time \n",
    "numeros =  list(range(10000000))\n",
    "\n",
    "start_filter = time.time()\n",
    "resultado_filter = list(filter(lambda x: x% 2 ==0, numeros))\n",
    "end_filter = time.time()\n",
    "print(f'Tiempo filter {end_filter - start_filter}')\n",
    "\n",
    "start_map = time.time()\n",
    "resultado_map = list(map(lambda x: x/ 2, numeros))\n",
    "end_map = time.time()\n",
    "print(f'Tiempo map {end_map - start_map}')"
   ]
  }
 ],
 "metadata": {
  "kernelspec": {
   "display_name": "Python 3 (ipykernel)",
   "language": "python",
   "name": "python3"
  },
  "language_info": {
   "codemirror_mode": {
    "name": "ipython",
    "version": 3
   },
   "file_extension": ".py",
   "mimetype": "text/x-python",
   "name": "python",
   "nbconvert_exporter": "python",
   "pygments_lexer": "ipython3",
   "version": "3.10.12"
  }
 },
 "nbformat": 4,
 "nbformat_minor": 5
}
